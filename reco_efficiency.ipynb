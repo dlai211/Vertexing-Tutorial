{
 "cells": [
  {
   "cell_type": "code",
   "execution_count": 5,
   "metadata": {},
   "outputs": [],
   "source": [
    "import ROOT\n",
    "import numpy as np\n",
    "import uproot\n",
    "import matplotlib.pyplot as plt\n",
    "from scipy.stats import norm"
   ]
  },
  {
   "cell_type": "code",
   "execution_count": 2,
   "metadata": {},
   "outputs": [],
   "source": [
    "root_file = \"new_pu10.root\"\n",
    "file = uproot.open(root_file)\n",
    "\n",
    "event_amvf = [file[\"amvf;1\"][\"nRecoVtx\"].array(), \n",
    "              file[\"amvf;1\"][\"nTrueVtx\"].array(),\n",
    "              file[\"amvf;1\"][\"nVtxReconstructable\"].array(),\n",
    "              file[\"amvf;1\"][\"diffx\"].array(),\n",
    "              file[\"amvf;1\"][\"diffy\"].array(),\n",
    "              file[\"amvf;1\"][\"diffz\"].array(),\n",
    "             ]\n",
    "\n",
    "event_truth = [file[\"Truth_Vertex;7\"][\"event_id\"].array(),\n",
    "               file[\"Truth_Vertex;7\"][\"truth_vtx_vx\"].array(),\n",
    "               file[\"Truth_Vertex;7\"][\"truth_vtx_vy\"].array(),\n",
    "               file[\"Truth_Vertex;7\"][\"truth_vtx_vz\"].array(),\n",
    "               file[\"Truth_Vertex;7\"][\"truth_vtx_fitted_trk_d0\"].array(),\n",
    "               file[\"Truth_Vertex;7\"][\"truth_vtx_fitted_trk_z0\"].array(),\n",
    "               file[\"Truth_Vertex;7\"][\"truth_vtx_fitted_trk_phi\"].array(),\n",
    "               file[\"Truth_Vertex;7\"][\"truth_vtx_fitted_trk_theta\"].array(),\n",
    "               file[\"Truth_Vertex;7\"][\"truth_vtx_fitted_trk_qp\"].array(),\n",
    "               file[\"Truth_Vertex;7\"][\"truth_vtx_fitted_trk_time\"].array(),\n",
    "               file[\"Truth_Vertex;7\"][\"truth_vtx_fitted_trk_vtxID\"].array(),\n",
    "               file[\"Truth_Vertex;7\"][\"truth_particle_p\"].array(),\n",
    "               file[\"Truth_Vertex;7\"][\"truth_particle_px\"].array(),\n",
    "               file[\"Truth_Vertex;7\"][\"truth_particle_py\"].array(),\n",
    "               file[\"Truth_Vertex;7\"][\"truth_particle_pz\"].array(),\n",
    "               file[\"Truth_Vertex;7\"][\"truth_particle_pt\"].array()]\n",
    "\n",
    "event_reco = [file[\"Reco_Vertex;4\"][\"event_id\"].array(),\n",
    "              file[\"Reco_Vertex;4\"][\"reco_vtx_vx\"].array(),\n",
    "              file[\"Reco_Vertex;4\"][\"reco_vtx_vy\"].array(),\n",
    "              file[\"Reco_Vertex;4\"][\"reco_vtx_vz\"].array(),\n",
    "              file[\"Reco_Vertex;4\"][\"reco_vtx_fitted_trk_d0\"].array(),\n",
    "              file[\"Reco_Vertex;4\"][\"reco_vtx_fitted_trk_z0\"].array(),\n",
    "              file[\"Reco_Vertex;4\"][\"reco_vtx_fitted_trk_phi\"].array(),\n",
    "              file[\"Reco_Vertex;4\"][\"reco_vtx_fitted_trk_theta\"].array(),\n",
    "              file[\"Reco_Vertex;4\"][\"reco_vtx_fitted_trk_qp\"].array(),\n",
    "              file[\"Reco_Vertex;4\"][\"reco_vtx_fitted_trk_time\"].array(),\n",
    "              file[\"Reco_Vertex;4\"][\"reco_vtx_fitted_trk_vtxID\"].array(), \n",
    "              file[\"Reco_Vertex;4\"][\"reco_vtx_fitquality_chiSquared\"].array(),\n",
    "              file[\"Reco_Vertex;4\"][\"reco_vtx_fitted_trk_trackWeight\"].array()]\n",
    "\n",
    "event_amvf = np.expand_dims(event_amvf, axis = -1)\n",
    "event_amvf = event_amvf.transpose((1,0,2))\n",
    "event_amvf = np.squeeze(event_amvf, axis= (2,))\n",
    "\n",
    "event_truth = np.expand_dims(event_truth, axis = -1)\n",
    "event_truth = event_truth.transpose((1,0,2))\n",
    "event_truth = np.squeeze(event_truth, axis= (2,))\n",
    "\n",
    "event_reco = np.expand_dims(event_reco, axis = -1)\n",
    "event_reco = event_reco.transpose((1,0,2))\n",
    "event_reco = np.squeeze(event_reco, axis= (2,))"
   ]
  },
  {
   "cell_type": "code",
   "execution_count": 3,
   "metadata": {},
   "outputs": [],
   "source": [
    "# save Truth Vertices and Truth Tracks, save the Reco Vertices and Reco Tracks\n",
    "reco_d0, reco_z0, reco_vx, reco_vy, reco_vz, truth_d0, truth_z0, truth_vx, truth_vy, truth_vz = [], [], [], [], [], [], [], [], [], []\n",
    "reco_phi, reco_theta, reco_qp, truth_phi, truth_theta, truth_qp = [], [], [], [], [], []\n",
    "for i in range(len(event_reco)):\n",
    "    num_track_per_vertex = np.bincount(event_reco[i][10])\n",
    "    d0, z0, phi, theta, qp = [], [], [], [], []\n",
    "    trk_count = 0\n",
    "    for j in range(len(event_reco[i][1])):\n",
    "        d0.append(event_reco[i][4][trk_count:(trk_count+num_track_per_vertex[j])])\n",
    "        z0.append(event_reco[i][5][trk_count:(trk_count+num_track_per_vertex[j])])\n",
    "        phi.append(event_reco[i][6][trk_count:(trk_count+num_track_per_vertex[j])])\n",
    "        theta.append(event_reco[i][7][trk_count:(trk_count+num_track_per_vertex[j])])\n",
    "        qp.append(event_reco[i][8][trk_count:(trk_count+num_track_per_vertex[j])])\n",
    "        trk_count += num_track_per_vertex[j]\n",
    "    reco_d0.append(d0)\n",
    "    reco_z0.append(z0)\n",
    "    reco_phi.append(phi)\n",
    "    reco_theta.append(theta)\n",
    "    reco_qp.append(qp)\n",
    "\n",
    "for i in range(len(event_truth)):\n",
    "    num_track_per_vertex = np.bincount(event_truth[i][10])\n",
    "    d0, z0, phi, theta, qp = [], [], [], [], []\n",
    "    trk_count = 0\n",
    "    for j in range(len(event_truth[i][1])):\n",
    "        d0.append(event_truth[i][4][trk_count:(trk_count+num_track_per_vertex[j])])\n",
    "        z0.append(event_truth[i][5][trk_count:(trk_count+num_track_per_vertex[j])])\n",
    "        phi.append(event_truth[i][6][trk_count:(trk_count+num_track_per_vertex[j])])\n",
    "        theta.append(event_truth[i][7][trk_count:(trk_count+num_track_per_vertex[j])])\n",
    "        qp.append(event_truth[i][8][trk_count:(trk_count+num_track_per_vertex[j])])\n",
    "        trk_count += num_track_per_vertex[j]\n",
    "    truth_d0.append(d0)\n",
    "    truth_z0.append(z0)\n",
    "    truth_phi.append(phi)\n",
    "    truth_theta.append(theta)\n",
    "    truth_qp.append(qp)"
   ]
  },
  {
   "cell_type": "code",
   "execution_count": 6,
   "metadata": {},
   "outputs": [
    {
     "name": "stdout",
     "output_type": "stream",
     "text": [
      "mean= 0.43397934904863933\n",
      "standard deviation= 0.1584400555373396\n"
     ]
    },
    {
     "data": {
      "image/png": "[encoded data removed]",
      "text/plain": [
       "<Figure size 432x288 with 1 Axes>"
      ]
     },
     "metadata": {
      "needs_background": "light"
     },
     "output_type": "display_data"
    }
   ],
   "source": [
    "m = []\n",
    "for i in range(len(event_reco)):\n",
    "    fraction = []\n",
    "    for j in range(len(event_truth[i][1])):\n",
    "\n",
    "        truthd0, truthz0, truthphi, truththeta, truthqp = truth_d0[i][j], truth_z0[i][j], truth_phi[i][j], truth_theta[i][j], truth_qp[i][j]\n",
    "        recod0, recoz0, recophi, recotheta, recoqp = event_reco[i][4], event_reco[i][5], event_reco[i][6], event_reco[i][7], event_reco[i][8]\n",
    "\n",
    "        truthz0, truthd0, truthphi, truththeta, truthqp = zip(*sorted(zip(truthz0, truthd0, truthphi, truththeta, truthqp), reverse=True))\n",
    "        recoz0, recod0, recophi, recotheta, recoqp = zip(*sorted(zip(recoz0, recod0, recophi, recotheta, recoqp), reverse=True))\n",
    "        suc_reco = 0\n",
    "        for u in range(len(truthz0)):\n",
    "            for o in range(len(recoz0)):\n",
    "                if truthz0[u] == recoz0[o] and truthd0[u] == recod0[o] and truthphi[u] == recophi[o] and truththeta[u] == recotheta[o] and truthqp[u] == recoqp[o]:\n",
    "                    suc_reco += 1\n",
    "                    break\n",
    "                else:\n",
    "                    continue\n",
    "        fraction.append(suc_reco/len(recoz0))\n",
    "    m.append(max(fraction))\n",
    "        \n",
    "(mean, stadev) = norm.fit(m)\n",
    "print('mean=', mean)\n",
    "print('standard deviation=', stadev)\n",
    "bin = np.linspace(0, 1, 101)\n",
    "plt.hist(m, bins=bin, color='green', histtype='step', label='number of vertex')\n",
    "plt.title('Truth Matching Fraction')\n",
    "plt.xlabel('Truth Matching Fraction per Vertex')\n",
    "plt.ylabel('frequence')\n",
    "plt.xticks(fontsize=10)\n",
    "plt.yticks(fontsize=10)\n",
    "plt.show()"
   ]
  },
  {
   "cell_type": "code",
   "execution_count": null,
   "metadata": {},
   "outputs": [],
   "source": [
    "# Using the given pt from the root file to save the truth information (problem)\n",
    "hs_truth_d0, hs_truth_z0, hs_truth_phi, hs_truth_theta, hs_truth_qp = [], [], [], [], []\n",
    "# Truth HS Vertices\n",
    "for i in range(len(event_truth)):\n",
    "    num_track_per_vertex = np.bincount(event_truth[i][10])\n",
    "    trk_count = 0 \n",
    "    d0, z0, phi, theta, qp = [], [], [], [], []\n",
    "    trk = 0\n",
    "    trk_init = 0\n",
    "    trk_count = 0\n",
    "    for j in range(len(event_truth[i][1])):\n",
    "        pt = event_truth[i][15][trk_count:(trk_count+num_track_per_vertex[j])]\n",
    "        pt = [i ** 2 for i in pt]\n",
    "        trk = sum(pt)\n",
    "        if trk > trk_init:\n",
    "            d0 = (event_truth[i][4][trk_count:(trk_count+num_track_per_vertex[j])])\n",
    "            z0 = (event_truth[i][5][trk_count:(trk_count+num_track_per_vertex[j])])\n",
    "            phi = (event_truth[i][6][trk_count:(trk_count+num_track_per_vertex[j])])\n",
    "            theta = (event_truth[i][7][trk_count:(trk_count+num_track_per_vertex[j])])\n",
    "            qp = (event_truth[i][8][trk_count:(trk_count+num_track_per_vertex[j])])\n",
    "            trk_init = trk\n",
    "        trk_count += num_track_per_vertex[j]\n",
    "    hs_truth_d0.append(d0)\n",
    "    hs_truth_z0.append(z0)\n",
    "    hs_truth_phi.append(phi)\n",
    "    hs_truth_theta.append(theta)\n",
    "    hs_truth_qp.append(qp)"
   ]
  },
  {
   "cell_type": "code",
   "execution_count": 10,
   "metadata": {},
   "outputs": [
    {
     "name": "stderr",
     "output_type": "stream",
     "text": [
      "<ipython-input-10-843d84c8f452>:8: RuntimeWarning: overflow encountered in true_divide\n",
      "  pt = 1 / (np.abs(event_truth[i][8][trk_count:(trk_count+num_track_per_vertex[j])])) * np.sin(event_truth[i][7][trk_count:(trk_count+num_track_per_vertex[j])])\n",
      "<ipython-input-10-843d84c8f452>:10: RuntimeWarning: overflow encountered in double_scalars\n",
      "  pt = [i ** 2 for i in pt]\n",
      "<ipython-input-10-843d84c8f452>:8: RuntimeWarning: divide by zero encountered in true_divide\n",
      "  pt = 1 / (np.abs(event_truth[i][8][trk_count:(trk_count+num_track_per_vertex[j])])) * np.sin(event_truth[i][7][trk_count:(trk_count+num_track_per_vertex[j])])\n",
      "<ipython-input-10-843d84c8f452>:8: RuntimeWarning: invalid value encountered in multiply\n",
      "  pt = 1 / (np.abs(event_truth[i][8][trk_count:(trk_count+num_track_per_vertex[j])])) * np.sin(event_truth[i][7][trk_count:(trk_count+num_track_per_vertex[j])])\n"
     ]
    }
   ],
   "source": [
    "# Using the calculated pt to save the truth information\n",
    "hs_truth_d0, hs_truth_z0, hs_truth_phi, hs_truth_theta, hs_truth_qp, ptl, hs_truth_vertex, ptl = [], [], [], [], [], [], [], []\n",
    "\n",
    "for i in range(len(event_truth)):\n",
    "    num_track_per_vertex = np.bincount(event_truth[i][10]) \n",
    "    trk_count, m0, momentum = 0, 0, []\n",
    "    for j in range(len(event_truth[i][1])): \n",
    "        pt = 1 / (np.abs(event_truth[i][8][trk_count:(trk_count+num_track_per_vertex[j])])) * np.sin(event_truth[i][7][trk_count:(trk_count+num_track_per_vertex[j])])\n",
    "        momentum.append(pt)\n",
    "        pt = [i ** 2 for i in pt]\n",
    "        mpt = sum(pt)\n",
    "        if mpt > m0:\n",
    "            v = [event_truth[i][1][j], event_truth[i][2][j], event_truth[i][3][j]]\n",
    "            d0 = (event_truth[i][4][trk_count:(trk_count+num_track_per_vertex[j])])\n",
    "            z0 = (event_truth[i][5][trk_count:(trk_count+num_track_per_vertex[j])])\n",
    "            phi = (event_truth[i][6][trk_count:(trk_count+num_track_per_vertex[j])])\n",
    "            theta = (event_truth[i][7][trk_count:(trk_count+num_track_per_vertex[j])])\n",
    "            qp = (event_truth[i][8][trk_count:(trk_count+num_track_per_vertex[j])])\n",
    "            m0 = mpt\n",
    "        mpt = 0\n",
    "        trk_count += num_track_per_vertex[j] \n",
    "    ptl.append(momentum)\n",
    "    hs_truth_vertex.append(v)\n",
    "    hs_truth_d0.append(d0)\n",
    "    hs_truth_z0.append(z0)\n",
    "    hs_truth_phi.append(phi)\n",
    "    hs_truth_theta.append(theta)\n",
    "    hs_truth_qp.append(qp)"
   ]
  },
  {
   "cell_type": "code",
   "execution_count": 15,
   "metadata": {},
   "outputs": [
    {
     "name": "stdout",
     "output_type": "stream",
     "text": [
      "calculated = given: 9943\n",
      "given pt = 0: 57\n",
      "calculated != given 57\n"
     ]
    }
   ],
   "source": [
    "# problems occur in 51, 55, 60 ... \n",
    "matched = 0 \n",
    "zero_pt = 0\n",
    "unmatched = 0\n",
    "for i in range(len(ptl)):\n",
    "    if (len(ptl[i]) - len(event_truth[i][15])) <= 0.000001:\n",
    "        matched += 1\n",
    "    if len(event_truth[i][15]) == 0:\n",
    "        zero_pt += 1\n",
    "    if (len(ptl[i]) - len(event_truth[i][15])) > 0.000001:\n",
    "        unmatched += 1\n",
    "\n",
    "print(\"calculated = given:\", matched)\n",
    "print(\"given pt = 0:\", zero_pt)\n",
    "print(\"calculated != given\", unmatched)"
   ]
  },
  {
   "cell_type": "code",
   "execution_count": 7,
   "metadata": {},
   "outputs": [],
   "source": [
    "# Using the calculated pt to save the reco information\n",
    "hs_reco_d0, hs_reco_z0, hs_reco_phi, hs_reco_theta, hs_reco_qp, hs_reco_vertex = [], [], [], [], [], []\n",
    "\n",
    "for i in range(len(event_reco)):\n",
    "    num_track_per_vertex = np.bincount(event_reco[i][10]) \n",
    "    trk_count, m0 = 0, 0\n",
    "    for j in range(len(event_reco[i][1])): \n",
    "        pt = 1 / (np.abs(event_reco[i][8][trk_count:(trk_count+num_track_per_vertex[j])])) * np.sin(event_reco[i][7][trk_count:(trk_count+num_track_per_vertex[j])])\n",
    "        pt = [i ** 2 for i in pt]\n",
    "        mpt = sum(pt)\n",
    "        if mpt > m0:\n",
    "            v = [event_reco[i][1][j], event_reco[i][2][j], event_reco[i][3][j]]\n",
    "            d0 = (event_reco[i][4][trk_count:(trk_count+num_track_per_vertex[j])])\n",
    "            z0 = (event_reco[i][5][trk_count:(trk_count+num_track_per_vertex[j])])\n",
    "            phi = (event_reco[i][6][trk_count:(trk_count+num_track_per_vertex[j])])\n",
    "            theta = (event_reco[i][7][trk_count:(trk_count+num_track_per_vertex[j])])\n",
    "            qp = (event_reco[i][8][trk_count:(trk_count+num_track_per_vertex[j])])\n",
    "            m0 = mpt\n",
    "        mpt = 0\n",
    "        trk_count += num_track_per_vertex[j] \n",
    "    hs_reco_vertex.append(v)\n",
    "    hs_reco_d0.append(d0)\n",
    "    hs_reco_z0.append(z0)\n",
    "    hs_reco_phi.append(phi)\n",
    "    hs_reco_theta.append(theta)\n",
    "    hs_reco_qp.append(qp)"
   ]
  },
  {
   "cell_type": "code",
   "execution_count": 50,
   "metadata": {},
   "outputs": [],
   "source": [
    "# Reco_HS_Efficiency = Number of Reconstructable truth HS vertex which is associated to Reconstructed Vertex / Number of Reconstructable truth HS vertex\n"
   ]
  },
  {
   "cell_type": "code",
   "execution_count": 51,
   "metadata": {},
   "outputs": [
    {
     "name": "stdout",
     "output_type": "stream",
     "text": [
      "mean= 0.6006667994805033\n",
      "standard deviation= 0.14213793905302247\n"
     ]
    },
    {
     "data": {
      "image/png": "[encoded data removed]",
      "text/plain": [
       "<Figure size 432x288 with 1 Axes>"
      ]
     },
     "metadata": {
      "needs_background": "light"
     },
     "output_type": "display_data"
    }
   ],
   "source": [
    "m = []\n",
    "for i in range(len(event_reco)):\n",
    "    fraction = []\n",
    "    for j in range(len(event_reco[i][1])):\n",
    "        suc_reco = 0\n",
    "        for u in range(len(hs_truth_z0[i])):\n",
    "            for k in range(len(reco_z0[i][j])):\n",
    "                if reco_z0[i][j][k] == hs_truth_z0[i][u] and reco_d0[i][j][k] == hs_truth_d0[i][u] and reco_phi[i][j][k] == hs_truth_phi[i][u] and reco_theta[i][j][k] == hs_truth_theta[i][u] and reco_qp[i][j][k] == hs_truth_qp[i][u]:\n",
    "                    suc_reco += 1\n",
    "                    break\n",
    "                else:\n",
    "                    continue\n",
    "        fraction.append(suc_reco/len(hs_truth_z0[i]))\n",
    "    m.append(max(fraction))\n",
    "(mean, stadev) = norm.fit(m)\n",
    "print('mean=', mean)\n",
    "print('standard deviation=', stadev)\n",
    "bin = np.linspace(0, 1, 101)\n",
    "plt.hist(m, bins=bin, color='green', histtype='step', label='number of vertex')\n",
    "plt.title('Reconstruction HS Efficiency')\n",
    "plt.xlabel('Truth Matching Fraction per Vertex')\n",
    "plt.ylabel('frequency')\n",
    "plt.xticks(fontsize=10)\n",
    "plt.yticks(fontsize=10)\n",
    "plt.show()\n"
   ]
  },
  {
   "cell_type": "code",
   "execution_count": 55,
   "metadata": {},
   "outputs": [
    {
     "name": "stdout",
     "output_type": "stream",
     "text": [
      "Reconstruction HS Efficiency: 0.5811\n"
     ]
    }
   ],
   "source": [
    "# calculation the reconstructed efficiency using the benchmark for maximum fraction to be 0.6 to become associated\n",
    "m = [i for i in m if i >= 0.6]\n",
    "print(\"Reconstruction HS Efficiency:\", len(m)/len(hs_truth_vertex))"
   ]
  },
  {
   "cell_type": "code",
   "execution_count": 16,
   "metadata": {},
   "outputs": [],
   "source": [
    "def dist_cal(list1, list2):\n",
    "    dist = np.sqrt((list1[0]-list2[0])**2 + (list1[1]-list2[1])**2 + (list1[2]-list2[2])**2)\n",
    "    return dist\n",
    "\n",
    "def print_out(list1, list2):\n",
    "    print(\"diff_x:\", list1[0]-list2[0], \"diff_y\", list1[1]-list2[1], \"diff_z\", list1[2]-list2[2])\n",
    "\n",
    "# create a list of vertices per event\n",
    "vertex_reco, vertex_truth = [], []\n",
    "for i in range(len(event_truth)):\n",
    "    temp_reco, temp_truth = [], []\n",
    "    for j in range(len(event_reco[i][1])):\n",
    "        temp_reco.append([event_reco[i][1][j], event_reco[i][2][j], event_reco[i][3][j]])\n",
    "    for k in range(len(event_truth[i][1])):\n",
    "        temp_truth.append([event_truth[i][1][k], event_truth[i][2][k], event_truth[i][3][k]])\n",
    "    vertex_reco.append(temp_reco)\n",
    "    vertex_truth.append(temp_truth)\n"
   ]
  },
  {
   "cell_type": "code",
   "execution_count": 27,
   "metadata": {},
   "outputs": [
    {
     "name": "stderr",
     "output_type": "stream",
     "text": [
      "<ipython-input-27-055c8e18f74c>:33: DeprecationWarning: In future, it will be an error for 'np.bool_' scalars to be interpreted as an index\n",
      "  TEff.Fill(Reco, localPUDensity);\n",
      "Warning in <TCanvas::Constructor>: Deleting canvas with same name: fillhist\n"
     ]
    },
    {
     "data": {
      "image/png": "[encoded data removed]",
      "text/plain": [
       "<IPython.core.display.Image object>"
      ]
     },
     "metadata": {},
     "output_type": "display_data"
    }
   ],
   "source": [
    "#To successfully reconstruct a HS, 2 tests are done: \n",
    "# 1. |reco_HS - truth_HS| < 0.1 mm\n",
    "# 2. reco_HS is the closest vertex to the truth_HS among all the vertices reconstructed in that event\n",
    "\n",
    "# local pile-up density near a vertex, defined as the number of generated vertices per unit length within a symmetrical ±2 mm longitudinal window\n",
    "\n",
    "c = ROOT.TCanvas(\"fillhist\", \"title\", 600, 400)\n",
    "#c.SetFillStyle(1001)\n",
    "TEff = ROOT.TEfficiency(\"eff\", \"HS vertex reconstuction efficiency;Local PU density;HS vertex reconstruction efficiency\", 7, 0, 3.5)\n",
    "\n",
    "long_window = 2\n",
    "for i in range(len(vertex_truth)):\n",
    "    #localPUDensity\n",
    "    nTracksInWindow = 0\n",
    "    \n",
    "    for j in range(len(vertex_truth[i])-1):\n",
    "        for k in range(j, len(vertex_truth[i])):\n",
    "            dist2 = np.abs(vertex_truth[i][j][2] - vertex_truth[i][k][2])\n",
    "            if dist2 < long_window:\n",
    "                nTracksInWindow += 1\n",
    "    \n",
    "    localPUDensity = nTracksInWindow/(2 * long_window);\n",
    "    \n",
    "    \n",
    "    #Reco Test\n",
    "    hs_dist = dist_cal(hs_truth_vertex[i], hs_reco_vertex[i])\n",
    "    \n",
    "    pu_dist = []\n",
    "    for j in range(len(vertex_reco[i])):\n",
    "        pu_dist.append(dist_cal(hs_truth_vertex[i], vertex_reco[i][j]))\n",
    "    \n",
    "    Reco = hs_dist <= 0.1 and min(pu_dist)==hs_dist\n",
    "    TEff.Fill(Reco, localPUDensity);\n",
    "\n",
    "TEff.Draw()\n",
    "c.Draw()"
   ]
  },
  {
   "cell_type": "code",
   "execution_count": 19,
   "metadata": {},
   "outputs": [
    {
     "name": "stderr",
     "output_type": "stream",
     "text": [
      "<ipython-input-19-d722d86f6766>:29: DeprecationWarning: In future, it will be an error for 'np.bool_' scalars to be interpreted as an index\n",
      "  TEff.Fill(Reco, localPUDensity);\n",
      "Warning in <TCanvas::Constructor>: Deleting canvas with same name: fillhist\n"
     ]
    },
    {
     "data": {
      "image/png": "[encoded data removed]",
      "text/plain": [
       "<IPython.core.display.Image object>"
      ]
     },
     "metadata": {},
     "output_type": "display_data"
    }
   ],
   "source": [
    "# The selection efficiency is the fraction of events where the reconstructed vertex with highest ÍpT2 is the one containing the largest total weight from true HS tracks.\n",
    "c = ROOT.TCanvas(\"fillhist\", \"title\", 600, 400)\n",
    "#c.SetFillStyle(1001)\n",
    "TEff = ROOT.TEfficiency(\"eff\", \"HS vertex selection efficiency;Local PU density;HS vertex selection efficiency\", 5, 0, 3.5)\n",
    "\n",
    "long_window = 2\n",
    "for i in range(len(vertex_truth)):\n",
    "    #localPUDensity\n",
    "    nTracksInWindow = 0\n",
    "    \n",
    "    for j in range(len(vertex_truth[i])-1):\n",
    "        for k in range(j, len(vertex_truth[i])):\n",
    "            dist2 = np.abs(vertex_truth[i][j][2] - vertex_truth[i][k][2])\n",
    "            if dist2 < long_window:\n",
    "                nTracksInWindow += 1\n",
    "    \n",
    "    localPUDensity = nTracksInWindow/(2 * long_window);\n",
    "    \n",
    "    \n",
    "    #Sel Test\n",
    "    vx = []\n",
    "    for j in range(len(event_reco[i][1])):\n",
    "        vx.append(event_reco[i][1][j])\n",
    "    \n",
    "    trk_weight_reco = event_reco[i][12]\n",
    "    trk_weight_reco, vx = zip(*sorted(zip(trk_weight_reco, vx), reverse=True))\n",
    "    \n",
    "    Sel = vx[0]==hs_truth_vertex[i]\n",
    "    TEff.Fill(Reco, localPUDensity);\n",
    "\n",
    "TEff.Draw()\n",
    "c.Draw()"
   ]
  }
 ],
 "metadata": {
  "kernelspec": {
   "display_name": "Python 3",
   "language": "python",
   "name": "python3"
  },
  "language_info": {
   "codemirror_mode": {
    "name": "ipython",
    "version": 3
   },
   "file_extension": ".py",
   "mimetype": "text/x-python",
   "name": "python",
   "nbconvert_exporter": "python",
   "pygments_lexer": "ipython3",
   "version": "3.8.5"
  }
 },
 "nbformat": 4,
 "nbformat_minor": 4
}
