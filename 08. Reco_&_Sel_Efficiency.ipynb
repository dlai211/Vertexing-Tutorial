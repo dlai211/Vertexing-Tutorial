{
 "cells": [
  {
   "cell_type": "code",
   "execution_count": 81,
   "id": "77137a4f-5ced-4620-8580-4bf1e1da387e",
   "metadata": {},
   "outputs": [],
   "source": [
    "import ROOT\n",
    "import numpy as np\n",
    "import uproot3\n",
    "import matplotlib.pyplot as plt\n",
    "from scipy.stats import norm\n",
    "import scipy\n",
    "import time"
   ]
  },
  {
   "cell_type": "code",
   "execution_count": 82,
   "id": "8f690286-595a-4a1e-9937-a28eaee9fdae",
   "metadata": {},
   "outputs": [
    {
     "data": {
      "text/plain": [
       "[b'Truth_Vertex_PV_Selected;6',\n",
       " b'Truth_Vertex_PV_Selected;5',\n",
       " b'Reco_Vertex;4',\n",
       " b'Reco_Vertex;3',\n",
       " b'amvf;1']"
      ]
     },
     "execution_count": 82,
     "metadata": {},
     "output_type": "execute_result"
    }
   ],
   "source": [
    "root_file = \"vertexperformance_AMVF.root\"\n",
    "file = uproot3.open(root_file)\n",
    "file.keys()"
   ]
  },
  {
   "cell_type": "code",
   "execution_count": 83,
   "id": "faba1405-32bf-41c8-80eb-41d5959681c1",
   "metadata": {},
   "outputs": [],
   "source": [
    "tree_truth = file['Truth_Vertex_PV_Selected;6']\n",
    "tree_reco = file['Reco_Vertex;4']"
   ]
  },
  {
   "cell_type": "code",
   "execution_count": 84,
   "id": "a5a659b5-2590-4de0-9190-dc799e08916c",
   "metadata": {},
   "outputs": [
    {
     "data": {
      "text/plain": [
       "(dict_keys(['event_id', 'truth_vtx_vx', 'truth_vtx_vy', 'truth_vtx_vz', 'truth_particle_Id', 'truth_particle_Type', 'truth_particle_process', 'truth_particle_vx', 'truth_particle_vy', 'truth_particle_vz', 'truth_particle_vt', 'truth_particle_p', 'truth_particle_px', 'truth_particle_py', 'truth_particle_pz', 'truth_particle_m', 'truth_particle_q', 'truth_particle_eta', 'truth_particle_phi', 'truth_particle_pt', 'truth_particle_vertexPrimary', 'truth_particle_vertexSecondary', 'truth_particle_particle', 'truth_particle_generation', 'truth_particle_subParticle', 'truth_vtx_fitted_trk_d0', 'truth_vtx_fitted_trk_z0', 'truth_vtx_fitted_trk_phi', 'truth_vtx_fitted_trk_theta', 'truth_vtx_fitted_trk_qp', 'truth_vtx_fitted_trk_time', 'truth_vtx_fitted_trk_err_d0', 'truth_vtx_fitted_trk_err_z0', 'truth_vtx_fitted_trk_err_phi', 'truth_vtx_fitted_trk_err_theta', 'truth_vtx_fitted_trk_err_qp', 'truth_vtx_fitted_trk_err_time', 'truth_vtx_fitted_trk_vtxID']),\n",
       " dict_keys(['event_id', 'reco_vtx_vx', 'reco_vtx_vy', 'reco_vtx_vz', 'reco_vtx_fitquality_chiSquared', 'reco_vtx_fitquality_nDoF', 'reco_vtx_err_vx_vx', 'reco_vtx_err_vx_vy', 'reco_vtx_err_vx_vz', 'reco_vtx_err_vy_vy', 'reco_vtx_err_vy_vz', 'reco_vtx_err_vz_vz', 'reco_vtx_fitted_trk_d0', 'reco_vtx_fitted_trk_z0', 'reco_vtx_fitted_trk_phi', 'reco_vtx_fitted_trk_theta', 'reco_vtx_fitted_trk_qp', 'reco_vtx_fitted_trk_time', 'reco_vtx_fitted_trk_err_d0', 'reco_vtx_fitted_trk_err_z0', 'reco_vtx_fitted_trk_err_phi', 'reco_vtx_fitted_trk_err_theta', 'reco_vtx_fitted_trk_err_qp', 'reco_vtx_fitted_trk_err_time', 'reco_vtx_fitted_trk_chi2Track', 'reco_vtx_fitted_trk_ndf', 'reco_vtx_fitted_trk_vertexCompatibility', 'reco_vtx_fitted_trk_trackWeight', 'reco_vtx_fitted_trk_vtxID']))"
      ]
     },
     "execution_count": 84,
     "metadata": {},
     "output_type": "execute_result"
    }
   ],
   "source": [
    "branches_truth = tree_truth.arrays(namedecode='utf-8')\n",
    "branches_reco = tree_reco.arrays(namedecode='utf-8')\n",
    "branches_truth.keys(), branches_reco.keys()"
   ]
  },
  {
   "cell_type": "markdown",
   "id": "c83f0bb7-fd11-44ba-9093-acfcc23ca1b4",
   "metadata": {},
   "source": [
    "## Truth Match Fraction"
   ]
  },
  {
   "cell_type": "code",
   "execution_count": 86,
   "id": "5310474d-d433-4b8b-98eb-55b7cdadff94",
   "metadata": {},
   "outputs": [],
   "source": [
    "# define variables\n",
    "event_size = 10000\n",
    "truth_d0, truth_z0, truth_phi, truth_theta, truth_qp, truth_trk_vtxid = branches_truth['truth_vtx_fitted_trk_d0'], branches_truth['truth_vtx_fitted_trk_z0'], branches_truth['truth_vtx_fitted_trk_phi'], branches_truth['truth_vtx_fitted_trk_theta'], branches_truth['truth_vtx_fitted_trk_qp'], branches_truth['truth_vtx_fitted_trk_vtxID']\n",
    "reco_d0, reco_z0, reco_phi, reco_theta, reco_qp, reco_trk_vtxid  = branches_reco['reco_vtx_fitted_trk_d0'], branches_reco['reco_vtx_fitted_trk_z0'], branches_reco['reco_vtx_fitted_trk_phi'], branches_reco['reco_vtx_fitted_trk_theta'], branches_reco['reco_vtx_fitted_trk_qp'], branches_reco['reco_vtx_fitted_trk_vtxID']"
   ]
  },
  {
   "cell_type": "code",
   "execution_count": 89,
   "id": "ee716f3c-8e76-4323-862d-6bbd62ae19bc",
   "metadata": {},
   "outputs": [
    {
     "name": "stdout",
     "output_type": "stream",
     "text": [
      "32.475687742233276 seconds\n"
     ]
    }
   ],
   "source": [
    "def array_row_intersection(a,b):\n",
    "    tmp=np.prod(np.swapaxes(a[:,:,None],1,2)==b,axis=2)\n",
    "    return a[np.sum(np.cumsum(tmp,axis=0)*tmp==1,axis=1).astype(bool)]\n",
    "start = time.time()\n",
    "\n",
    "# define variables\n",
    "truth_match_matrix = []\n",
    "\n",
    "# reshape the data into shape(:, 5)\n",
    "for i in range(event_size):\n",
    "    num_trk_truth = np.bincount(truth_trk_vtxid[i])\n",
    "    truth_trk_info_tmp = np.vstack([truth_d0[i], truth_z0[i], truth_phi[i], truth_theta[i], truth_qp[i]]).transpose()\n",
    "    truth_trk_info_tmp = np.split(truth_trk_info_tmp, np.cumsum(num_trk_truth))\n",
    "    truth_trk_info_tmp = truth_trk_info_tmp[:-1]\n",
    "    truth_trk_info.append(truth_trk_info_tmp)\n",
    "    \n",
    "    num_trk_reco = np.bincount(reco_trk_vtxid[i])\n",
    "    reco_trk_info_tmp = np.vstack([reco_d0[i], reco_z0[i], reco_phi[i], reco_theta[i], reco_qp[i]]).transpose()\n",
    "    reco_trk_info_tmp = np.split(reco_trk_info_tmp, np.cumsum(num_trk_reco))\n",
    "    reco_trk_info_tmp = reco_trk_info_tmp[:-1]\n",
    "    reco_trk_info.append(reco_trk_info_tmp)\n",
    "    \n",
    "    match_matrix = np.zeros((len(truth_trk_info_tmp), len(reco_trk_info_tmp)))\n",
    "    for j in range(len(truth_trk_info_tmp)):\n",
    "        for k in range(len(reco_trk_info_tmp)):\n",
    "            match_matrix[j, k] = len(array_row_intersection(truth_trk_info_tmp[j], reco_trk_info_tmp[k]))/len(truth_trk_info_tmp[j])\n",
    "            \n",
    "    truth_match_matrix.append(match_matrix)\n",
    "\n",
    "    \n",
    "end = time.time()\n",
    "print(end-start, 'seconds')"
   ]
  },
  {
   "cell_type": "code",
   "execution_count": 90,
   "id": "2de0d9f3-ee7a-44f7-a02a-cecfad2ef060",
   "metadata": {},
   "outputs": [
    {
     "name": "stdout",
     "output_type": "stream",
     "text": [
      "mean_event= 0.9939150097034625\n",
      "standard deviation_event= 0.024461627006272628\n"
     ]
    },
    {
     "data": {
      "image/png": "[encoded data removed]",
      "text/plain": [
       "<Figure size 432x288 with 1 Axes>"
      ]
     },
     "metadata": {
      "needs_background": "light"
     },
     "output_type": "display_data"
    },
    {
     "data": {
      "image/png": "[encoded data removed]",
      "text/plain": [
       "<Figure size 432x288 with 1 Axes>"
      ]
     },
     "metadata": {
      "needs_background": "light"
     },
     "output_type": "display_data"
    },
    {
     "name": "stdout",
     "output_type": "stream",
     "text": [
      "time_elapsed 0.8861451148986816 seconds\n"
     ]
    }
   ],
   "source": [
    "time_start = time.time()\n",
    "fig_vtx, ax_vtx = plt.subplots()\n",
    "fig_event, ax_event = plt.subplots()\n",
    "\n",
    "m_event, m_vtx = [], []\n",
    "for l in range(len(truth_match_matrix)):\n",
    "    m_event.append(np.amax(truth_match_matrix[l]))\n",
    "    for j in range(len(truth_match_matrix[l])):\n",
    "        m_vtx.append(max(truth_match_matrix[l][j]))\n",
    "        \n",
    "(mean, stadev) = norm.fit(m_event)\n",
    "print('mean_event=', mean)\n",
    "print('standard deviation_event=', stadev)\n",
    "bin = np.linspace(0, 1, 101)\n",
    "ax_event.hist(m_event, bins=bin, color='green', histtype='step', label='number of vertex')\n",
    "ax_vtx.hist(m_vtx, bins=bin, color='green', histtype='step')\n",
    "\n",
    "ax_event.set_title('Truth Matching Fraction (maximum in one event)')\n",
    "ax_vtx.set_title('Truth Matching Fraction (all vertex fractions)')\n",
    "\n",
    "ax_event.set_xlabel(\"Truth Matching Fraction per Vertex\")\n",
    "ax_event.set_ylabel(\"entries\")\n",
    "\n",
    "ax_vtx.set_xlabel(\"Truth Matching Fraction per Vertex\")\n",
    "ax_vtx.set_ylabel(\"entries\")\n",
    "\n",
    "plt.show()\n",
    "time_elapsed = (time.time() - time_start)\n",
    "print('time_elapsed', time_elapsed, 'seconds')"
   ]
  },
  {
   "cell_type": "code",
   "execution_count": 91,
   "id": "5726a3ba-8e72-4b2e-9dd2-02adebf0b685",
   "metadata": {},
   "outputs": [],
   "source": [
    "def dist_cal(list1, list2):\n",
    "    dist = np.sqrt((list1[0]-list2[0])**2 + (list1[1]-list2[1])**2 + (list1[2]-list2[2])**2)\n",
    "    return dist\n",
    "\n",
    "def print_out(list1, list2):\n",
    "    print(\"diff_x:\", list1[0]-list2[0], \"diff_y\", list1[1]-list2[1], \"diff_z\", list1[2]-list2[2])\n",
    "    \n",
    "def array_row_intersection(a,b):\n",
    "    tmp=np.prod(np.swapaxes(a[:,:,None],1,2)==b,axis=2)\n",
    "    return a[np.sum(np.cumsum(tmp,axis=0)*tmp==1,axis=1).astype(bool)]"
   ]
  },
  {
   "cell_type": "code",
   "execution_count": 92,
   "id": "2af36a7c-60b8-4b08-92a5-af29ad1940ad",
   "metadata": {},
   "outputs": [],
   "source": [
    "truth_vx, truth_vy, truth_vz = branches_truth['truth_vtx_vx'], branches_truth['truth_vtx_vy'], branches_truth['truth_vtx_vz']\n",
    "reco_vx, reco_vy, reco_vz = branches_reco['reco_vtx_vx'], branches_reco['reco_vtx_vy'], branches_reco['reco_vtx_vz']\n",
    "\n",
    "truth_vtx_info, reco_vtx_info = [], []\n",
    "for i in range(event_size):\n",
    "    \n",
    "    truth_vtx_i = np.vstack([truth_vx[i], truth_vy[i], truth_vz[i]]).transpose()\n",
    "    reco_vtx_i = np.vstack([reco_vx[i], reco_vy[i], reco_vz[i]]).transpose()\n",
    "    \n",
    "    truth_vtx_info.append(truth_vtx_i)\n",
    "    reco_vtx_info.append(reco_vtx_i)"
   ]
  },
  {
   "cell_type": "markdown",
   "id": "cb2cf3bb-2e76-4921-8de7-f29d94eccde1",
   "metadata": {},
   "source": [
    "# Reconstruction Efficiency\n",
    "### To successfully reconstruct a HS, 1 test is done: \n",
    " - |reco(max(associated number of tracks)) - truth_HS| < 0.1 mm\n",
    " \n",
    "### Local pile-up density\n",
    " - local pile-up density near a vertex, defined as the number of generated vertices per unit length within a symmetrical ±2 mm longitudinal window"
   ]
  },
  {
   "cell_type": "code",
   "execution_count": 107,
   "id": "34f5f73f-8b49-40bf-b0ae-823b42047b8c",
   "metadata": {},
   "outputs": [
    {
     "name": "stderr",
     "output_type": "stream",
     "text": [
      "/tmp/ipykernel_683/2625768462.py:44: DeprecationWarning: In future, it will be an error for 'np.bool_' scalars to be interpreted as an index\n",
      "  TEff.Fill(Reco, localPUDensity_i)\n"
     ]
    },
    {
     "name": "stdout",
     "output_type": "stream",
     "text": [
      "time_elapsed: 6.819323539733887 seconds\n"
     ]
    },
    {
     "name": "stderr",
     "output_type": "stream",
     "text": [
      "Warning in <TCanvas::Constructor>: Deleting canvas with same name: fillhist\n"
     ]
    },
    {
     "data": {
      "image/png": "[encoded data removed]",
      "text/plain": [
       "<IPython.core.display.Image object>"
      ]
     },
     "metadata": {},
     "output_type": "display_data"
    }
   ],
   "source": [
    "time_start = time.time()\n",
    "c = ROOT.TCanvas(\"fillhist\", \"title1\", 600, 400)\n",
    "TEff = ROOT.TEfficiency(\"eff\", \"HS vertex reconstuction efficiency (Athena 7 steps);Local PU density;HS vertex reconstruction efficiency\", 4, 0, 1)\n",
    "\n",
    "sel_loop, suc_recoed_vtx, localPUDensity = [], [], []\n",
    "long_window = 2\n",
    "for i in range(event_size):\n",
    "    \n",
    "    # Prepare the data\n",
    "    truth_HStrk = truth_trk_info[i][0] # Hard Scatter truth vertex is the first vertex in the event.\n",
    "    reco_trk_i = reco_trk_info[i]\n",
    "    truth_vtx_i = np.vstack([truth_vx[i], truth_vy[i], truth_vz[i]]).transpose()\n",
    "    reco_vtx_i = np.vstack([reco_vx[i], reco_vy[i], reco_vz[i]]).transpose().tolist() # had to convert to list so that it can \"zip and sorted\"\n",
    "    truth_HSvtx = truth_vtx_i[0]\n",
    "    \n",
    "    # localPUDensity\n",
    "    long_dist = truth_vz[i]\n",
    "    long_dist = [np.abs(a-long_dist[0]) for a in long_dist[1:]] # find the difference between truth vertices and truth HS vertex.\n",
    "    nVtxInWindow = len([a for a in long_dist if a < long_window]) # eliminate any greater than long_window\n",
    "        \n",
    "    localPUDensity_i = nVtxInWindow/(long_window * 2)\n",
    "    localPUDensity.append(localPUDensity_i)\n",
    "    \n",
    "    \n",
    "    #Reco Test\n",
    "    num_trk_associated = []\n",
    "\n",
    "    for k in range(len(reco_trk_i)):\n",
    "        # trk_common = [a for a in trk_reco[i][j] if a in trk_truth[i][j]]\n",
    "        num_trk_associated.append(len(array_row_intersection(truth_HStrk, reco_trk_i[k])))\n",
    "        \n",
    "    \n",
    "    num_trk_associated, reco_vtx_i = zip(*sorted(zip(num_trk_associated, reco_vtx_i), reverse=True))\n",
    "    bestRecoHSvtx_truth = reco_vtx_i[0]\n",
    "    suc_recoed_vtx.append(bestRecoHSvtx_truth)\n",
    "    \n",
    "    hs_dist = dist_cal(truth_HSvtx, bestRecoHSvtx_truth)\n",
    "    \n",
    "    # save the successfully reco-ed event ID\n",
    "    if hs_dist <= 0.1:\n",
    "        sel_loop.append(i)\n",
    "\n",
    "    Reco = hs_dist <= 0.1 \n",
    "    TEff.Fill(Reco, localPUDensity_i)\n",
    "    \n",
    "TEff.Draw()\n",
    "c.Draw()\n",
    "\n",
    "time_elapsed = (time.time() - time_start)\n",
    "print('time_elapsed:',time_elapsed, 'seconds')"
   ]
  },
  {
   "cell_type": "markdown",
   "id": "0236e2c5-fbca-4e34-8b4d-e97759bfad6a",
   "metadata": {},
   "source": [
    "# Selection Efficiency\n",
    "### To successfully selection, 1 test is done: \n",
    " - Reconstructed Vertex with max(PT^2) = [max(associated number of tracks) - HS <= 0.1]\n",
    " \n",
    "#### sidenotes: ATLAS definition - the reconstructed vertex with highest pT2 is the one containing the largest total weight from true HS tracks.\n",
    " - don't have a truth track weight output"
   ]
  },
  {
   "cell_type": "code",
   "execution_count": 105,
   "id": "9bba7d83-7a86-44cb-9101-334777301af7",
   "metadata": {},
   "outputs": [
    {
     "name": "stdout",
     "output_type": "stream",
     "text": [
      "time elapsed: 1.6370463371276855 seconds\n"
     ]
    },
    {
     "name": "stderr",
     "output_type": "stream",
     "text": [
      "Warning in <TCanvas::Constructor>: Deleting canvas with same name: fillhist\n"
     ]
    },
    {
     "data": {
      "image/png": "[encoded data removed]",
      "text/plain": [
       "<IPython.core.display.Image object>"
      ]
     },
     "metadata": {},
     "output_type": "display_data"
    }
   ],
   "source": [
    "time_start = time.time()\n",
    "c = ROOT.TCanvas(\"fillhist\", \"title\", 600, 400)\n",
    "#c.SetFillStyle(1001)\n",
    "TEff = ROOT.TEfficiency(\"eff\", \"HS vertex selection efficiency (Athena 7 steps);Local PU density;HS vertex reconstruction efficiency\", 4, 0, 1)\n",
    "long_window = 2\n",
    "for i in sel_loop:\n",
    "    \n",
    "    #Prepare the data\n",
    "    localPUDensity_i = localPUDensity[i]\n",
    "    \n",
    "    reco_vtx_i = np.vstack([reco_vx[i], reco_vy[i], reco_vz[i]]).transpose().tolist()\n",
    "    num_trk_reco = np.bincount(reco_trk_vtxid[i])\n",
    "    pt = np.split((1/(np.abs(reco_qp[i])) * np.sin(reco_theta[i])) ** 2, np.cumsum(num_trk_reco))\n",
    "    pt = [sum(i) for i in pt[:-1]]\n",
    "    reco_HSvtx = reco_vtx_i[pt.index(max(pt))]\n",
    "    \n",
    "    bestRecoHSvtx_truth = suc_recoed_vtx[i]\n",
    "    \n",
    "    #Sel Test\n",
    "\n",
    "    Sel = bestRecoHSvtx_truth == reco_HSvtx\n",
    "    TEff.Fill(Sel, localPUDensity_i)\n",
    "\n",
    "TEff.Draw()\n",
    "c.Draw()\n",
    "print(\"time elapsed:\", time.time()-time_start, \"seconds\")"
   ]
  },
  {
   "cell_type": "code",
   "execution_count": null,
   "id": "9850b0b2-14a6-46a2-bf79-d3255827a3c4",
   "metadata": {},
   "outputs": [],
   "source": []
  }
 ],
 "metadata": {
  "kernelspec": {
   "display_name": "Python 3 (ipykernel)",
   "language": "python",
   "name": "python3"
  },
  "language_info": {
   "codemirror_mode": {
    "name": "ipython",
    "version": 3
   },
   "file_extension": ".py",
   "mimetype": "text/x-python",
   "name": "python",
   "nbconvert_exporter": "python",
   "pygments_lexer": "ipython3",
   "version": "3.8.10"
  }
 },
 "nbformat": 4,
 "nbformat_minor": 5
}
