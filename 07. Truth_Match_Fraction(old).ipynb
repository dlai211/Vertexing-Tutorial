{
 "cells": [
  {
   "cell_type": "code",
   "execution_count": 1,
   "id": "8d57a3fa-6eb2-4e35-b785-90c58dd95d33",
   "metadata": {},
   "outputs": [
    {
     "name": "stdout",
     "output_type": "stream",
     "text": [
      "Welcome to JupyROOT 6.24/02\n"
     ]
    }
   ],
   "source": [
    "import ROOT\n",
    "import numpy as np\n",
    "import uproot3\n",
    "import matplotlib.pyplot as plt\n",
    "from scipy.stats import norm\n",
    "import scipy\n",
    "import time"
   ]
  },
  {
   "cell_type": "code",
   "execution_count": 2,
   "id": "e1c321cd-eb19-4844-a5bb-94148f2e0540",
   "metadata": {},
   "outputs": [],
   "source": [
    "root_file = \"dav10.root\"\n",
    "file = uproot3.open(root_file)"
   ]
  },
  {
   "cell_type": "code",
   "execution_count": 3,
   "id": "3b68e012-faf7-44dc-8e09-3fa3e111c7af",
   "metadata": {},
   "outputs": [
    {
     "data": {
      "text/plain": [
       "[b'Truth_Vertex_PV_Selected;6',\n",
       " b'Truth_Vertex_PV_Selected;5',\n",
       " b'Reco_Vertex;4',\n",
       " b'Reco_Vertex;3',\n",
       " b'amvf;1']"
      ]
     },
     "execution_count": 3,
     "metadata": {},
     "output_type": "execute_result"
    }
   ],
   "source": [
    "file.keys()"
   ]
  },
  {
   "cell_type": "code",
   "execution_count": 4,
   "id": "194412bb-1512-460e-a000-d3972b7d6d4c",
   "metadata": {},
   "outputs": [
    {
     "name": "stdout",
     "output_type": "stream",
     "text": [
      "diffx                      TStreamerSTL               asjagged(asdtype('>f4'), 10)\n",
      "diffy                      TStreamerSTL               asjagged(asdtype('>f4'), 10)\n",
      "diffz                      TStreamerSTL               asjagged(asdtype('>f4'), 10)\n",
      "nRecoVtx                   (no streamer)              asdtype('>i4')\n",
      "nTrueVtx                   (no streamer)              asdtype('>i4')\n",
      "nVtxDetectorAcceptance     (no streamer)              asdtype('>i4')\n",
      "nVtxReconstructable        (no streamer)              asdtype('>i4')\n",
      "timeMS                     (no streamer)              asdtype('>i4')\n"
     ]
    }
   ],
   "source": [
    "file['amvf;1'].show()"
   ]
  },
  {
   "cell_type": "code",
   "execution_count": 5,
   "id": "ca7f5dbf-d1c9-4901-8b3e-995cfb0945ae",
   "metadata": {},
   "outputs": [
    {
     "name": "stdout",
     "output_type": "stream",
     "text": [
      "event_id                   (no streamer)              asdtype('>i4')\n",
      "truth_vtx_vx               TStreamerSTL               asjagged(asdtype('>f8'), 10)\n",
      "truth_vtx_vy               TStreamerSTL               asjagged(asdtype('>f8'), 10)\n",
      "truth_vtx_vz               TStreamerSTL               asjagged(asdtype('>f8'), 10)\n",
      "truth_particle_Id          TStreamerSTL               asjagged(asdtype('>u8'), 10)\n",
      "truth_particle_Type        TStreamerSTL               asjagged(asdtype('>i4'), 10)\n",
      "truth_particle_process     TStreamerSTL               asjagged(asdtype('>u4'), 10)\n",
      "truth_particle_vx          TStreamerSTL               asjagged(asdtype('>f8'), 10)\n",
      "truth_particle_vy          TStreamerSTL               asjagged(asdtype('>f8'), 10)\n",
      "truth_particle_vz          TStreamerSTL               asjagged(asdtype('>f8'), 10)\n",
      "truth_particle_vt          TStreamerSTL               asjagged(asdtype('>f8'), 10)\n",
      "truth_particle_p           TStreamerSTL               asjagged(asdtype('>f8'), 10)\n",
      "truth_particle_px          TStreamerSTL               asjagged(asdtype('>f8'), 10)\n",
      "truth_particle_py          TStreamerSTL               asjagged(asdtype('>f8'), 10)\n",
      "truth_particle_pz          TStreamerSTL               asjagged(asdtype('>f8'), 10)\n",
      "truth_particle_m           TStreamerSTL               asjagged(asdtype('>f8'), 10)\n",
      "truth_particle_q           TStreamerSTL               asjagged(asdtype('>f8'), 10)\n",
      "truth_particle_eta         TStreamerSTL               asjagged(asdtype('>f8'), 10)\n",
      "truth_particle_phi         TStreamerSTL               asjagged(asdtype('>f8'), 10)\n",
      "truth_particle_pt          TStreamerSTL               asjagged(asdtype('>f8'), 10)\n",
      "truth_particle_vertexPrimary\n",
      "                           TStreamerSTL               asjagged(asdtype('>u4'), 10)\n",
      "truth_particle_vertexSecondary\n",
      "                           TStreamerSTL               asjagged(asdtype('>u4'), 10)\n",
      "truth_particle_particle    TStreamerSTL               asjagged(asdtype('>u4'), 10)\n",
      "truth_particle_generation  TStreamerSTL               asjagged(asdtype('>u4'), 10)\n",
      "truth_particle_subParticle TStreamerSTL               asjagged(asdtype('>u4'), 10)\n",
      "truth_vtx_fitted_trk_d0    TStreamerSTL               asjagged(asdtype('>f8'), 10)\n",
      "truth_vtx_fitted_trk_z0    TStreamerSTL               asjagged(asdtype('>f8'), 10)\n",
      "truth_vtx_fitted_trk_phi   TStreamerSTL               asjagged(asdtype('>f8'), 10)\n",
      "truth_vtx_fitted_trk_theta TStreamerSTL               asjagged(asdtype('>f8'), 10)\n",
      "truth_vtx_fitted_trk_qp    TStreamerSTL               asjagged(asdtype('>f8'), 10)\n",
      "truth_vtx_fitted_trk_time  TStreamerSTL               asjagged(asdtype('>f8'), 10)\n",
      "truth_vtx_fitted_trk_err_d0\n",
      "                           TStreamerSTL               asjagged(asdtype('>f8'), 10)\n",
      "truth_vtx_fitted_trk_err_z0\n",
      "                           TStreamerSTL               asjagged(asdtype('>f8'), 10)\n",
      "truth_vtx_fitted_trk_err_phi\n",
      "                           TStreamerSTL               asjagged(asdtype('>f8'), 10)\n",
      "truth_vtx_fitted_trk_err_theta\n",
      "                           TStreamerSTL               asjagged(asdtype('>f8'), 10)\n",
      "truth_vtx_fitted_trk_err_qp\n",
      "                           TStreamerSTL               asjagged(asdtype('>f8'), 10)\n",
      "truth_vtx_fitted_trk_err_time\n",
      "                           TStreamerSTL               asjagged(asdtype('>f8'), 10)\n",
      "truth_vtx_fitted_trk_vtxID TStreamerSTL               asjagged(asdtype('>i4'), 10)\n"
     ]
    }
   ],
   "source": [
    "file['Truth_Vertex_PV_Selected;6'].show()"
   ]
  },
  {
   "cell_type": "code",
   "execution_count": 6,
   "id": "087eba40-0438-4c9e-bc13-2be15fb2b0ef",
   "metadata": {},
   "outputs": [
    {
     "name": "stdout",
     "output_type": "stream",
     "text": [
      "event_id                   (no streamer)              asdtype('>i4')\n",
      "reco_vtx_vx                TStreamerSTL               asjagged(asdtype('>f8'), 10)\n",
      "reco_vtx_vy                TStreamerSTL               asjagged(asdtype('>f8'), 10)\n",
      "reco_vtx_vz                TStreamerSTL               asjagged(asdtype('>f8'), 10)\n",
      "reco_vtx_fitquality_chiSquared\n",
      "                           TStreamerSTL               asjagged(asdtype('>f8'), 10)\n",
      "reco_vtx_fitquality_nDoF   TStreamerSTL               asjagged(asdtype('>f8'), 10)\n",
      "reco_vtx_err_vx_vx         TStreamerSTL               asjagged(asdtype('>f8'), 10)\n",
      "reco_vtx_err_vx_vy         TStreamerSTL               asjagged(asdtype('>f8'), 10)\n",
      "reco_vtx_err_vx_vz         TStreamerSTL               asjagged(asdtype('>f8'), 10)\n",
      "reco_vtx_err_vy_vy         TStreamerSTL               asjagged(asdtype('>f8'), 10)\n",
      "reco_vtx_err_vy_vz         TStreamerSTL               asjagged(asdtype('>f8'), 10)\n",
      "reco_vtx_err_vz_vz         TStreamerSTL               asjagged(asdtype('>f8'), 10)\n",
      "reco_vtx_fitted_trk_d0     TStreamerSTL               asjagged(asdtype('>f8'), 10)\n",
      "reco_vtx_fitted_trk_z0     TStreamerSTL               asjagged(asdtype('>f8'), 10)\n",
      "reco_vtx_fitted_trk_phi    TStreamerSTL               asjagged(asdtype('>f8'), 10)\n",
      "reco_vtx_fitted_trk_theta  TStreamerSTL               asjagged(asdtype('>f8'), 10)\n",
      "reco_vtx_fitted_trk_qp     TStreamerSTL               asjagged(asdtype('>f8'), 10)\n",
      "reco_vtx_fitted_trk_time   TStreamerSTL               asjagged(asdtype('>f8'), 10)\n",
      "reco_vtx_fitted_trk_err_d0 TStreamerSTL               asjagged(asdtype('>f8'), 10)\n",
      "reco_vtx_fitted_trk_err_z0 TStreamerSTL               asjagged(asdtype('>f8'), 10)\n",
      "reco_vtx_fitted_trk_err_phi\n",
      "                           TStreamerSTL               asjagged(asdtype('>f8'), 10)\n",
      "reco_vtx_fitted_trk_err_theta\n",
      "                           TStreamerSTL               asjagged(asdtype('>f8'), 10)\n",
      "reco_vtx_fitted_trk_err_qp TStreamerSTL               asjagged(asdtype('>f8'), 10)\n",
      "reco_vtx_fitted_trk_err_time\n",
      "                           TStreamerSTL               asjagged(asdtype('>f8'), 10)\n",
      "reco_vtx_fitted_trk_chi2Track\n",
      "                           TStreamerSTL               asjagged(asdtype('>f8'), 10)\n",
      "reco_vtx_fitted_trk_ndf    TStreamerSTL               asjagged(asdtype('>f8'), 10)\n",
      "reco_vtx_fitted_trk_vertexCompatibility\n",
      "                           TStreamerSTL               asjagged(asdtype('>f8'), 10)\n",
      "reco_vtx_fitted_trk_trackWeight\n",
      "                           TStreamerSTL               asjagged(asdtype('>f8'), 10)\n",
      "reco_vtx_fitted_trk_vtxID  TStreamerSTL               asjagged(asdtype('>i4'), 10)\n"
     ]
    }
   ],
   "source": [
    "file['Reco_Vertex;4'].show()"
   ]
  },
  {
   "cell_type": "code",
   "execution_count": 7,
   "id": "f8bfe23e-39c2-48db-ad5d-918e4a1e309f",
   "metadata": {},
   "outputs": [],
   "source": [
    "event_amvf = [file[\"amvf;1\"][\"nRecoVtx\"].array(), \n",
    "              file[\"amvf;1\"][\"nTrueVtx\"].array(),\n",
    "              file[\"amvf;1\"][\"nVtxReconstructable\"].array(),\n",
    "              file[\"amvf;1\"][\"diffx\"].array(),\n",
    "              file[\"amvf;1\"][\"diffy\"].array(),\n",
    "              file[\"amvf;1\"][\"diffz\"].array()]\n",
    "\n",
    "event_truth = [file[\"Truth_Vertex_PV_Selected;6\"][\"event_id\"].array(),\n",
    "               file[\"Truth_Vertex_PV_Selected;6\"][\"truth_vtx_vx\"].array(),\n",
    "               file[\"Truth_Vertex_PV_Selected;6\"][\"truth_vtx_vy\"].array(),\n",
    "               file[\"Truth_Vertex_PV_Selected;6\"][\"truth_vtx_vz\"].array(),\n",
    "               file[\"Truth_Vertex_PV_Selected;6\"][\"truth_vtx_fitted_trk_d0\"].array(),\n",
    "               file[\"Truth_Vertex_PV_Selected;6\"][\"truth_vtx_fitted_trk_z0\"].array(),\n",
    "               file[\"Truth_Vertex_PV_Selected;6\"][\"truth_vtx_fitted_trk_phi\"].array(),\n",
    "               file[\"Truth_Vertex_PV_Selected;6\"][\"truth_vtx_fitted_trk_theta\"].array(),\n",
    "               file[\"Truth_Vertex_PV_Selected;6\"][\"truth_vtx_fitted_trk_qp\"].array(),\n",
    "               file[\"Truth_Vertex_PV_Selected;6\"][\"truth_vtx_fitted_trk_time\"].array(),\n",
    "               file[\"Truth_Vertex_PV_Selected;6\"][\"truth_vtx_fitted_trk_vtxID\"].array(),\n",
    "               file[\"Truth_Vertex_PV_Selected;6\"][\"truth_vtx_fitted_trk_err_z0\"].array()]\n",
    "\n",
    "event_reco = [file[\"Reco_Vertex;4\"][\"event_id\"].array(),\n",
    "              file[\"Reco_Vertex;4\"][\"reco_vtx_vx\"].array(),\n",
    "              file[\"Reco_Vertex;4\"][\"reco_vtx_vy\"].array(),\n",
    "              file[\"Reco_Vertex;4\"][\"reco_vtx_vz\"].array(),\n",
    "              file[\"Reco_Vertex;4\"][\"reco_vtx_fitted_trk_d0\"].array(),\n",
    "              file[\"Reco_Vertex;4\"][\"reco_vtx_fitted_trk_z0\"].array(),\n",
    "              file[\"Reco_Vertex;4\"][\"reco_vtx_fitted_trk_phi\"].array(),\n",
    "              file[\"Reco_Vertex;4\"][\"reco_vtx_fitted_trk_theta\"].array(),\n",
    "              file[\"Reco_Vertex;4\"][\"reco_vtx_fitted_trk_qp\"].array(),\n",
    "              file[\"Reco_Vertex;4\"][\"reco_vtx_fitted_trk_time\"].array(),\n",
    "              file[\"Reco_Vertex;4\"][\"reco_vtx_fitted_trk_vtxID\"].array(), \n",
    "              file[\"Reco_Vertex;4\"][\"reco_vtx_fitquality_chiSquared\"].array(),\n",
    "              file[\"Reco_Vertex;4\"][\"reco_vtx_fitted_trk_trackWeight\"].array(),\n",
    "              file[\"Reco_Vertex;4\"][\"reco_vtx_err_vz_vz\"].array()]\n",
    "\n",
    "event_amvf = np.expand_dims(event_amvf, axis = -1)\n",
    "event_amvf = event_amvf.transpose((1,0,2))\n",
    "event_amvf = np.squeeze(event_amvf, axis= (2,))\n",
    "\n",
    "event_truth = np.expand_dims(event_truth, axis = -1)\n",
    "event_truth = event_truth.transpose((1,0,2))\n",
    "event_truth = np.squeeze(event_truth, axis= (2,))\n",
    "\n",
    "event_reco = np.expand_dims(event_reco, axis = -1)\n",
    "event_reco = event_reco.transpose((1,0,2))\n",
    "event_reco = np.squeeze(event_reco, axis= (2,))"
   ]
  },
  {
   "cell_type": "code",
   "execution_count": 8,
   "id": "ec74e4be-368d-49e2-b048-f07d5504ab7e",
   "metadata": {},
   "outputs": [],
   "source": [
    "_nRecoVtx, _nTrueVtx, _nVtxReconstructible, _diffx, _diffy, _diffz = 0, 1, 2, 3, 4, 5\n",
    "_event_id, _truth_vtx_vx, _truth_vtx_vy, _truth_vtx_vz, _truth_trk_d0, _truth_trk_z0, _truth_trk_phi, _truth_trk_theta, _truth_trk_qp, _truth_trk_time, _truth_trk_vtxid, _truth_ptc_p, _truth_ptc_px, _truth_ptc_py, _truth_ptc_pz, _truth_ptc_pt = 0, 1, 2, 3, 4, 5, 6, 7, 8, 9, 10, 11, 12, 13, 14, 15\n",
    "_event_id, _reco_vtx_vx, _reco_vtx_vy, _reco_vtx_vz, _reco_trk_d0, _reco_trk_z0, _reco_trk_phi, _reco_trk_theta, _reco_trk_qp, _reco_trk_time, _reco_trk_vtxid, _reco_chi2, _reco_trkweight = 0, 1, 2, 3, 4, 5, 6, 7, 8, 9, 10, 11, 12"
   ]
  },
  {
   "cell_type": "code",
   "execution_count": 9,
   "id": "831353c1-1616-4814-85eb-ca598036e8a4",
   "metadata": {},
   "outputs": [
    {
     "name": "stdout",
     "output_type": "stream",
     "text": [
      "time_elapsed: 11.576621770858765 seconds\n"
     ]
    }
   ],
   "source": [
    "# save truth and reco tracks information into [[[[1, 1, 1, 1, 1], [1, 1, 1, 1, 1]]]]\n",
    "time_start = time.time()\n",
    "vtx_id_reco, vtx_reco, trk_reco, trk_weight_reco, trk_weight_sum_reco, hs_trk_reco, hs_vtx_reco = [], [], [], [], [], [], []\n",
    "\n",
    "for i in range(len(event_reco)):\n",
    "    num_trk = np.bincount(event_reco[i][_reco_trk_vtxid])\n",
    "    vtx_trk_info_tmp, vtx_trk_weight_tmp, trk_weight_sum_tmp, trk_weight_sum_reco_vtx_tmp, vtx_reco_tmp = [], [], [], [], []\n",
    "    trk_count, m0 = 0, 0\n",
    "    for j in range(len(event_reco[i][_reco_vtx_vx])):\n",
    "        trk_info_tmp, trk_weight_tmp = [], []\n",
    "\n",
    "        pt = 1 / (np.abs(event_reco[i][_reco_trk_qp][trk_count:(trk_count+num_trk[j])])) * np.sin(event_reco[i][7][trk_count:(trk_count+num_trk[j])])\n",
    "        mpt = sum([i ** 2 for i in pt])\n",
    "        trk_weight_sum_reco_vtx_tmp.append(sum(event_reco[i][_reco_trkweight][trk_count:(trk_count + num_trk[j])]))\n",
    "        vtx_reco_tmp.append([event_reco[i][_reco_vtx_vx][j], event_reco[i][_reco_vtx_vy][j], event_reco[i][_reco_vtx_vz][j]])\n",
    "        \n",
    "        for k in range(num_trk[j]):\n",
    "            trk_info_tmp.append([event_reco[i][_reco_trk_d0][trk_count + k], event_reco[i][_reco_trk_z0][trk_count + k], event_reco[i][_reco_trk_phi][trk_count + k], \n",
    "                                 event_reco[i][_reco_trk_theta][trk_count + k], event_reco[i][_reco_trk_qp][trk_count + k]])\n",
    "            trk_weight_tmp.append(event_reco[i][_reco_trkweight][trk_count + k])\n",
    "        \n",
    "        if mpt > m0:\n",
    "            hs_trk_tmp = []\n",
    "            hs_vtx_tmp = [event_reco[i][_reco_vtx_vx][j], event_reco[i][_reco_vtx_vy][j], event_reco[i][_reco_vtx_vz][j]]\n",
    "            for k in range(num_trk[j]):\n",
    "                hs_trk_tmp.append([event_reco[i][_reco_trk_d0][trk_count + k], event_reco[i][_reco_trk_z0][trk_count + k], event_reco[i][_reco_trk_phi][trk_count + k], \n",
    "                                     event_reco[i][_reco_trk_theta][trk_count + k], event_reco[i][_reco_trk_qp][trk_count + k]])\n",
    "            vtx_id_reco_tmp = j\n",
    "            m0 = mpt\n",
    "            \n",
    "        vtx_trk_info_tmp.append(trk_info_tmp)\n",
    "        vtx_trk_weight_tmp.append(trk_weight_tmp)\n",
    "        \n",
    "        trk_count += num_trk[j]\n",
    "        \n",
    "    vtx_reco.append(vtx_reco_tmp)\n",
    "    vtx_id_reco.append(vtx_id_reco_tmp)\n",
    "    trk_reco.append(vtx_trk_info_tmp)\n",
    "    trk_weight_reco.append(vtx_trk_weight_tmp)\n",
    "    trk_weight_sum_reco.append(trk_weight_sum_reco_vtx_tmp)\n",
    "    hs_trk_reco.append(hs_trk_tmp)\n",
    "    hs_vtx_reco.append(hs_vtx_tmp)\n",
    "\n",
    "time_elapsed = (time.time() - time_start)\n",
    "print(\"time_elapsed:\", time_elapsed, 'seconds')"
   ]
  },
  {
   "cell_type": "code",
   "execution_count": 10,
   "id": "6f0dd229-bdc5-4e0a-8d75-6b08f2a04656",
   "metadata": {},
   "outputs": [
    {
     "name": "stderr",
     "output_type": "stream",
     "text": [
      "/tmp/ipykernel_39/3736404149.py:9: RuntimeWarning: divide by zero encountered in true_divide\n",
      "  pt = 1 / (np.abs(event_truth[i][_truth_trk_qp][trk_count:(trk_count+num_trk[j])])) * np.sin(event_truth[i][_truth_trk_theta][trk_count:(trk_count+num_trk[j])])\n",
      "/tmp/ipykernel_39/3736404149.py:9: RuntimeWarning: invalid value encountered in multiply\n",
      "  pt = 1 / (np.abs(event_truth[i][_truth_trk_qp][trk_count:(trk_count+num_trk[j])])) * np.sin(event_truth[i][_truth_trk_theta][trk_count:(trk_count+num_trk[j])])\n",
      "/tmp/ipykernel_39/3736404149.py:9: RuntimeWarning: overflow encountered in true_divide\n",
      "  pt = 1 / (np.abs(event_truth[i][_truth_trk_qp][trk_count:(trk_count+num_trk[j])])) * np.sin(event_truth[i][_truth_trk_theta][trk_count:(trk_count+num_trk[j])])\n"
     ]
    },
    {
     "name": "stdout",
     "output_type": "stream",
     "text": [
      "time_elapsed: 10.88123869895935 seconds\n"
     ]
    }
   ],
   "source": [
    "time_start = time.time()\n",
    "vtx_truth, vtx_truth_vz, trk_truth, hs_trk_truth, pt_truth, hs_vtx_truth = [], [], [], [], [], []\n",
    "for i in range(len(event_truth)):\n",
    "    num_trk = np.bincount(event_truth[i][_truth_trk_vtxid])\n",
    "    vtx_trk_info_tmp, momentum, vtx_truth_vz_tmp, vtx_truth_tmp = [], [], [], []\n",
    "    trk_count, m0 = 0, 0\n",
    "    for j in range(len(event_truth[i][_truth_vtx_vx])):\n",
    "        trk_info_tmp = []\n",
    "        pt = 1 / (np.abs(event_truth[i][_truth_trk_qp][trk_count:(trk_count+num_trk[j])])) * np.sin(event_truth[i][_truth_trk_theta][trk_count:(trk_count+num_trk[j])])\n",
    "        momentum.append(pt)\n",
    "        mpt = sum([i ** 2 for i in pt])\n",
    "        \n",
    "        vtx_truth_vz_tmp.append(event_truth[i][_truth_vtx_vz][j])\n",
    "        vtx_truth_tmp.append([event_truth[i][_truth_vtx_vx][j], event_truth[i][_truth_vtx_vy][j], event_truth[i][_truth_vtx_vz][j]])\n",
    "        \n",
    "        for k in range(num_trk[j]):\n",
    "            trk_info_tmp.append([event_truth[i][_truth_trk_d0][trk_count + k], event_truth[i][_truth_trk_z0][trk_count + k], event_truth[i][_truth_trk_phi][trk_count + k], \n",
    "                                 event_truth[i][_truth_trk_theta][trk_count + k], event_truth[i][_truth_trk_qp][trk_count + k]])\n",
    "        \n",
    "        if mpt > m0:\n",
    "            hs_trk_tmp = []\n",
    "            hs_vtx_tmp = [event_truth[i][_truth_vtx_vx][j], event_truth[i][_truth_vtx_vy][j], event_truth[i][_truth_vtx_vz][j]]\n",
    "            for k in range(num_trk[j]):\n",
    "                hs_trk_tmp.append([event_truth[i][_truth_trk_d0][trk_count + k], event_truth[i][_truth_trk_z0][trk_count + k], event_truth[i][_truth_trk_phi][trk_count + k], \n",
    "                                 event_truth[i][_truth_trk_theta][trk_count + k], event_truth[i][_truth_trk_qp][trk_count + k]])\n",
    "            m0 = mpt\n",
    "        \n",
    "        vtx_trk_info_tmp.append(trk_info_tmp)\n",
    "        trk_count += num_trk[j]\n",
    "    vtx_truth.append(vtx_truth_tmp)\n",
    "    vtx_truth_vz.append(vtx_truth_vz_tmp)\n",
    "    pt_truth.append(momentum)\n",
    "    trk_truth.append(vtx_trk_info_tmp)\n",
    "    hs_trk_truth.append(hs_trk_tmp)\n",
    "    hs_vtx_truth.append(hs_vtx_tmp)\n",
    "    \n",
    "\n",
    "time_elapsed = (time.time() - time_start)\n",
    "print(\"time_elapsed:\", time_elapsed, 'seconds')"
   ]
  },
  {
   "cell_type": "code",
   "execution_count": 11,
   "id": "3ac63131-b72b-4602-b1cb-8ac5a19a2626",
   "metadata": {},
   "outputs": [
    {
     "name": "stdout",
     "output_type": "stream",
     "text": [
      "10000\n",
      "[0, 0, 0, 0, 0, 0, 7, 0, 0, 0, 0, 1, 0, 0, 0, 0, 0, 0, 0, 0, 0, 0, 0, 1, 1, 0, 0, 0, 0, 0, 0, 0, 0, 0, 0, 0, 0, 8, 0, 0, 0, 0, 2, 0, 0, 0, 0, 0, 0, 0, 0, 0, 0, 0, 0, 0, 0, 0, 0, 3, 0, 0, 0, 0, 0, 0, 1, 0, 2, 0, 0, 0, 0, 0, 4, 0, 0, 0, 0, 0, 0, 0, 0, 0, 0, 0, 0, 5, 0, 0, 0, 0, 0, 3, 0, 1, 0, 0, 0, 0]\n",
      "[[[0.01900918047030764, 0.005292189835718553, 46.512036453069925], [0.020431426271770192, -0.011986555119816167, 45.88227908027714], [-0.0025768596463819904, -2.704390236729637e-05, 91.72883197211489]], [[0.026837884703797388, -0.02312857042144012, 8.481661281052371], [-0.005407367456152556, -0.0018632956896897923, 72.30154291168819], [0.0033042864386523263, 0.018135763307476793, -129.39196601938457], [-0.0314916431274348, 0.016902985962541806, 77.87100448435564], [-0.13367072614434505, -0.0406255875074244, 35.469937841547406], [-0.00612345718444729, 0.04628245087554106, 113.82247306381677], [-0.009742255579261894, -0.09149477376502091, -48.687192219495095], [0.02299129897622798, -0.027495341237964155, 7.875863620143358]]]\n"
     ]
    },
    {
     "data": {
      "text/plain": [
       "[[0.01900918047030764, 0.005292189835718553, 46.512036453069925],\n",
       " [0.026837884703797388, -0.02312857042144012, 8.481661281052371]]"
      ]
     },
     "execution_count": 11,
     "metadata": {},
     "output_type": "execute_result"
    }
   ],
   "source": [
    "# testing\n",
    "print(len(vtx_id_reco))\n",
    "print(vtx_id_reco[0:100])\n",
    "print(vtx_reco[0:2])\n",
    "hs_vtx_reco[0:2]"
   ]
  },
  {
   "cell_type": "code",
   "execution_count": 110,
   "id": "9786ef3f-893d-4df9-ac65-3c31123bd391",
   "metadata": {},
   "outputs": [
    {
     "data": {
      "text/plain": [
       "[0.012306297197937965,\n",
       " 77.68561553955078,\n",
       " -0.10236044973134995,\n",
       " 0.1662713885307312,\n",
       " -0.33090803027153015]"
      ]
     },
     "execution_count": 110,
     "metadata": {},
     "output_type": "execute_result"
    }
   ],
   "source": [
    "trk_truth[1][1][0]\n",
    "# trk_truth[_event][_vtx][_trk]"
   ]
  },
  {
   "cell_type": "code",
   "execution_count": 12,
   "id": "67dcc07d-a295-457c-9fa2-88dab6983399",
   "metadata": {},
   "outputs": [
    {
     "name": "stdout",
     "output_type": "stream",
     "text": [
      "mean= 0.9934409229049306\n",
      "standard deviation= 0.027140979659441435\n"
     ]
    },
    {
     "data": {
      "image/png": "[encoded data removed]",
      "text/plain": [
       "<Figure size 432x288 with 1 Axes>"
      ]
     },
     "metadata": {
      "needs_background": "light"
     },
     "output_type": "display_data"
    },
    {
     "name": "stdout",
     "output_type": "stream",
     "text": [
      "time_elapsed 7.903313159942627 seconds\n"
     ]
    }
   ],
   "source": [
    "time_start = time.time()\n",
    "m = []\n",
    "for l in range(len(trk_truth)):\n",
    "    fraction = []\n",
    "    for j in range(len(trk_truth[l])):\n",
    "        num_trk_associated = []\n",
    "        for k in range(len(trk_reco[l])):\n",
    "            num_trk_associated.append(len([i for i, val in enumerate(trk_reco[l][k]) if val in trk_truth[l][j]]))\n",
    "        fraction.append(max(num_trk_associated)/len(trk_truth[l][j])) # change to vertex\n",
    "    m.append(max(fraction))\n",
    "        \n",
    "(mean, stadev) = norm.fit(m)\n",
    "print('mean=', mean)\n",
    "print('standard deviation=', stadev)\n",
    "bin = np.linspace(0, 1, 101)\n",
    "plt.hist(m, bins=bin, color='green', histtype='step', label='number of vertex')\n",
    "plt.title('Truth Matching Fraction (maximum in one event)')\n",
    "plt.xlabel('Truth Matching Fraction per Vertex')\n",
    "plt.ylabel('frequence')\n",
    "plt.xticks(fontsize=10)\n",
    "plt.yticks(fontsize=10)\n",
    "plt.show()\n",
    "time_elapsed = (time.time() - time_start)\n",
    "print('time_elapsed', time_elapsed, 'seconds')"
   ]
  },
  {
   "cell_type": "code",
   "execution_count": 104,
   "id": "9bff2ecc-8ffb-4a52-b75c-0c62db27ea3f",
   "metadata": {},
   "outputs": [
    {
     "data": {
      "text/plain": [
       "0.6666666666666666"
      ]
     },
     "execution_count": 104,
     "metadata": {},
     "output_type": "execute_result"
    }
   ],
   "source": [
    "#[d0, z0, theta, phi, q/p]\n",
    "truth_vtx_trk = [[1, 2, 3, 4, 5], [0, 3, 5, 7, 2], [6, 6, 6, 6, 6]]\n",
    "reco_vtx_trk = [[3, 34, 7, 2, 7], [1, 1, 3, 4, 5], [6, 6, 6, 6, 6], [1, 2, 3, 4, 5]]\n",
    "len([i for i, val in enumerate(truth_vtx_trk) if val in reco_vtx_])/len(list1)"
   ]
  },
  {
   "cell_type": "code",
   "execution_count": 94,
   "id": "7b0c6252-9230-4e05-944b-14c376d11a04",
   "metadata": {},
   "outputs": [
    {
     "name": "stdout",
     "output_type": "stream",
     "text": [
      "[1, 2, 3, 4, 5, 6, 7]\n"
     ]
    },
    {
     "data": {
      "text/plain": [
       "[1, 4, 9, 16, 25, 36, 49]"
      ]
     },
     "execution_count": 94,
     "metadata": {},
     "output_type": "execute_result"
    }
   ],
   "source": [
    "list3 = [1, 2, 3, 4, 5, 6, 7]\n",
    "print([i for i in list3])\n",
    "[i ** 2 for i in list3]"
   ]
  },
  {
   "cell_type": "code",
   "execution_count": 95,
   "id": "46ac6532-a021-41cc-87b6-3c905ad89e05",
   "metadata": {},
   "outputs": [
    {
     "data": {
      "text/plain": [
       "[16, 25, 36, 49]"
      ]
     },
     "execution_count": 95,
     "metadata": {},
     "output_type": "execute_result"
    }
   ],
   "source": [
    "[i**2 for i in list3 if i >= 4]"
   ]
  },
  {
   "cell_type": "code",
   "execution_count": 62,
   "id": "09904d75-8911-4c40-bb7c-0b687507bb97",
   "metadata": {},
   "outputs": [
    {
     "name": "stdout",
     "output_type": "stream",
     "text": [
      "time_elapsed 8.628681659698486 seconds\n"
     ]
    }
   ],
   "source": [
    "time_start = time.time()\n",
    "truth_match_matrix, m = [], []\n",
    "for l in range(len(trk_truth)):\n",
    "    truth_match_matrix_tmp = np.zeros((len(event_truth[l][_truth_vtx_vx]), len(event_reco[l][_reco_vtx_vx])))\n",
    "    for j in range(len(trk_truth[l])):\n",
    "        num_trk_associated = []\n",
    "        for k in range(len(trk_reco[l])):\n",
    "            truth_match_matrix_tmp[j, k] = (len([i for i, val in enumerate(trk_reco[l][k]) if val in trk_truth[l][j]])/len(trk_truth[l][j]))\n",
    "            \n",
    "    truth_match_matrix.append(truth_match_matrix_tmp)\n",
    "    \n",
    "time_elapsed = (time.time() - time_start)\n",
    "print('time_elapsed', time_elapsed, 'seconds')"
   ]
  },
  {
   "cell_type": "code",
   "execution_count": 112,
   "id": "8b0a7644-9e66-4d0a-83e8-fb609ac24d56",
   "metadata": {},
   "outputs": [
    {
     "data": {
      "text/plain": [
       "array([[0.84615385, 0.        , 0.        , 0.        , 0.        ,\n",
       "        0.        , 0.        , 0.10576923],\n",
       "       [0.        , 0.        , 0.        , 0.92857143, 0.        ,\n",
       "        0.        , 0.        , 0.        ],\n",
       "       [0.        , 0.        , 0.        , 0.        , 0.5       ,\n",
       "        0.        , 0.        , 0.        ],\n",
       "       [0.        , 1.        , 0.        , 0.        , 0.        ,\n",
       "        0.        , 0.        , 0.        ],\n",
       "       [0.        , 0.        , 1.        , 0.        , 0.        ,\n",
       "        0.        , 0.        , 0.        ],\n",
       "       [0.        , 0.        , 0.        , 0.        , 0.85714286,\n",
       "        0.        , 0.        , 0.        ],\n",
       "       [0.        , 0.        , 0.        , 0.        , 0.        ,\n",
       "        1.        , 0.        , 0.        ],\n",
       "       [0.        , 0.        , 0.        , 0.        , 0.        ,\n",
       "        0.        , 0.75      , 0.        ]])"
      ]
     },
     "execution_count": 112,
     "metadata": {},
     "output_type": "execute_result"
    }
   ],
   "source": [
    "truth_match_matrix[1]"
   ]
  },
  {
   "cell_type": "code",
   "execution_count": 77,
   "id": "2714a48c-dbef-4cc1-a160-65f0085127bc",
   "metadata": {},
   "outputs": [
    {
     "name": "stdout",
     "output_type": "stream",
     "text": [
      "mean_event= 0.9934409229049306\n",
      "standard deviation_event= 0.027140979659441435\n"
     ]
    },
    {
     "data": {
      "image/png": "[encoded data removed]",
      "text/plain": [
       "<Figure size 432x288 with 1 Axes>"
      ]
     },
     "metadata": {
      "needs_background": "light"
     },
     "output_type": "display_data"
    },
    {
     "data": {
      "image/png": "[encoded data removed]",
      "text/plain": [
       "<Figure size 432x288 with 1 Axes>"
      ]
     },
     "metadata": {
      "needs_background": "light"
     },
     "output_type": "display_data"
    },
    {
     "name": "stdout",
     "output_type": "stream",
     "text": [
      "time_elapsed 999.9659404754639 seconds\n"
     ]
    }
   ],
   "source": [
    "fig_vtx, ax_vtx = plt.subplots()\n",
    "fig_event, ax_event = plt.subplots()\n",
    "\n",
    "m_event, m_vtx = [], []\n",
    "for l in range(len(truth_match_matrix)):\n",
    "    m_event.append(np.amax(truth_match_matrix[l]))\n",
    "    for j in range(len(truth_match_matrix[l])):\n",
    "        m_vtx.append(max(truth_match_matrix[l][j]))\n",
    "        \n",
    "(mean, stadev) = norm.fit(m_event)\n",
    "print('mean_event=', mean)\n",
    "print('standard deviation_event=', stadev)\n",
    "bin = np.linspace(0, 1, 101)\n",
    "ax_event.hist(m_event, bins=bin, color='green', histtype='step', label='number of vertex')\n",
    "ax_vtx.hist(m_vtx, bins=bin, color='green', histtype='step')\n",
    "\n",
    "ax_event.set_title('Truth Matching Fraction (maximum in one event)')\n",
    "ax_vtx.set_title('Truth Matching Fraction (all vertex fractions)')\n",
    "\n",
    "ax_event.set_xlabel(\"Truth Matching Fraction per Vertex\")\n",
    "ax_event.set_ylabel(\"entries\")\n",
    "\n",
    "ax_vtx.set_xlabel(\"Truth Matching Fraction per Vertex\")\n",
    "ax_vtx.set_ylabel(\"entries\")\n",
    "\n",
    "plt.show()\n",
    "time_elapsed = (time.time() - time_start)\n",
    "print('time_elapsed', time_elapsed, 'seconds')"
   ]
  },
  {
   "cell_type": "code",
   "execution_count": 13,
   "id": "4f71071b-d1c6-4aac-a448-d45e8e21c226",
   "metadata": {},
   "outputs": [
    {
     "name": "stdout",
     "output_type": "stream",
     "text": [
      "number of data inputs 10000\n"
     ]
    }
   ],
   "source": [
    "print('number of data inputs', len(m))"
   ]
  },
  {
   "cell_type": "code",
   "execution_count": 14,
   "id": "4b603917-ceb0-48b6-88cd-ca4f44355522",
   "metadata": {},
   "outputs": [
    {
     "name": "stdout",
     "output_type": "stream",
     "text": [
      "mean= 0.8459593639190216\n",
      "standard deviation= 0.255557954067621\n"
     ]
    },
    {
     "data": {
      "image/png": "[encoded data removed]",
      "text/plain": [
       "<Figure size 432x288 with 1 Axes>"
      ]
     },
     "metadata": {
      "needs_background": "light"
     },
     "output_type": "display_data"
    },
    {
     "name": "stdout",
     "output_type": "stream",
     "text": [
      "time_elapsed 8.100322246551514 seconds\n"
     ]
    }
   ],
   "source": [
    "time_start = time.time()\n",
    "m, vtx0 = [], []\n",
    "for l in range(len(trk_truth)):\n",
    "    for j in range(len(trk_truth[l])):\n",
    "        num_trk_associated = []\n",
    "        for k in range(len(trk_reco[l])):\n",
    "            # trk_common = [a for a in trk_reco[i][j] if a in trk_truth[i][j]]\n",
    "            num_trk_associated.append(len([i for i, val in enumerate(trk_reco[l][k]) if val in trk_truth[l][j]]))\n",
    "        m.append(max(num_trk_associated)/len(trk_truth[l][j])) # change to vertex\n",
    "        \n",
    "(mean, stadev) = norm.fit(m)\n",
    "print('mean=', mean)\n",
    "print('standard deviation=', stadev)\n",
    "bin = np.linspace(0, 1, 101)\n",
    "plt.hist(m, bins=bin, color='green', histtype='step', label='number of vertex')\n",
    "plt.title('Truth Matching Fraction (all vertex fractions)')\n",
    "plt.xlabel('Truth Matching Fraction per Vertex')\n",
    "plt.ylabel('frequence')\n",
    "plt.xticks(fontsize=10)\n",
    "plt.yticks(fontsize=10)\n",
    "plt.show()\n",
    "time_elapsed = (time.time() - time_start)\n",
    "print('time_elapsed', time_elapsed, 'seconds')"
   ]
  },
  {
   "cell_type": "code",
   "execution_count": 15,
   "id": "e016db0f-4175-4e56-9c55-211e4ad038a4",
   "metadata": {},
   "outputs": [
    {
     "name": "stdout",
     "output_type": "stream",
     "text": [
      "number of input data: 68777\n"
     ]
    }
   ],
   "source": [
    "print('number of input data:', len(m))"
   ]
  },
  {
   "cell_type": "code",
   "execution_count": 16,
   "id": "11a73eb6-e017-4968-a7d5-a04afdb6aae2",
   "metadata": {},
   "outputs": [
    {
     "name": "stdout",
     "output_type": "stream",
     "text": [
      "[0.00881008617579937, 0.01478538941591978, 46.51725387573242]\n",
      "4\n"
     ]
    }
   ],
   "source": [
    "print(hs_vtx_truth[0])\n",
    "print(len(trk_truth[0][1]))"
   ]
  },
  {
   "cell_type": "code",
   "execution_count": 17,
   "id": "3ca262bf-e8c7-43f0-953b-b7bf5284f368",
   "metadata": {},
   "outputs": [
    {
     "name": "stdout",
     "output_type": "stream",
     "text": [
      "mean= 0.8363714272929988\n",
      "standard deviation= 0.08778067984522908\n"
     ]
    },
    {
     "data": {
      "image/png": "[encoded data removed]",
      "text/plain": [
       "<Figure size 432x288 with 1 Axes>"
      ]
     },
     "metadata": {
      "needs_background": "light"
     },
     "output_type": "display_data"
    },
    {
     "name": "stdout",
     "output_type": "stream",
     "text": [
      "time_elapsed: 2.5298640727996826 seconds\n",
      "10000\n"
     ]
    }
   ],
   "source": [
    "# Reco_HS_Efficiency = Number of Reconstructable truth HS vertex which is associated to Reconstructed Vertex / Number of Reconstructable truth HS vertex\n",
    "time_start = time.time()\n",
    "m, hs_vtx_truth_associated_event_num = [], []\n",
    "for l in range(len(hs_trk_truth)):\n",
    "    num_trk_associated = []\n",
    "    \n",
    "    for k in range(len(trk_reco[l])):\n",
    "        # trk_common = [a for a in trk_reco[i][j] if a in trk_truth[i][j]]\n",
    "        num_trk_associated.append(len([i for i, val in enumerate(trk_reco[l][k]) if val in hs_trk_truth[l]]))\n",
    "        \n",
    "    max_hs_fraction = max(num_trk_associated)/len(hs_trk_truth[l])\n",
    "    m.append(max_hs_fraction)\n",
    "    if max_hs_fraction > 0.7:\n",
    "        hs_vtx_truth_associated_event_num.append(l)\n",
    "    \n",
    "(mean, stadev) = norm.fit(m)\n",
    "print('mean=', mean)\n",
    "print('standard deviation=', stadev)\n",
    "bin = np.linspace(0, 1, 101)\n",
    "plt.hist(m, bins=bin, color='green', histtype='step', label='number of vertex')\n",
    "plt.title('Truth Match Fraction (HS Truth Tracks)')\n",
    "plt.xlabel('Truth Matching Fraction per Vertex')\n",
    "plt.ylabel('frequency')\n",
    "plt.xticks(fontsize=10)\n",
    "plt.yticks(fontsize=10)\n",
    "plt.show()\n",
    "time_elapsed = (time.time() - time_start)\n",
    "print('time_elapsed:',time_elapsed, 'seconds')\n",
    "print(len(m))"
   ]
  },
  {
   "cell_type": "code",
   "execution_count": 18,
   "id": "224ab3d9-0807-4ed8-95a3-fd0ce2473b7f",
   "metadata": {},
   "outputs": [
    {
     "name": "stdout",
     "output_type": "stream",
     "text": [
      "hs_fraction > 0.7 out of 10,000: 9383\n"
     ]
    }
   ],
   "source": [
    "print('hs_fraction > 0.7 out of 10,000:', len(hs_vtx_truth_associated_event_num))"
   ]
  },
  {
   "cell_type": "code",
   "execution_count": 19,
   "id": "789c7a35-83ff-4c6a-9ea7-fa76381d36a1",
   "metadata": {},
   "outputs": [],
   "source": [
    "def dist_cal(list1, list2):\n",
    "    dist = np.sqrt((list1[0]-list2[0])**2 + (list1[1]-list2[1])**2 + (list1[2]-list2[2])**2)\n",
    "    return dist\n",
    "\n",
    "def print_out(list1, list2):\n",
    "    print(\"diff_x:\", list1[0]-list2[0], \"diff_y\", list1[1]-list2[1], \"diff_z\", list1[2]-list2[2])"
   ]
  },
  {
   "cell_type": "code",
   "execution_count": 20,
   "id": "0365a25d-93f7-46e9-af2e-75620b1ffcd8",
   "metadata": {},
   "outputs": [
    {
     "name": "stdout",
     "output_type": "stream",
     "text": [
      "9522\n"
     ]
    }
   ],
   "source": [
    "# testing\n",
    "m = []\n",
    "for i in range(10000):\n",
    "    hs_dist = dist_cal(hs_vtx_truth[i], hs_vtx_reco[i])\n",
    "    pu_dist = []\n",
    "    for j in range(len(vtx_reco[i])):\n",
    "        pu_dist.append(dist_cal(hs_vtx_truth[i], vtx_reco[i][j]))\n",
    "    \n",
    "    if hs_dist <= 0.1 and min(pu_dist) == hs_dist:\n",
    "        m.append(1)\n",
    "print(len(m))"
   ]
  },
  {
   "cell_type": "code",
   "execution_count": 21,
   "id": "36acd85b-e3e1-4a94-9570-86abaffea628",
   "metadata": {},
   "outputs": [
    {
     "name": "stdout",
     "output_type": "stream",
     "text": [
      "9047\n"
     ]
    }
   ],
   "source": [
    "# testing\n",
    "m = []\n",
    "for i in hs_vtx_truth_associated_event_num:\n",
    "    hs_dist = dist_cal(hs_vtx_truth[i], hs_vtx_reco[i])\n",
    "    pu_dist = []\n",
    "    for j in range(len(vtx_reco[i])):\n",
    "        pu_dist.append(dist_cal(hs_vtx_truth[i], vtx_reco[i][j]))\n",
    "    \n",
    "    if hs_dist <= 0.1:\n",
    "        m.append(1)\n",
    "print(len(m))"
   ]
  },
  {
   "cell_type": "code",
   "execution_count": 22,
   "id": "fe203eab-d6b1-4f52-b071-d380425f2196",
   "metadata": {},
   "outputs": [
    {
     "name": "stdout",
     "output_type": "stream",
     "text": [
      "(50, 27, 0) ([0.01900918047030764, 0.005292189835718553, 46.512036453069925], [0.020431426271770192, -0.011986555119816167, 45.88227908027714], [-0.0025768596463819904, -2.704390236729637e-05, 91.72883197211489])\n",
      "(88, 11, 0, 0, 0, 0, 0, 0) ([0.026837884703797388, -0.02312857042144012, 8.481661281052371], [0.02299129897622798, -0.027495341237964155, 7.875863620143358], [0.0033042864386523263, 0.018135763307476793, -129.39196601938457], [-0.005407367456152556, -0.0018632956896897923, 72.30154291168819], [-0.00612345718444729, 0.04628245087554106, 113.82247306381677], [-0.009742255579261894, -0.09149477376502091, -48.687192219495095], [-0.0314916431274348, 0.016902985962541806, 77.87100448435564], [-0.13367072614434505, -0.0406255875074244, 35.469937841547406])\n",
      "(34, 0, 0, 0, 0, 0, 0, 0) ([-0.0128344920978547, -0.003256561329363805, -21.381735345813166], [0.4416936028195, -0.09308780625943514, -63.72217863370243], [0.009526229241830109, 0.015430959879685346, -61.71827950747761], [0.0022344158655656088, 0.06774038662197768, -39.94775173020103], [-0.004470345407102783, 0.0028782843144394554, 5.877739050670449], [-0.004773503196332199, -0.07711667003951383, -7.008433381965003], [-0.0074785111009193495, 0.010636202544734075, -5.685996441013422], [-0.015304442132142881, -0.06425597306903619, 37.78287313307603])\n"
     ]
    }
   ],
   "source": [
    "# Testing \n",
    "for l in range(3):\n",
    "    num_trk_associated = []\n",
    "    for k in range(len(trk_reco[l])):\n",
    "        # trk_common = [a for a in trk_reco[i][j] if a in trk_truth[i][j]]\n",
    "        num_trk_associated.append(len([i for i, val in enumerate(hs_trk_truth[l])if val in trk_reco[l][k]]))\n",
    "    \n",
    "    vtx_reco_tmp = vtx_reco[l]\n",
    "    num_trk_associated, vtx_reco_tmp = zip(*sorted(zip(num_trk_associated, vtx_reco_tmp), reverse=True))\n",
    "    print(num_trk_associated, vtx_reco_tmp)"
   ]
  },
  {
   "cell_type": "markdown",
   "id": "7ba11c3c-a040-459c-9a76-0a79a9974436",
   "metadata": {
    "tags": []
   },
   "source": [
    "# Reconstruction Efficiency\n",
    "### To successfully reconstruct a HS, 1 test is done: \n",
    " - |reco(max(number of tracks)) - truth_HS| < 0.1 mm\n",
    " \n",
    "### Local pile-up density\n",
    " - local pile-up density near a vertex, defined as the number of generated vertices per unit length within a symmetrical ±2 mm longitudinal window"
   ]
  },
  {
   "cell_type": "code",
   "execution_count": 23,
   "id": "c1a83ca9-8ed9-42d1-a08c-cd997fc861ef",
   "metadata": {},
   "outputs": [
    {
     "name": "stderr",
     "output_type": "stream",
     "text": [
      "/tmp/ipykernel_39/2339860997.py:36: DeprecationWarning: In future, it will be an error for 'np.bool_' scalars to be interpreted as an index\n",
      "  TEff1.Fill(Reco, localPUDensity);\n",
      "/tmp/ipykernel_39/2339860997.py:37: DeprecationWarning: In future, it will be an error for 'np.bool_' scalars to be interpreted as an index\n",
      "  TEff2.Fill(Reco, localPUDensity);\n",
      "/tmp/ipykernel_39/2339860997.py:38: DeprecationWarning: In future, it will be an error for 'np.bool_' scalars to be interpreted as an index\n",
      "  TEff3.Fill(Reco, localPUDensity);\n"
     ]
    },
    {
     "name": "stdout",
     "output_type": "stream",
     "text": [
      "time_elapsed: 3.5895283222198486 seconds\n"
     ]
    },
    {
     "data": {
      "image/png": "[encoded data removed]",
      "text/plain": [
       "<IPython.core.display.Image object>"
      ]
     },
     "metadata": {},
     "output_type": "display_data"
    }
   ],
   "source": [
    "time_start = time.time()\n",
    "c = ROOT.TCanvas(\"fillhist\", \"title1\", 1200, 800)\n",
    "#c.SetFillStyle(1001)\n",
    "TEff1 = ROOT.TEfficiency(\"eff\", \"HS vertex reconstuction efficiency (ATLAS 4 steps);Local PU density;HS vertex reconstruction efficiency\", 4, 0, 2)\n",
    "TEff2 = ROOT.TEfficiency(\"eff\", \"HS vertex reconstuction efficiency (Athena 7 steps);Local PU density;HS vertex reconstruction efficiency\", 7, 0, 3.5)\n",
    "TEff3 = ROOT.TEfficiency(\"eff\", \"HS vertex reconstuction efficiency (Comparsion 10 steps);Local PU density;HS vertex reconstruction efficiency\", 10, 0, 3.5)\n",
    "\n",
    "sel_loop = []\n",
    "long_window = 2\n",
    "for l in range(len(vtx_truth)):\n",
    "    #localPUDensity\n",
    "    nTracksInWindow = 0\n",
    "    \n",
    "    long_dist = vtx_truth_vz[l]\n",
    "    long_dist = [np.abs(long_dist[i]-j) for i in range(len(long_dist)) for j in long_dist[i+1:]]\n",
    "    nTracksInWindow = len([i for i in long_dist if i < long_window])\n",
    "    \n",
    "    localPUDensity = nTracksInWindow/long_window\n",
    "    \n",
    "    #Reco Test\n",
    " \n",
    "    num_trk_associated = []\n",
    "    for k in range(len(trk_reco[l])):\n",
    "        # trk_common = [a for a in trk_reco[i][j] if a in trk_truth[i][j]]\n",
    "        num_trk_associated.append(len([i for i, val in enumerate(hs_trk_truth[l])if val in trk_reco[l][k]]))\n",
    "    \n",
    "    vtx_reco_tmp = vtx_reco[l]\n",
    "    num_trk_associated, vtx_reco_tmp = zip(*sorted(zip(num_trk_associated, vtx_reco_tmp), reverse=True))\n",
    "    bestRecoHSvtx_truth = vtx_reco_tmp[0]\n",
    "    \n",
    "    hs_dist = dist_cal(hs_vtx_truth[l], bestRecoHSvtx_truth)\n",
    "    if hs_dist <= 0.1:\n",
    "        sel_loop.append(l)\n",
    "\n",
    "    Reco = hs_dist <= 0.1 \n",
    "    TEff1.Fill(Reco, localPUDensity);\n",
    "    TEff2.Fill(Reco, localPUDensity);\n",
    "    TEff3.Fill(Reco, localPUDensity);\n",
    "\n",
    "c.Divide(2, 2)\n",
    "c.cd(1); TEff1.Draw()\n",
    "c.cd(2); TEff2.Draw()\n",
    "c.cd(3); TEff3.Draw()\n",
    "c.Draw()\n",
    "\n",
    "time_elapsed = (time.time() - time_start)\n",
    "print('time_elapsed:',time_elapsed, 'seconds')"
   ]
  },
  {
   "cell_type": "code",
   "execution_count": 24,
   "id": "a0e666ad-f5f2-4be6-acc1-3af468e97a11",
   "metadata": {},
   "outputs": [
    {
     "name": "stdout",
     "output_type": "stream",
     "text": [
      "[1, 3, 7, 15, 31, 63, 127, 255, 2, 6, 14, 30, 62, 126, 254, 4, 12, 28, 60, 124, 252, 8, 24, 56, 120, 248, 16, 48, 112, 240, 32, 96, 224, 64, 192, 128]\n",
      "[1, 3, 7, 15, 31, 63, 127, 255, 2, 6, 14, 30, 62, 126, 254, 4, 12, 28, 60, 124, 252, 8, 24, 56, 120, 248, 16, 48, 112, 240, 32, 96, 224, 64, 192, 128]\n"
     ]
    }
   ],
   "source": [
    "# testing\n",
    "t1 = [1, 2, 4, 8, 16, 32, 64, 128, 256]\n",
    "result = [np.abs(t1[i]-j) for i in range(len(t1)) for j in t1[i+1:]]\n",
    "print(result)\n",
    "dist = []\n",
    "for j in range(len(t1)-1):\n",
    "    for k in range(j+1, len(t1)):\n",
    "        dist.append(np.abs(t1[j]-t1[k]))\n",
    "print(dist)\n"
   ]
  },
  {
   "cell_type": "markdown",
   "id": "6fab7f27-f5ed-407d-9086-258f560a0a89",
   "metadata": {},
   "source": [
    "# Selection Efficiency\n",
    "### To successfully selection, 1 test is done: \n",
    " - Reconstructed Vertex with max(PT^2) = [max(number of tracks) - HS <= 0.1]\n",
    " \n",
    "#### sidenotes: ATLAS definition - the reconstructed vertex with highest pT2 is the one containing the largest total weight from true HS tracks.\n",
    " - don't have a truth track weight output"
   ]
  },
  {
   "cell_type": "code",
   "execution_count": 25,
   "id": "b7cbd4f5-997b-412d-ad4c-fc5e5df874a3",
   "metadata": {},
   "outputs": [
    {
     "name": "stderr",
     "output_type": "stream",
     "text": [
      "Warning in <TCanvas::Constructor>: Deleting canvas with same name: fillhist\n"
     ]
    },
    {
     "data": {
      "image/png": "[encoded data removed]",
      "text/plain": [
       "<IPython.core.display.Image object>"
      ]
     },
     "metadata": {},
     "output_type": "display_data"
    }
   ],
   "source": [
    "time_start = time.time()\n",
    "c = ROOT.TCanvas(\"fillhist\", \"title\", 1200, 800)\n",
    "#c.SetFillStyle(1001)\n",
    "TEff1 = ROOT.TEfficiency(\"eff\", \"HS vertex selection efficiency (ATLAS 4 steps);Local PU density;HS vertex reconstruction efficiency\", 4, 0, 2)\n",
    "TEff2 = ROOT.TEfficiency(\"eff\", \"HS vertex selection efficiency (Athena 7 steps);Local PU density;HS vertex reconstruction efficiency\", 7, 0, 3.5)\n",
    "TEff3 = ROOT.TEfficiency(\"eff\", \"HS vertex selection efficiency (Comparsion 10 steps);Local PU density;HS vertex reconstruction efficiency\", 10, 0, 3.5)\n",
    "\n",
    "long_window = 2\n",
    "for l in sel_loop:\n",
    "    #localPUDensity\n",
    "    nTracksInWindow = 0\n",
    "    \n",
    "    long_dist = vtx_truth_vz[l]\n",
    "    long_dist = [np.abs(long_dist[i]-j) for i in range(len(long_dist)) for j in long_dist[i+1:]]\n",
    "    nTracksInWindow = len([i for i in long_dist if i < long_window])\n",
    "    \n",
    "    localPUDensity = nTracksInWindow/long_window\n",
    "    \n",
    "    #Sel Test\n",
    "     \n",
    "    num_trk_associated = []\n",
    "    for k in range(len(trk_reco[l])):\n",
    "        # trk_common = [a for a in trk_reco[i][j] if a in trk_truth[i][j]]\n",
    "        num_trk_associated.append(len([i for i, val in enumerate(hs_trk_truth[l])if val in trk_reco[l][k]]))\n",
    "    \n",
    "    vtx_reco_tmp = vtx_reco[l]\n",
    "    num_trk_associated, vtx_reco_tmp = zip(*sorted(zip(num_trk_associated, vtx_reco_tmp), reverse=True))\n",
    "    bestRecoHSvtx_truth = vtx_reco_tmp[0]\n",
    "    \n",
    "\n",
    "    Sel = bestRecoHSvtx_truth == hs_vtx_reco[l]\n",
    "    TEff1.Fill(Sel, localPUDensity);\n",
    "    TEff2.Fill(Sel, localPUDensity);\n",
    "    TEff3.Fill(Sel, localPUDensity);\n",
    "\n",
    "c.Divide(2, 2)\n",
    "c.cd(1); TEff1.Draw()\n",
    "c.cd(2); TEff2.Draw()\n",
    "c.cd(3); TEff3.Draw()\n",
    "c.Draw()"
   ]
  },
  {
   "cell_type": "markdown",
   "id": "3a6c5cd8-a687-4aeb-b8ce-a0de97bd5198",
   "metadata": {},
   "source": [
    "# Classifying vertices\n",
    "#### CLEAN: At least 70% of the total track weight in the reconstructed vertex originates from a single simulated pp interaction.\n",
    "#### MERGED: Less than 70% of the total track weight in the reconstructed vertex originates from any single simulated pp interaction. Hence, two or more simulated interactions contribute significantly to the accumulated track weight.\n",
    "#### SPLIT: A single simulated pp interaction contributes the largest track weight to two or more reconstructed vertices. The reconstructed vertex with the largest track pt^2 is classed as either CLEAN or MERGED, whilst the other(s) are labelled SPLIT.\n",
    "#### FAKE: Fake tracks contribute more weight to the reconstructed vertex than any simulated pp interaction. "
   ]
  },
  {
   "cell_type": "code",
   "execution_count": 26,
   "id": "c23605e3-3bd5-4dd6-9514-67a2fb8aee05",
   "metadata": {},
   "outputs": [
    {
     "name": "stdout",
     "output_type": "stream",
     "text": [
      "clean: 68240\n",
      "merged: 56\n",
      "split: 2323\n",
      "checking total input of reconstructed vertices: 70619\n"
     ]
    },
    {
     "data": {
      "image/png": "[encoded data removed]",
      "text/plain": [
       "<Figure size 432x288 with 1 Axes>"
      ]
     },
     "metadata": {
      "needs_background": "light"
     },
     "output_type": "display_data"
    },
    {
     "name": "stdout",
     "output_type": "stream",
     "text": [
      "time_elapsed: 7.621322870254517 seconds\n"
     ]
    }
   ],
   "source": [
    "time_start= time.time()\n",
    "clean, merged, split, fake = 0, 0, 0, 0\n",
    "matched, high_pu, low_pu, pure_pu = 0, 0, 0, 0\n",
    "fake = 0 # tested in below cells\n",
    "num_vtx_input_check = 0\n",
    "for l in range(len(event_reco)):\n",
    "    fraction = []\n",
    "    for j in range(len(trk_reco[l])):\n",
    "        num_trk_associated = []\n",
    "        for k in range(len(trk_truth[l])):\n",
    "            num_trk_associated.append(len([i for i, val in enumerate(trk_truth[l][k]) if val in trk_reco[l][j]]))\n",
    "        fraction.append(max(num_trk_associated)/len(trk_reco[l][j])) # change to vertex\n",
    "    num_vtx_input_check += len(fraction)\n",
    "    \n",
    "    hs_reco_fraction = fraction[vtx_id_reco[l]]\n",
    "    fraction.pop(vtx_id_reco[l])\n",
    "    if hs_reco_fraction >= 0.7:\n",
    "        clean += 1\n",
    "        if trk_weight_sum_reco[l][vtx_id_reco[l]]/sum(trk_weight_sum_reco[l]) <= 0.5:\n",
    "            matched += 1\n",
    "    else:\n",
    "        merged += 1\n",
    "        if trk_weight_sum_reco[l][vtx_id_reco[l]]/sum(trk_weight_sum_reco[l]) > 0.5:\n",
    "            high_pu += 1\n",
    "        elif 0.01 < trk_weight_sum_reco[l][vtx_id_reco[l]]/sum(trk_weight_sum_reco[l]) <= 0.5:\n",
    "            low_pu += 1\n",
    "            \n",
    "    if trk_weight_sum_reco[l][vtx_id_reco[l]]/sum(trk_weight_sum_reco[l]) < 0.01:\n",
    "        pure_pu += 1\n",
    "    clean += len([i for i in fraction if i >= 0.7])\n",
    "    split += len([i for i in fraction if i < 0.7])\n",
    "\n",
    "        \n",
    "print('clean:', clean)\n",
    "print('merged:', merged)\n",
    "print('split:', split)\n",
    "print('checking total input of reconstructed vertices:', num_vtx_input_check)\n",
    "\n",
    "data = {'clean': clean/num_vtx_input_check, 'merged': merged/num_vtx_input_check, 'split': split/num_vtx_input_check, 'fake': fake/num_vtx_input_check}\n",
    "pu = list(data.keys())\n",
    "fra = list(data.values())\n",
    "plt.bar(pu, fra, fill=False, edgecolor='g', width=0.5)\n",
    "plt.xlabel('Event Type', fontsize=10)\n",
    "plt.ylabel('Fraction of Vertices', fontsize=10)\n",
    "plt.title(\"Fraction of Vertices in each vertex reconstruction category for AMVF\", fontsize=12)\n",
    "plt.show()\n",
    "time_elapsed = (time.time() - time_start)\n",
    "print('time_elapsed:',time_elapsed, 'seconds')"
   ]
  },
  {
   "cell_type": "code",
   "execution_count": 27,
   "id": "ce0fc62c-d1f2-4a81-9939-b3682a279d9a",
   "metadata": {},
   "outputs": [
    {
     "name": "stdout",
     "output_type": "stream",
     "text": [
      "41.48982406607285\n",
      "[41.48982406607285, 12.133453282288393, 3.3552302810047117]\n",
      "56\n"
     ]
    }
   ],
   "source": [
    "print(sum(trk_weight_reco[0][0]))\n",
    "print(trk_weight_sum_reco[0])\n",
    "print(merged)"
   ]
  },
  {
   "cell_type": "code",
   "execution_count": 28,
   "id": "b365f4b9-3d58-4965-90c5-aa68d06bd25e",
   "metadata": {},
   "outputs": [
    {
     "name": "stdout",
     "output_type": "stream",
     "text": [
      "10000\n"
     ]
    }
   ],
   "source": [
    "# checking if there exists fake vertices.\n",
    "suc = []\n",
    "for i in range(len(event_reco)):\n",
    "    num_trk = len(event_reco[i][_reco_trk_vtxid])\n",
    "    trk_weight_tmp = len((event_reco[i][_reco_trkweight]))\n",
    "    if num_trk != trk_weight_tmp:\n",
    "        print(\"fake\")\n",
    "    else:\n",
    "        suc.append(1)\n",
    "print(len(suc))"
   ]
  },
  {
   "cell_type": "code",
   "execution_count": 29,
   "id": "81b57efb-ac20-4e38-9fa2-dc783224bda7",
   "metadata": {},
   "outputs": [
    {
     "name": "stdout",
     "output_type": "stream",
     "text": [
      "70619 [1, 1, 1, 1, 1, 1, 1, 1, 1, 1, 1, 1, 1, 1, 1, 1, 1, 1, 1, 1, 1, 1, 1, 1, 1, 1, 1, 1, 1, 1, 1, 1, 1, 1, 1, 1, 1, 1, 1, 1, 1, 1, 1, 1, 1, 1, 1, 1, 1, 1, 1, 1, 1, 1, 1, 1, 1, 1, 1, 1, 1, 1, 1, 1, 1, 1, 1, 1, 1, 1, 1, 1, 1, 1, 1, 1, 1, 1, 1, 1, 1, 1, 1, 1, 1, 1, 1, 1, 1, 1, 1, 1, 1, 1, 1, 1, 1, 1, 1, 1, 1, 1, 1, 1, 1, 1, 1, 1, 1, 1, 1, 1, 1, 1, 1, 1, 1, 1, 1, 1, 1, 1, 1, 1, 1, 1, 1, 1, 1, 1, 1, 1, 1, 1, 1, 1, 1, 1, 1, 1, 1, 1, 1, 1, 1, 1, 1, 1, 1, 1, 1, 1, 1, 1, 1, 1, 1, 1, 1, 1, 1, 1, 1, 1, 1, 1, 1, 1, 1, 1, 1, 1, 1, 1, 1, 1, 1, 1, 1, 1, 1, 1, 1, 1, 1, 1, 1, 1, 1, 1, 1, 1, 1, 1, 1, 1, 1, 1, 1, 1, 1, 1, 1, 1, 1, 1, 1, 1, 1, 1, 1, 1, 1, 1, 1, 1, 1, 1, 1, 1, 1, 1, 1, 1, 1, 1, 1, 1, 1, 1, 1, 1, 1, 1, 1, 1, 1, 1, 1, 1, 1, 1, 1, 1, 1, 1, 1, 1, 1, 1, 1, 1, 1, 1, 1, 1, 1, 1, 1, 1, 1, 1, 1, 1, 1, 1, 1, 1, 1, 1, 1, 1, 1, 1, 1, 1, 1, 1, 1, 1, 1, 1, 1, 1, 1, 1, 1, 1, 1, 1, 1, 1, 1, 1, 1, 1, 1, 1, 1, 1, 1, 1, 1, 1, 1, 1, 1, 1, 1, 1, 1, 1, 1, 1, 1, 1, 1, 1, 1, 1, 1, 1, 1, 1, 1, 1, 1, 1, 1, 1, 1, 1, 1, 1, 1, 1, 1, 1, 1, 1, 1, 1, 1, 1, 1, 1, 1, 1, 1, 1, 1, 1, 1, 1, 1, 1, 1, 1, 1, 1, 1, 1, 1, 1, 1, 1, 1, 1, 1, 1, 1, 1, 1, 1, 1, 1, 1, 1, 1, 1, 1, 1, 1, 1, 1, 1, 1, 1, 1, 1, 1, 1, 1, 1, 1, 1, 1, 1, 1, 1, 1, 1, 1, 1, 1, 1, 1, 1, 1, 1, 1, 1, 1, 1, 1, 1, 1, 1, 1, 1, 1, 1, 1, 1, 1, 1, 1, 1, 1, 1, 1, 1, 1, 1, 1, 1, 1, 1, 1, 1, 1, 1, 1, 1, 1, 1, 1, 1, 1, 1, 1, 1, 1, 1, 1, 1, 1, 1, 1, 1, 1, 1, 1, 1, 1, 1, 1, 1, 1, 1, 1, 1, 1, 1, 1, 1, 1, 1, 1, 1, 1, 1, 1, 1, 1, 1, 1, 1, 1, 1, 1, 1, 1, 1, 1, 1, 1, 1, 1, 1, 1, 1, 1, 1, 1, 1, 1, 1, 1, 1, 1, 1, 1, 1, 1, 1, 1, 1, 1, 1, 1, 1, 1, 1, 1, 1, 1, 1, 1, 1, 1, 1, 1, 1, 1, 1, 1, 1, 1, 1, 1, 1, 1, 1, 1, 1, 1, 1, 1, 1, 1, 1, 1, 1, 1, 1, 1, 1, 1, 1, 1, 1, 1, 1, 1, 1, 1, 1, 1, 1, 1, 1, 1, 1, 1, 1, 1, 1, 1, 1, 1, 1, 1, 1, 1, 1, 1, 1, 1, 1, 1, 1, 1, 1, 1, 1, 1, 1, 1, 1, 1, 1, 1, 1, 1, 1, 1, 1, 1, 1, 1, 1, 1, 1, 1, 1, 1, 1, 1, 1, 1, 1, 1, 1, 1, 1, 1, 1, 1, 1, 1, 1, 1, 1, 1, 1, 1, 1, 1, 1, 1, 1, 1, 1, 1, 1, 1, 1, 1, 1, 1, 1, 1, 1, 1, 1, 1, 1, 1, 1, 1, 1, 1, 1, 1, 1, 1, 1, 1, 1, 1, 1, 1, 1, 1, 1, 1, 1, 1, 1, 1, 1, 1, 1, 1, 1, 1, 1, 1, 1, 1, 1, 1, 1, 1, 1, 1, 1, 1, 1, 1, 1, 1, 1, 1, 1, 1, 1, 1, 1, 1, 1, 1, 1, 1, 1, 1, 1, 1, 1, 1, 1, 1, 1, 1, 1, 1, 1, 1, 1, 1, 1, 1, 1, 1, 1, 1, 1, 1, 1, 1, 1, 1, 1, 1, 1, 1, 1, 1, 1, 1, 1, 1, 1, 1, 1, 1, 1, 1, 1, 1, 1, 1, 1, 1, 1, 1, 1, 1, 1, 1, 1, 1, 1, 1, 1, 1, 1, 1, 1, 1, 1, 1, 1, 1, 1, 1, 1, 1, 1, 1, 1, 1, 1, 1, 1, 1, 1, 1, 1, 1, 1, 1, 1, 1, 1, 1, 1, 1, 1, 1, 1, 1, 1, 1, 1, 1, 1, 1, 1, 1, 1, 1, 1, 1, 1, 1, 1, 1, 1, 1, 1, 1, 1, 1, 1, 1, 1, 1, 1, 1, 1, 1, 1, 1, 1, 1, 1, 1, 1, 1, 1, 1, 1, 1, 1, 1, 1, 1, 1, 1, 1, 1, 1, 1, 1, 1, 1, 1, 1, 1, 1, 1, 1, 1, 1, 1, 1, 1, 1, 1, 1, 1, 1, 1, 1, 1, 1, 1, 1, 1, 1, 1, 1, 1, 1, 1, 1, 1, 1, 1, 1, 1, 1, 1, 1, 1, 1, 1, 1, 1, 1, 1, 1, 1, 1, 1, 1, 1, 1, 1, 1, 1, 1, 1, 1, 1, 1, 1, 1, 1, 1, 1, 1, 1, 1, 1, 1, 1, 1, 1, 1, 1, 1, 1, 1, 1, 1, 1, 1, 1, 1, 1, 1, 1, 1, 1, 1, 1, 1, 1, 1, 1, 1, 1, 1, 1, 1, 1, 1, 1, 1, 1, 1, 1, 1, 1, 1, 1, 1, 1, 1, 1, 1, 1, 1, 1, 1, 1, 1, 1, 1, 1, 1, 1, 1, 1, 1, 1, 1, 1, 1, 1, 1, 1, 1, 1, 1, 1, 1, 1, 1, 1, 1, 1, 1, 1, 1, 1, 1, 1, 1, 1, 1, 1, 1, 1, 1, 1, 1, 1, 1, 1, 1, 1, 1, 1, 1, 1, 1, 1, 1, 1, 1, 1, 1, 1, 1, 1, 1, 1, 1, 1, 1, 1, 1, 1, 1, 1, 1, 1, 1, 1, 1, 1, 1, 1, 1, 1, 1, 1, 1, 1, 1, 1, 1, 1, 1, 1, 1, 1, 1, 1, 1, 1, 1, 1, 1, 1, 1, 1, 1, 1, 1, 1, 1, 1, 1, 1, 1, 1, 1, 1, 1, 1, 1, 1, 1, 1, 1, 1, 1, 1, 1, 1, 1, 1, 1, 1, 1, 1, 1, 1, 1, 1, 1, 1, 1, 1, 1, 1, 1, 1, 1, 1, 1, 1, 1, 1, 1, 1, 1, 1, 1, 1, 1, 1, 1, 1, 1, 1, 1, 1, 1, 1, 1, 1, 1, 1, 1, 1, 1, 1, 1, 1, 1, 1, 1, 1, 1, 1, 1, 1, 1, 1, 1, 1, 1, 1, 1, 1, 1, 1, 1, 1, 1, 1, 1, 1, 1, 1, 1, 1, 1, 1, 1, 1, 1, 1, 1, 1, 1, 1, 1, 1, 1, 1, 1, 1, 1, 1, 1, 1, 1, 1, 1, 1, 1, 1, 1, 1, 1, 1, 1, 1, 1, 1, 1, 1, 1, 1, 1, 1, 1, 1, 1, 1, 1, 1, 1, 1, 1, 1, 1, 1, 1, 1, 1, 1, 1, 1, 1, 1, 1, 1, 1, 1, 1, 1, 1, 1, 1, 1, 1, 1, 1, 1, 1, 1, 1, 1, 1, 1, 1, 1, 1, 1, 1, 1, 1, 1, 1, 1, 1, 1, 1, 1, 1, 1, 1, 1, 1, 1, 1, 1, 1, 1, 1, 1, 1, 1, 1, 1, 1, 1, 1, 1, 1, 1, 1, 1, 1, 1, 1, 1, 1, 1, 1, 1, 1, 1, 1, 1, 1, 1, 1, 1, 1, 1, 1, 1, 1, 1, 1, 1, 1, 1, 1, 1, 1, 1, 1, 1, 1, 1, 1, 1, 1, 1, 1, 1, 1, 1, 1, 1, 1, 1, 1, 1, 1, 1, 1, 1, 1, 1, 1, 1, 1, 1, 1, 1, 1, 1, 1, 1, 1, 1, 1, 1, 1, 1, 1, 1, 1, 1, 1, 1, 1, 1, 1, 1, 1, 1, 1, 1, 1, 1, 1, 1, 1, 1, 1, 1, 1, 1, 1, 1, 1, 1, 1, 1, 1, 1, 1, 1, 1, 1, 1, 1, 1, 1, 1, 1, 1, 1, 1, 1, 1, 1, 1, 1, 1, 1, 1, 1, 1, 1, 1, 1, 1, 1, 1, 1, 1, 1, 1, 1, 1, 1, 1, 1, 1, 1, 1, 1, 1, 1, 1, 1, 1, 1, 1, 1, 1, 1, 1, 1, 1, 1, 1, 1, 1, 1, 1, 1, 1, 1, 1, 1, 1, 1, 1, 1, 1, 1, 1, 1, 1, 1, 1, 1, 1, 1, 1, 1, 1, 1, 1, 1, 1, 1, 1, 1, 1, 1, 1, 1, 1, 1, 1, 1, 1, 1, 1, 1, 1, 1, 1, 1, 1, 1, 1, 1, 1, 1, 1, 1, 1, 1, 1, 1, 1, 1, 1, 1, 1, 1, 1, 1, 1, 1, 1, 1, 1, 1, 1, 1, 1, 1, 1, 1, 1, 1, 1, 1, 1, 1, 1, 1, 1, 1, 1, 1, 1, 1, 1, 1, 1, 1, 1, 1, 1, 1, 1, 1, 1, 1, 1, 1, 1, 1, 1, 1, 1, 1, 1, 1, 1, 1, 1, 1, 1, 1, 1, 1, 1, 1, 1, 1, 1, 1, 1, 1, 1, 1, 1, 1, 1, 1, 1, 1, 1, 1, 1, 1, 1, 1, 1, 1, 1, 1, 1, 1, 1, 1, 1, 1, 1, 1, 1, 1, 1, 1, 1, 1, 1, 1, 1, 1, 1, 1, 1, 1, 1, 1, 1, 1, 1, 1, 1, 1, 1, 1, 1, 1, 1, 1, 1, 1, 1, 1, 1, 1, 1, 1, 1, 1, 1, 1, 1, 1, 1, 1, 1, 1, 1, 1, 1, 1, 1, 1, 1, 1, 1, 1, 1, 1, 1, 1, 1, 1, 1, 1, 1, 1, 1, 1, 1, 1, 1, 1, 1, 1, 1, 1, 1, 1, 1, 1, 1, 1, 1, 1, 1, 1, 1, 1, 1, 1, 1, 1, 1, 1, 1, 1, 1, 1, 1, 1, 1, 1, 1, 1, 1, 1, 1, 1, 1, 1, 1, 1, 1, 1, 1, 1, 1, 1, 1, 1, 1, 1, 1, 1, 1, 1, 1, 1, 1, 1, 1, 1, 1, 1, 1, 1, 1, 1, 1, 1, 1, 1, 1, 1, 1, 1, 1, 1, 1, 1, 1, 1, 1, 1, 1, 1, 1, 1, 1, 1, 1, 1, 1, 1, 1, 1, 1, 1, 1, 1, 1, 1, 1, 1, 1, 1, 1, 1, 1, 1, 1, 1, 1, 1, 1, 1, 1, 1, 1, 1, 1, 1, 1, 1, 1, 1, 1, 1, 1, 1, 1, 1, 1, 1, 1, 1, 1, 1, 1, 1, 1, 1, 1, 1, 1, 1, 1, 1, 1, 1, 1, 1, 1, 1, 1, 1, 1, 1, 1, 1, 1, 1, 1, 1, 1, 1, 1, 1, 1, 1, 1, 1, 1, 1, 1, 1, 1, 1, 1, 1, 1, 1, 1, 1, 1, 1, 1, 1, 1, 1, 1, 1, 1, 1, 1, 1, 1, 1, 1, 1, 1, 1, 1, 1, 1, 1, 1, 1, 1, 1, 1, 1, 1, 1, 1, 1, 1, 1, 1, 1, 1, 1, 1, 1, 1, 1, 1, 1, 1, 1, 1, 1, 1, 1, 1, 1, 1, 1, 1, 1, 1, 1, 1, 1, 1, 1, 1, 1, 1, 1, 1, 1, 1, 1, 1, 1, 1, 1, 1, 1, 1, 1, 1, 1, 1, 1, 1, 1, 1, 1, 1, 1, 1, 1, 1, 1, 1, 1, 1, 1, 1, 1, 1, 1, 1, 1, 1, 1, 1, 1, 1, 1, 1, 1, 1, 1, 1, 1, 1, 1, 1, 1, 1, 1, 1, 1, 1, 1, 1, 1, 1, 1, 1, 1, 1, 1, 1, 1, 1, 1, 1, 1, 1, 1, 1, 1, 1, 1, 1, 1, 1, 1, 1, 1, 1, 1, 1, 1, 1, 1, 1, 1, 1, 1, 1, 1, 1, 1, 1, 1, 1, 1, 1, 1, 1, 1, 1, 1, 1, 1, 1, 1, 1, 1, 1, 1, 1, 1, 1, 1, 1, 1, 1, 1, 1, 1, 1, 1, 1, 1, 1, 1, 1, 1, 1, 1, 1, 1, 1, 1, 1, 1, 1, 1, 1, 1, 1, 1, 1, 1, 1, 1, 1, 1, 1, 1, 1, 1, 1, 1, 1, 1, 1, 1, 1, 1, 1, 1, 1, 1, 1, 1, 1, 1, 1, 1, 1, 1, 1, 1, 1, 1, 1, 1, 1, 1, 1, 1, 1, 1, 1, 1, 1, 1, 1, 1, 1, 1, 1, 1, 1, 1, 1, 1, 1, 1, 1, 1, 1, 1, 1, 1, 1, 1, 1, 1, 1, 1, 1, 1, 1, 1, 1, 1, 1, 1, 1, 1, 1, 1, 1, 1, 1, 1, 1, 1, 1, 1, 1, 1, 1, 1, 1, 1, 1, 1, 1, 1, 1, 1, 1, 1, 1, 1, 1, 1, 1, 1, 1, 1, 1, 1, 1, 1, 1, 1, 1, 1, 1, 1, 1, 1, 1, 1, 1, 1, 1, 1, 1, 1, 1, 1, 1, 1, 1, 1, 1, 1, 1, 1, 1, 1, 1, 1, 1, 1, 1, 1, 1, 1, 1, 1, 1, 1, 1, 1, 1, 1, 1, 1, 1, 1, 1, 1, 1, 1, 1, 1, 1, 1, 1, 1, 1, 1, 1, 1, 1, 1, 1, 1, 1, 1, 1, 1, 1, 1, 1, 1, 1, 1, 1, 1, 1, 1, 1, 1, 1, 1, 1, 1, 1, 1, 1, 1, 1, 1, 1, 1, 1, 1, 1, 1, 1, 1, 1, 1, 1, 1, 1, 1, 1, 1, 1, 1, 1, 1, 1, 1, 1, 1, 1, 1, 1, 1, 1, 1, 1, 1, 1, 1, 1, 1, 1, 1, 1, 1, 1, 1, 1, 1, 1, 1, 1, 1, 1, 1, 1, 1, 1, 1, 1, 1, 1, 1, 1, 1, 1, 1, 1, 1, 1, 1, 1, 1, 1, 1, 1, 1, 1, 1, 1, 1, 1, 1, 1, 1, 1, 1, 1, 1, 1, 1, 1, 1, 1, 1, 1, 1, 1, 1, 1, 1, 1, 1, 1, 1, 1, 1, 1, 1, 1, 1, 1, 1, 1, 1, 1, 1, 1, 1, 1, 1, 1, 1, 1, 1, 1, 1, 1, 1, 1, 1, 1, 1, 1, 1, 1, 1, 1, 1, 1, 1, 1, 1, 1, 1, 1, 1, 1, 1, 1, 1, 1, 1, 1, 1, 1, 1, 1, 1, 1, 1, 1, 1, 1, 1, 1, 1, 1, 1, 1, 1, 1, 1, 1, 1, 1, 1, 1, 1, 1, 1, 1, 1, 1, 1, 1, 1, 1, 1, 1, 1, 1, 1, 1, 1, 1, 1, 1, 1, 1, 1, 1, 1, 1, 1, 1, 1, 1, 1, 1, 1, 1, 1, 1, 1, 1, 1, 1, 1, 1, 1, 1, 1, 1, 1, 1, 1, 1, 1, 1, 1, 1, 1, 1, 1, 1, 1, 1, 1, 1, 1, 1, 1, 1, 1, 1, 1, 1, 1, 1, 1, 1, 1, 1, 1, 1, 1, 1, 1, 1, 1, 1, 1, 1, 1, 1, 1, 1, 1, 1, 1, 1, 1, 1, 1, 1, 1, 1, 1, 1, 1, 1, 1, 1, 1, 1, 1, 1, 1, 1, 1, 1, 1, 1, 1, 1, 1, 1, 1, 1, 1, 1, 1, 1, 1, 1, 1, 1, 1, 1, 1, 1, 1, 1, 1, 1, 1, 1, 1, 1, 1, 1, 1, 1, 1, 1, 1, 1, 1, 1, 1, 1, 1, 1, 1, 1, 1, 1, 1, 1, 1, 1, 1, 1, 1, 1, 1, 1, 1, 1, 1, 1, 1, 1, 1, 1, 1, 1, 1, 1, 1, 1, 1, 1, 1, 1, 1, 1, 1, 1, 1, 1, 1, 1, 1, 1, 1, 1, 1, 1, 1, 1, 1, 1, 1, 1, 1, 1, 1, 1, 1, 1, 1, 1, 1, 1, 1, 1, 1, 1, 1, 1, 1, 1, 1, 1, 1, 1, 1, 1, 1, 1, 1, 1, 1, 1, 1, 1, 1, 1, 1, 1, 1, 1, 1, 1, 1, 1, 1, 1, 1, 1, 1, 1, 1, 1, 1, 1, 1, 1, 1, 1, 1, 1, 1, 1, 1, 1, 1, 1, 1, 1, 1, 1, 1, 1, 1, 1, 1, 1, 1, 1, 1, 1, 1, 1, 1, 1, 1, 1, 1, 1, 1, 1, 1, 1, 1, 1, 1, 1, 1, 1, 1, 1, 1, 1, 1, 1, 1, 1, 1, 1, 1, 1, 1, 1, 1, 1, 1, 1, 1, 1, 1, 1, 1, 1, 1, 1, 1, 1, 1, 1, 1, 1, 1, 1, 1, 1, 1, 1, 1, 1, 1, 1, 1, 1, 1, 1, 1, 1, 1, 1, 1, 1, 1, 1, 1, 1, 1, 1, 1, 1, 1, 1, 1, 1, 1, 1, 1, 1, 1, 1, 1, 1, 1, 1, 1, 1, 1, 1, 1, 1, 1, 1, 1, 1, 1, 1, 1, 1, 1, 1, 1, 1, 1, 1, 1, 1, 1, 1, 1, 1, 1, 1, 1, 1, 1, 1, 1, 1, 1, 1, 1, 1, 1, 1, 1, 1, 1, 1, 1, 1, 1, 1, 1, 1, 1, 1, 1, 1, 1, 1, 1, 1, 1, 1, 1, 1, 1, 1, 1, 1, 1, 1, 1, 1, 1, 1, 1, 1, 1, 1, 1, 1, 1, 1, 1, 1, 1, 1, 1, 1, 1, 1, 1, 1, 1, 1, 1, 1, 1, 1, 1, 1, 1, 1, 1, 1, 1, 1, 1, 1, 1, 1, 1, 1, 1, 1, 1, 1, 1, 1, 1, 1, 1, 1, 1, 1, 1, 1, 1, 1, 1, 1, 1, 1, 1, 1, 1, 1, 1, 1, 1, 1, 1, 1, 1, 1, 1, 1, 1, 1, 1, 1, 1, 1, 1, 1, 1, 1, 1, 1, 1, 1, 1, 1, 1, 1, 1, 1, 1, 1, 1, 1, 1, 1, 1, 1, 1, 1, 1, 1, 1, 1, 1, 1, 1, 1, 1, 1, 1, 1, 1, 1, 1, 1, 1, 1, 1, 1, 1, 1, 1, 1, 1, 1, 1, 1, 1, 1, 1, 1, 1, 1, 1, 1, 1, 1, 1, 1, 1, 1, 1, 1, 1, 1, 1, 1, 1, 1, 1, 1, 1, 1, 1, 1, 1, 1, 1, 1, 1, 1, 1, 1, 1, 1, 1, 1, 1, 1, 1, 1, 1, 1, 1, 1, 1, 1, 1, 1, 1, 1, 1, 1, 1, 1, 1, 1, 1, 1, 1, 1, 1, 1, 1, 1, 1, 1, 1, 1, 1, 1, 1, 1, 1, 1, 1, 1, 1, 1, 1, 1, 1, 1, 1, 1, 1, 1, 1, 1, 1, 1, 1, 1, 1, 1, 1, 1, 1, 1, 1, 1, 1, 1, 1, 1, 1, 1, 1, 1, 1, 1, 1, 1, 1, 1, 1, 1, 1, 1, 1, 1, 1, 1, 1, 1, 1, 1, 1, 1, 1, 1, 1, 1, 1, 1, 1, 1, 1, 1, 1, 1, 1, 1, 1, 1, 1, 1, 1, 1, 1, 1, 1, 1, 1, 1, 1, 1, 1, 1, 1, 1, 1, 1, 1, 1, 1, 1, 1, 1, 1, 1, 1, 1, 1, 1, 1, 1, 1, 1, 1, 1, 1, 1, 1, 1, 1, 1, 1, 1, 1, 1, 1, 1, 1, 1, 1, 1, 1, 1, 1, 1, 1, 1, 1, 1, 1, 1, 1, 1, 1, 1, 1, 1, 1, 1, 1, 1, 1, 1, 1, 1, 1, 1, 1, 1, 1, 1, 1, 1, 1, 1, 1, 1, 1, 1, 1, 1, 1, 1, 1, 1, 1, 1, 1, 1, 1, 1, 1, 1, 1, 1, 1, 1, 1, 1, 1, 1, 1, 1, 1, 1, 1, 1, 1, 1, 1, 1, 1, 1, 1, 1, 1, 1, 1, 1, 1, 1, 1, 1, 1, 1, 1, 1, 1, 1, 1, 1, 1, 1, 1, 1, 1, 1, 1, 1, 1, 1, 1, 1, 1, 1, 1, 1, 1, 1, 1, 1, 1, 1, 1, 1, 1, 1, 1, 1, 1, 1, 1, 1, 1, 1, 1, 1, 1, 1, 1, 1, 1, 1, 1, 1, 1, 1, 1, 1, 1, 1, 1, 1, 1, 1, 1, 1, 1, 1, 1, 1, 1, 1, 1, 1, 1, 1, 1, 1, 1, 1, 1, 1, 1, 1, 1, 1, 1, 1, 1, 1, 1, 1, 1, 1, 1, 1, 1, 1, 1, 1, 1, 1, 1, 1, 1, 1, 1, 1, 1, 1, 1, 1, 1, 1, 1, 1, 1, 1, 1, 1, 1, 1, 1, 1, 1, 1, 1, 1, 1, 1, 1, 1, 1, 1, 1, 1, 1, 1, 1, 1, 1, 1, 1, 1, 1, 1, 1, 1, 1, 1, 1, 1, 1, 1, 1, 1, 1, 1, 1, 1, 1, 1, 1, 1, 1, 1, 1, 1, 1, 1, 1, 1, 1, 1, 1, 1, 1, 1, 1, 1, 1, 1, 1, 1, 1, 1, 1, 1, 1, 1, 1, 1, 1, 1, 1, 1, 1, 1, 1, 1, 1, 1, 1, 1, 1, 1, 1, 1, 1, 1, 1, 1, 1, 1, 1, 1, 1, 1, 1, 1, 1, 1, 1, 1, 1, 1, 1, 1, 1, 1, 1, 1, 1, 1, 1, 1, 1, 1, 1, 1, 1, 1, 1, 1, 1, 1, 1, 1, 1, 1, 1, 1, 1, 1, 1, 1, 1, 1, 1, 1, 1, 1, 1, 1, 1, 1, 1, 1, 1, 1, 1, 1, 1, 1, 1, 1, 1, 1, 1, 1, 1, 1, 1, 1, 1, 1, 1, 1, 1, 1, 1, 1, 1, 1, 1, 1, 1, 1, 1, 1, 1, 1, 1, 1, 1, 1, 1, 1, 1, 1, 1, 1, 1, 1, 1, 1, 1, 1, 1, 1, 1, 1, 1, 1, 1, 1, 1, 1, 1, 1, 1, 1, 1, 1, 1, 1, 1, 1, 1, 1, 1, 1, 1, 1, 1, 1, 1, 1, 1, 1, 1, 1, 1, 1, 1, 1, 1, 1, 1, 1, 1, 1, 1, 1, 1, 1, 1, 1, 1, 1, 1, 1, 1, 1, 1, 1, 1, 1, 1, 1, 1, 1, 1, 1, 1, 1, 1, 1, 1, 1, 1, 1, 1, 1, 1, 1, 1, 1, 1, 1, 1, 1, 1, 1, 1, 1, 1, 1, 1, 1, 1, 1, 1, 1, 1, 1, 1, 1, 1, 1, 1, 1, 1, 1, 1, 1, 1, 1, 1, 1, 1, 1, 1, 1, 1, 1, 1, 1, 1, 1, 1, 1, 1, 1, 1, 1, 1, 1, 1, 1, 1, 1, 1, 1, 1, 1, 1, 1, 1, 1, 1, 1, 1, 1, 1, 1, 1, 1, 1, 1, 1, 1, 1, 1, 1, 1, 1, 1, 1, 1, 1, 1, 1, 1, 1, 1, 1, 1, 1, 1, 1, 1, 1, 1, 1, 1, 1, 1, 1, 1, 1, 1, 1, 1, 1, 1, 1, 1, 1, 1, 1, 1, 1, 1, 1, 1, 1, 1, 1, 1, 1, 1, 1, 1, 1, 1, 1, 1, 1, 1, 1, 1, 1, 1, 1, 1, 1, 1, 1, 1, 1, 1, 1, 1, 1, 1, 1, 1, 1, 1, 1, 1, 1, 1, 1, 1, 1, 1, 1, 1, 1, 1, 1, 1, 1, 1, 1, 1, 1, 1, 1, 1, 1, 1, 1, 1, 1, 1, 1, 1, 1, 1, 1, 1, 1, 1, 1, 1, 1, 1, 1, 1, 1, 1, 1, 1, 1, 1, 1, 1, 1, 1, 1, 1, 1, 1, 1, 1, 1, 1, 1, 1, 1, 1, 1, 1, 1, 1, 1, 1, 1, 1, 1, 1, 1, 1, 1, 1, 1, 1, 1, 1, 1, 1, 1, 1, 1, 1, 1, 1, 1, 1, 1, 1, 1, 1, 1, 1, 1, 1, 1, 1, 1, 1, 1, 1, 1, 1, 1, 1, 1, 1, 1, 1, 1, 1, 1, 1, 1, 1, 1, 1, 1, 1, 1, 1, 1, 1, 1, 1, 1, 1, 1, 1, 1, 1, 1, 1, 1, 1, 1, 1, 1, 1, 1, 1, 1, 1, 1, 1, 1, 1, 1, 1, 1, 1, 1, 1, 1, 1, 1, 1, 1, 1, 1, 1, 1, 1, 1, 1, 1, 1, 1, 1, 1, 1, 1, 1, 1, 1, 1, 1, 1, 1, 1, 1, 1, 1, 1, 1, 1, 1, 1, 1, 1, 1, 1, 1, 1, 1, 1, 1, 1, 1, 1, 1, 1, 1, 1, 1, 1, 1, 1, 1, 1, 1, 1, 1, 1, 1, 1, 1, 1, 1, 1, 1, 1, 1, 1, 1, 1, 1, 1, 1, 1, 1, 1, 1, 1, 1, 1, 1, 1, 1, 1, 1, 1, 1, 1, 1, 1, 1, 1, 1, 1, 1, 1, 1, 1, 1, 1, 1, 1, 1, 1, 1, 1, 1, 1, 1, 1, 1, 1, 1, 1, 1, 1, 1, 1, 1, 1, 1, 1, 1, 1, 1, 1, 1, 1, 1, 1, 1, 1, 1, 1, 1, 1, 1, 1, 1, 1, 1, 1, 1, 1, 1, 1, 1, 1, 1, 1, 1, 1, 1, 1, 1, 1, 1, 1, 1, 1, 1, 1, 1, 1, 1, 1, 1, 1, 1, 1, 1, 1, 1, 1, 1, 1, 1, 1, 1, 1, 1, 1, 1, 1, 1, 1, 1, 1, 1, 1, 1, 1, 1, 1, 1, 1, 1, 1, 1, 1, 1, 1, 1, 1, 1, 1, 1, 1, 1, 1, 1, 1, 1, 1, 1, 1, 1, 1, 1, 1, 1, 1, 1, 1, 1, 1, 1, 1, 1, 1, 1, 1, 1, 1, 1, 1, 1, 1, 1, 1, 1, 1, 1, 1, 1, 1, 1, 1, 1, 1, 1, 1, 1, 1, 1, 1, 1, 1, 1, 1, 1, 1, 1, 1, 1, 1, 1, 1, 1, 1, 1, 1, 1, 1, 1, 1, 1, 1, 1, 1, 1, 1, 1, 1, 1, 1, 1, 1, 1, 1, 1, 1, 1, 1, 1, 1, 1, 1, 1, 1, 1, 1, 1, 1, 1, 1, 1, 1, 1, 1, 1, 1, 1, 1, 1, 1, 1, 1, 1, 1, 1, 1, 1, 1, 1, 1, 1, 1, 1, 1, 1, 1, 1, 1, 1, 1, 1, 1, 1, 1, 1, 1, 1, 1, 1, 1, 1, 1, 1, 1, 1, 1, 1, 1, 1, 1, 1, 1, 1, 1, 1, 1, 1, 1, 1, 1, 1, 1, 1, 1, 1, 1, 1, 1, 1, 1, 1, 1, 1, 1, 1, 1, 1, 1, 1, 1, 1, 1, 1, 1, 1, 1, 1, 1, 1, 1, 1, 1, 1, 1, 1, 1, 1, 1, 1, 1, 1, 1, 1, 1, 1, 1, 1, 1, 1, 1, 1, 1, 1, 1, 1, 1, 1, 1, 1, 1, 1, 1, 1, 1, 1, 1, 1, 1, 1, 1, 1, 1, 1, 1, 1, 1, 1, 1, 1, 1, 1, 1, 1, 1, 1, 1, 1, 1, 1, 1, 1, 1, 1, 1, 1, 1, 1, 1, 1, 1, 1, 1, 1, 1, 1, 1, 1, 1, 1, 1, 1, 1, 1, 1, 1, 1, 1, 1, 1, 1, 1, 1, 1, 1, 1, 1, 1, 1, 1, 1, 1, 1, 1, 1, 1, 1, 1, 1, 1, 1, 1, 1, 1, 1, 1, 1, 1, 1, 1, 1, 1, 1, 1, 1, 1, 1, 1, 1, 1, 1, 1, 1, 1, 1, 1, 1, 1, 1, 1, 1, 1, 1, 1, 1, 1, 1, 1, 1, 1, 1, 1, 1, 1, 1, 1, 1, 1, 1, 1, 1, 1, 1, 1, 1, 1, 1, 1, 1, 1, 1, 1, 1, 1, 1, 1, 1, 1, 1, 1, 1, 1, 1, 1, 1, 1, 1, 1, 1, 1, 1, 1, 1, 1, 1, 1, 1, 1, 1, 1, 1, 1, 1, 1, 1, 1, 1, 1, 1, 1, 1, 1, 1, 1, 1, 1, 1, 1, 1, 1, 1, 1, 1, 1, 1, 1, 1, 1, 1, 1, 1, 1, 1, 1, 1, 1, 1, 1, 1, 1, 1, 1, 1, 1, 1, 1, 1, 1, 1, 1, 1, 1, 1, 1, 1, 1, 1, 1, 1, 1, 1, 1, 1, 1, 1, 1, 1, 1, 1, 1, 1, 1, 1, 1, 1, 1, 1, 1, 1, 1, 1, 1, 1, 1, 1, 1, 1, 1, 1, 1, 1, 1, 1, 1, 1, 1, 1, 1, 1, 1, 1, 1, 1, 1, 1, 1, 1, 1, 1, 1, 1, 1, 1, 1, 1, 1, 1, 1, 1, 1, 1, 1, 1, 1, 1, 1, 1, 1, 1, 1, 1, 1, 1, 1, 1, 1, 1, 1, 1, 1, 1, 1, 1, 1, 1, 1, 1, 1, 1, 1, 1, 1, 1, 1, 1, 1, 1, 1, 1, 1, 1, 1, 1, 1, 1, 1, 1, 1, 1, 1, 1, 1, 1, 1, 1, 1, 1, 1, 1, 1, 1, 1, 1, 1, 1, 1, 1, 1, 1, 1, 1, 1, 1, 1, 1, 1, 1, 1, 1, 1, 1, 1, 1, 1, 1, 1, 1, 1, 1, 1, 1, 1, 1, 1, 1, 1, 1, 1, 1, 1, 1, 1, 1, 1, 1, 1, 1, 1, 1, 1, 1, 1, 1, 1, 1, 1, 1, 1, 1, 1, 1, 1, 1, 1, 1, 1, 1, 1, 1, 1, 1, 1, 1, 1, 1, 1, 1, 1, 1, 1, 1, 1, 1, 1, 1, 1, 1, 1, 1, 1, 1, 1, 1, 1, 1, 1, 1, 1, 1, 1, 1, 1, 1, 1, 1, 1, 1, 1, 1, 1, 1, 1, 1, 1, 1, 1, 1, 1, 1, 1, 1, 1, 1, 1, 1, 1, 1, 1, 1, 1, 1, 1, 1, 1, 1, 1, 1, 1, 1, 1, 1, 1, 1, 1, 1, 1, 1, 1, 1, 1, 1, 1, 1, 1, 1, 1, 1, 1, 1, 1, 1, 1, 1, 1, 1, 1, 1, 1, 1, 1, 1, 1, 1, 1, 1, 1, 1, 1, 1, 1, 1, 1, 1, 1, 1, 1, 1, 1, 1, 1, 1, 1, 1, 1, 1, 1, 1, 1, 1, 1, 1, 1, 1, 1, 1, 1, 1, 1, 1, 1, 1, 1, 1, 1, 1, 1, 1, 1, 1, 1, 1, 1, 1, 1, 1, 1, 1, 1, 1, 1, 1, 1, 1, 1, 1, 1, 1, 1, 1, 1, 1, 1, 1, 1, 1, 1, 1, 1, 1, 1, 1, 1, 1, 1, 1, 1, 1, 1, 1, 1, 1, 1, 1, 1, 1, 1, 1, 1, 1, 1, 1, 1, 1, 1, 1, 1, 1, 1, 1, 1, 1, 1, 1, 1, 1, 1, 1, 1, 1, 1, 1, 1, 1, 1, 1, 1, 1, 1, 1, 1, 1, 1, 1, 1, 1, 1, 1, 1, 1, 1, 1, 1, 1, 1, 1, 1, 1, 1, 1, 1, 1, 1, 1, 1, 1, 1, 1, 1, 1, 1, 1, 1, 1, 1, 1, 1, 1, 1, 1, 1, 1, 1, 1, 1, 1, 1, 1, 1, 1, 1, 1, 1, 1, 1, 1, 1, 1, 1, 1, 1, 1, 1, 1, 1, 1, 1, 1, 1, 1, 1, 1, 1, 1, 1, 1, 1, 1, 1, 1, 1, 1, 1, 1, 1, 1, 1, 1, 1, 1, 1, 1, 1, 1, 1, 1, 1, 1, 1, 1, 1, 1, 1, 1, 1, 1, 1, 1, 1, 1, 1, 1, 1, 1, 1, 1, 1, 1, 1, 1, 1, 1, 1, 1, 1, 1, 1, 1, 1, 1, 1, 1, 1, 1, 1, 1, 1, 1, 1, 1, 1, 1, 1, 1, 1, 1, 1, 1, 1, 1, 1, 1, 1, 1, 1, 1, 1, 1, 1, 1, 1, 1, 1, 1, 1, 1, 1, 1, 1, 1, 1, 1, 1, 1, 1, 1, 1, 1, 1, 1, 1, 1, 1, 1, 1, 1, 1, 1, 1, 1, 1, 1, 1, 1, 1, 1, 1, 1, 1, 1, 1, 1, 1, 1, 1, 1, 1, 1, 1, 1, 1, 1, 1, 1, 1, 1, 1, 1, 1, 1, 1, 1, 1, 1, 1, 1, 1, 1, 1, 1, 1, 1, 1, 1, 1, 1, 1, 1, 1, 1, 1, 1, 1, 1, 1, 1, 1, 1, 1, 1, 1, 1, 1, 1, 1, 1, 1, 1, 1, 1, 1, 1, 1, 1, 1, 1, 1, 1, 1, 1, 1, 1, 1, 1, 1, 1, 1, 1, 1, 1, 1, 1, 1, 1, 1, 1, 1, 1, 1, 1, 1, 1, 1, 1, 1, 1, 1, 1, 1, 1, 1, 1, 1, 1, 1, 1, 1, 1, 1, 1, 1, 1, 1, 1, 1, 1, 1, 1, 1, 1, 1, 1, 1, 1, 1, 1, 1, 1, 1, 1, 1, 1, 1, 1, 1, 1, 1, 1, 1, 1, 1, 1, 1, 1, 1, 1, 1, 1, 1, 1, 1, 1, 1, 1, 1, 1, 1, 1, 1, 1, 1, 1, 1, 1, 1, 1, 1, 1, 1, 1, 1, 1, 1, 1, 1, 1, 1, 1, 1, 1, 1, 1, 1, 1, 1, 1, 1, 1, 1, 1, 1, 1, 1, 1, 1, 1, 1, 1, 1, 1, 1, 1, 1, 1, 1, 1, 1, 1, 1, 1, 1, 1, 1, 1, 1, 1, 1, 1, 1, 1, 1, 1, 1, 1, 1, 1, 1, 1, 1, 1, 1, 1, 1, 1, 1, 1, 1, 1, 1, 1, 1, 1, 1, 1, 1, 1, 1, 1, 1, 1, 1, 1, 1, 1, 1, 1, 1, 1, 1, 1, 1, 1, 1, 1, 1, 1, 1, 1, 1, 1, 1, 1, 1, 1, 1, 1, 1, 1, 1, 1, 1, 1, 1, 1, 1, 1, 1, 1, 1, 1, 1, 1, 1, 1, 1, 1, 1, 1, 1, 1, 1, 1, 1, 1, 1, 1, 1, 1, 1, 1, 1, 1, 1, 1, 1, 1, 1, 1, 1, 1, 1, 1, 1, 1, 1, 1, 1, 1, 1, 1, 1, 1, 1, 1, 1, 1, 1, 1, 1, 1, 1, 1, 1, 1, 1, 1, 1, 1, 1, 1, 1, 1, 1, 1, 1, 1, 1, 1, 1, 1, 1, 1, 1, 1, 1, 1, 1, 1, 1, 1, 1, 1, 1, 1, 1, 1, 1, 1, 1, 1, 1, 1, 1, 1, 1, 1, 1, 1, 1, 1, 1, 1, 1, 1, 1, 1, 1, 1, 1, 1, 1, 1, 1, 1, 1, 1, 1, 1, 1, 1, 1, 1, 1, 1, 1, 1, 1, 1, 1, 1, 1, 1, 1, 1, 1, 1, 1, 1, 1, 1, 1, 1, 1, 1, 1, 1, 1, 1, 1, 1, 1, 1, 1, 1, 1, 1, 1, 1, 1, 1, 1, 1, 1, 1, 1, 1, 1, 1, 1, 1, 1, 1, 1, 1, 1, 1, 1, 1, 1, 1, 1, 1, 1, 1, 1, 1, 1, 1, 1, 1, 1, 1, 1, 1, 1, 1, 1, 1, 1, 1, 1, 1, 1, 1, 1, 1, 1, 1, 1, 1, 1, 1, 1, 1, 1, 1, 1, 1, 1, 1, 1, 1, 1, 1, 1, 1, 1, 1, 1, 1, 1, 1, 1, 1, 1, 1, 1, 1, 1, 1, 1, 1, 1, 1, 1, 1, 1, 1, 1, 1, 1, 1, 1, 1, 1, 1, 1, 1, 1, 1, 1, 1, 1, 1, 1, 1, 1, 1, 1, 1, 1, 1, 1, 1, 1, 1, 1, 1, 1, 1, 1, 1, 1, 1, 1, 1, 1, 1, 1, 1, 1, 1, 1, 1, 1, 1, 1, 1, 1, 1, 1, 1, 1, 1, 1, 1, 1, 1, 1, 1, 1, 1, 1, 1, 1, 1, 1, 1, 1, 1, 1, 1, 1, 1, 1, 1, 1, 1, 1, 1, 1, 1, 1, 1, 1, 1, 1, 1, 1, 1, 1, 1, 1, 1, 1, 1, 1, 1, 1, 1, 1, 1, 1, 1, 1, 1, 1, 1, 1, 1, 1, 1, 1, 1, 1, 1, 1, 1, 1, 1, 1, 1, 1, 1, 1, 1, 1, 1, 1, 1, 1, 1, 1, 1, 1, 1, 1, 1, 1, 1, 1, 1, 1, 1, 1, 1, 1, 1, 1, 1, 1, 1, 1, 1, 1, 1, 1, 1, 1, 1, 1, 1, 1, 1, 1, 1, 1, 1, 1, 1, 1, 1, 1, 1, 1, 1, 1, 1, 1, 1, 1, 1, 1, 1, 1, 1, 1, 1, 1, 1, 1, 1, 1, 1, 1, 1, 1, 1, 1, 1, 1, 1, 1, 1, 1, 1, 1, 1, 1, 1, 1, 1, 1, 1, 1, 1, 1, 1, 1, 1, 1, 1, 1, 1, 1, 1, 1, 1, 1, 1, 1, 1, 1, 1, 1, 1, 1, 1, 1, 1, 1, 1, 1, 1, 1, 1, 1, 1, 1, 1, 1, 1, 1, 1, 1, 1, 1, 1, 1, 1, 1, 1, 1, 1, 1, 1, 1, 1, 1, 1, 1, 1, 1, 1, 1, 1, 1, 1, 1, 1, 1, 1, 1, 1, 1, 1, 1, 1, 1, 1, 1, 1, 1, 1, 1, 1, 1, 1, 1, 1, 1, 1, 1, 1, 1, 1, 1, 1, 1, 1, 1, 1, 1, 1, 1, 1, 1, 1, 1, 1, 1, 1, 1, 1, 1, 1, 1, 1, 1, 1, 1, 1, 1, 1, 1, 1, 1, 1, 1, 1, 1, 1, 1, 1, 1, 1, 1, 1, 1, 1, 1, 1, 1, 1, 1, 1, 1, 1, 1, 1, 1, 1, 1, 1, 1, 1, 1, 1, 1, 1, 1, 1, 1, 1, 1, 1, 1, 1, 1, 1, 1, 1, 1, 1, 1, 1, 1, 1, 1, 1, 1, 1, 1, 1, 1, 1, 1, 1, 1, 1, 1, 1, 1, 1, 1, 1, 1, 1, 1, 1, 1, 1, 1, 1, 1, 1, 1, 1, 1, 1, 1, 1, 1, 1, 1, 1, 1, 1, 1, 1, 1, 1, 1, 1, 1, 1, 1, 1, 1, 1, 1, 1, 1, 1, 1, 1, 1, 1, 1, 1, 1, 1, 1, 1, 1, 1, 1, 1, 1, 1, 1, 1, 1, 1, 1, 1, 1, 1, 1, 1, 1, 1, 1, 1, 1, 1, 1, 1, 1, 1, 1, 1, 1, 1, 1, 1, 1, 1, 1, 1, 1, 1, 1, 1, 1, 1, 1, 1, 1, 1, 1, 1, 1, 1, 1, 1, 1, 1, 1, 1, 1, 1, 1, 1, 1, 1, 1, 1, 1, 1, 1, 1, 1, 1, 1, 1, 1, 1, 1, 1, 1, 1, 1, 1, 1, 1, 1, 1, 1, 1, 1, 1, 1, 1, 1, 1, 1, 1, 1, 1, 1, 1, 1, 1, 1, 1, 1, 1, 1, 1, 1, 1, 1, 1, 1, 1, 1, 1, 1, 1, 1, 1, 1, 1, 1, 1, 1, 1, 1, 1, 1, 1, 1, 1, 1, 1, 1, 1, 1, 1, 1, 1, 1, 1, 1, 1, 1, 1, 1, 1, 1, 1, 1, 1, 1, 1, 1, 1, 1, 1, 1, 1, 1, 1, 1, 1, 1, 1, 1, 1, 1, 1, 1, 1, 1, 1, 1, 1, 1, 1, 1, 1, 1, 1, 1, 1, 1, 1, 1, 1, 1, 1, 1, 1, 1, 1, 1, 1, 1, 1, 1, 1, 1, 1, 1, 1, 1, 1, 1, 1, 1, 1, 1, 1, 1, 1, 1, 1, 1, 1, 1, 1, 1, 1, 1, 1, 1, 1, 1, 1, 1, 1, 1, 1, 1, 1, 1, 1, 1, 1, 1, 1, 1, 1, 1, 1, 1, 1, 1, 1, 1, 1, 1, 1, 1, 1, 1, 1, 1, 1, 1, 1, 1, 1, 1, 1, 1, 1, 1, 1, 1, 1, 1, 1, 1, 1, 1, 1, 1, 1, 1, 1, 1, 1, 1, 1, 1, 1, 1, 1, 1, 1, 1, 1, 1, 1, 1, 1, 1, 1, 1, 1, 1, 1, 1, 1, 1, 1, 1, 1, 1, 1, 1, 1, 1, 1, 1, 1, 1, 1, 1, 1, 1, 1, 1, 1, 1, 1, 1, 1, 1, 1, 1, 1, 1, 1, 1, 1, 1, 1, 1, 1, 1, 1, 1, 1, 1, 1, 1, 1, 1, 1, 1, 1, 1, 1, 1, 1, 1, 1, 1, 1, 1, 1, 1, 1, 1, 1, 1, 1, 1, 1, 1, 1, 1, 1, 1, 1, 1, 1, 1, 1, 1, 1, 1, 1, 1, 1, 1, 1, 1, 1, 1, 1, 1, 1, 1, 1, 1, 1, 1, 1, 1, 1, 1, 1, 1, 1, 1, 1, 1, 1, 1, 1, 1, 1, 1, 1, 1, 1, 1, 1, 1, 1, 1, 1, 1, 1, 1, 1, 1, 1, 1, 1, 1, 1, 1, 1, 1, 1, 1, 1, 1, 1, 1, 1, 1, 1, 1, 1, 1, 1, 1, 1, 1, 1, 1, 1, 1, 1, 1, 1, 1, 1, 1, 1, 1, 1, 1, 1, 1, 1, 1, 1, 1, 1, 1, 1, 1, 1, 1, 1, 1, 1, 1, 1, 1, 1, 1, 1, 1, 1, 1, 1, 1, 1, 1, 1, 1, 1, 1, 1, 1, 1, 1, 1, 1, 1, 1, 1, 1, 1, 1, 1, 1, 1, 1, 1, 1, 1, 1, 1, 1, 1, 1, 1, 1, 1, 1, 1, 1, 1, 1, 1, 1, 1, 1, 1, 1, 1, 1, 1, 1, 1, 1, 1, 1, 1, 1, 1, 1, 1, 1, 1, 1, 1, 1, 1, 1, 1, 1, 1, 1, 1, 1, 1, 1, 1, 1, 1, 1, 1, 1, 1, 1, 1, 1, 1, 1, 1, 1, 1, 1, 1, 1, 1, 1, 1, 1, 1, 1, 1, 1, 1, 1, 1, 1, 1, 1, 1, 1, 1, 1, 1, 1, 1, 1, 1, 1, 1, 1, 1, 1, 1, 1, 1, 1, 1, 1, 1, 1, 1, 1, 1, 1, 1, 1, 1, 1, 1, 1, 1, 1, 1, 1, 1, 1, 1, 1, 1, 1, 1, 1, 1, 1, 1, 1, 1, 1, 1, 1, 1, 1, 1, 1, 1, 1, 1, 1, 1, 1, 1, 1, 1, 1, 1, 1, 1, 1, 1, 1, 1, 1, 1, 1, 1, 1, 1, 1, 1, 1, 1, 1, 1, 1, 1, 1, 1, 1, 1, 1, 1, 1, 1, 1, 1, 1, 1, 1, 1, 1, 1, 1, 1, 1, 1, 1, 1, 1, 1, 1, 1, 1, 1, 1, 1, 1, 1, 1, 1, 1, 1, 1, 1, 1, 1, 1, 1, 1, 1, 1, 1, 1, 1, 1, 1, 1, 1, 1, 1, 1, 1, 1, 1, 1, 1, 1, 1, 1, 1, 1, 1, 1, 1, 1, 1, 1, 1, 1, 1, 1, 1, 1, 1, 1, 1, 1, 1, 1, 1, 1, 1, 1, 1, 1, 1, 1, 1, 1, 1, 1, 1, 1, 1, 1, 1, 1, 1, 1, 1, 1, 1, 1, 1, 1, 1, 1, 1, 1, 1, 1, 1, 1, 1, 1, 1, 1, 1, 1, 1, 1, 1, 1, 1, 1, 1, 1, 1, 1, 1, 1, 1, 1, 1, 1, 1, 1, 1, 1, 1, 1, 1, 1, 1, 1, 1, 1, 1, 1, 1, 1, 1, 1, 1, 1, 1, 1, 1, 1, 1, 1, 1, 1, 1, 1, 1, 1, 1, 1, 1, 1, 1, 1, 1, 1, 1, 1, 1, 1, 1, 1, 1, 1, 1, 1, 1, 1, 1, 1, 1, 1, 1, 1, 1, 1, 1, 1, 1, 1, 1, 1, 1, 1, 1, 1, 1, 1, 1, 1, 1, 1, 1, 1, 1, 1, 1, 1, 1, 1, 1, 1, 1, 1, 1, 1, 1, 1, 1, 1, 1, 1, 1, 1, 1, 1, 1, 1, 1, 1, 1, 1, 1, 1, 1, 1, 1, 1, 1, 1, 1, 1, 1, 1, 1, 1, 1, 1, 1, 1, 1, 1, 1, 1, 1, 1, 1, 1, 1, 1, 1, 1, 1, 1, 1, 1, 1, 1, 1, 1, 1, 1, 1, 1, 1, 1, 1, 1, 1, 1, 1, 1, 1, 1, 1, 1, 1, 1, 1, 1, 1, 1, 1, 1, 1, 1, 1, 1, 1, 1, 1, 1, 1, 1, 1, 1, 1, 1, 1, 1, 1, 1, 1, 1, 1, 1, 1, 1, 1, 1, 1, 1, 1, 1, 1, 1, 1, 1, 1, 1, 1, 1, 1, 1, 1, 1, 1, 1, 1, 1, 1, 1, 1, 1, 1, 1, 1, 1, 1, 1, 1, 1, 1, 1, 1, 1, 1, 1, 1, 1, 1, 1, 1, 1, 1, 1, 1, 1, 1, 1, 1, 1, 1, 1, 1, 1, 1, 1, 1, 1, 1, 1, 1, 1, 1, 1, 1, 1, 1, 1, 1, 1, 1, 1, 1, 1, 1, 1, 1, 1, 1, 1, 1, 1, 1, 1, 1, 1, 1, 1, 1, 1, 1, 1, 1, 1, 1, 1, 1, 1, 1, 1, 1, 1, 1, 1, 1, 1, 1, 1, 1, 1, 1, 1, 1, 1, 1, 1, 1, 1, 1, 1, 1, 1, 1, 1, 1, 1, 1, 1, 1, 1, 1, 1, 1, 1, 1, 1, 1, 1, 1, 1, 1, 1, 1, 1, 1, 1, 1, 1, 1, 1, 1, 1, 1, 1, 1, 1, 1, 1, 1, 1, 1, 1, 1, 1, 1, 1, 1, 1, 1, 1, 1, 1, 1, 1, 1, 1, 1, 1, 1, 1, 1, 1, 1, 1, 1, 1, 1, 1, 1, 1, 1, 1, 1, 1, 1, 1, 1, 1, 1, 1, 1, 1, 1, 1, 1, 1, 1, 1, 1, 1, 1, 1, 1, 1, 1, 1, 1, 1, 1, 1, 1, 1, 1, 1, 1, 1, 1, 1, 1, 1, 1, 1, 1, 1, 1, 1, 1, 1, 1, 1, 1, 1, 1, 1, 1, 1, 1, 1, 1, 1, 1, 1, 1, 1, 1, 1, 1, 1, 1, 1, 1, 1, 1, 1, 1, 1, 1, 1, 1, 1, 1, 1, 1, 1, 1, 1, 1, 1, 1, 1, 1, 1, 1, 1, 1, 1, 1, 1, 1, 1, 1, 1, 1, 1, 1, 1, 1, 1, 1, 1, 1, 1, 1, 1, 1, 1, 1, 1, 1, 1, 1, 1, 1, 1, 1, 1, 1, 1, 1, 1, 1, 1, 1, 1, 1, 1, 1, 1, 1, 1, 1, 1, 1, 1, 1, 1, 1, 1, 1, 1, 1, 1, 1, 1, 1, 1, 1, 1, 1, 1, 1, 1, 1, 1, 1, 1, 1, 1, 1, 1, 1, 1, 1, 1, 1, 1, 1, 1, 1, 1, 1, 1, 1, 1, 1, 1, 1, 1, 1, 1, 1, 1, 1, 1, 1, 1, 1, 1, 1, 1, 1, 1, 1, 1, 1, 1, 1, 1, 1, 1, 1, 1, 1, 1, 1, 1, 1, 1, 1, 1, 1, 1, 1, 1, 1, 1, 1, 1, 1, 1, 1, 1, 1, 1, 1, 1, 1, 1, 1, 1, 1, 1, 1, 1, 1, 1, 1, 1, 1, 1, 1, 1, 1, 1, 1, 1, 1, 1, 1, 1, 1, 1, 1, 1, 1, 1, 1, 1, 1, 1, 1, 1, 1, 1, 1, 1, 1, 1, 1, 1, 1, 1, 1, 1, 1, 1, 1, 1, 1, 1, 1, 1, 1, 1, 1, 1, 1, 1, 1, 1, 1, 1, 1, 1, 1, 1, 1, 1, 1, 1, 1, 1, 1, 1, 1, 1, 1, 1, 1, 1, 1, 1, 1, 1, 1, 1, 1, 1, 1, 1, 1, 1, 1, 1, 1, 1, 1, 1, 1, 1, 1, 1, 1, 1, 1, 1, 1, 1, 1, 1, 1, 1, 1, 1, 1, 1, 1, 1, 1, 1, 1, 1, 1, 1, 1, 1, 1, 1, 1, 1, 1, 1, 1, 1, 1, 1, 1, 1, 1, 1, 1, 1, 1, 1, 1, 1, 1, 1, 1, 1, 1, 1, 1, 1, 1, 1, 1, 1, 1, 1, 1, 1, 1, 1, 1, 1, 1, 1, 1, 1, 1, 1, 1, 1, 1, 1, 1, 1, 1, 1, 1, 1, 1, 1, 1, 1, 1, 1, 1, 1, 1, 1, 1, 1, 1, 1, 1, 1, 1, 1, 1, 1, 1, 1, 1, 1, 1, 1, 1, 1, 1, 1, 1, 1, 1, 1, 1, 1, 1, 1, 1, 1, 1, 1, 1, 1, 1, 1, 1, 1, 1, 1, 1, 1, 1, 1, 1, 1, 1, 1, 1, 1, 1, 1, 1, 1, 1, 1, 1, 1, 1, 1, 1, 1, 1, 1, 1, 1, 1, 1, 1, 1, 1, 1, 1, 1, 1, 1, 1, 1, 1, 1, 1, 1, 1, 1, 1, 1, 1, 1, 1, 1, 1, 1, 1, 1, 1, 1, 1, 1, 1, 1, 1, 1, 1, 1, 1, 1, 1, 1, 1, 1, 1, 1, 1, 1, 1, 1, 1, 1, 1, 1, 1, 1, 1, 1, 1, 1, 1, 1, 1, 1, 1, 1, 1, 1, 1, 1, 1, 1, 1, 1, 1, 1, 1, 1, 1, 1, 1, 1, 1, 1, 1, 1, 1, 1, 1, 1, 1, 1, 1, 1, 1, 1, 1, 1, 1, 1, 1, 1, 1, 1, 1, 1, 1, 1, 1, 1, 1, 1, 1, 1, 1, 1, 1, 1, 1, 1, 1, 1, 1, 1, 1, 1, 1, 1, 1, 1, 1, 1, 1, 1, 1, 1, 1, 1, 1, 1, 1, 1, 1, 1, 1, 1, 1, 1, 1, 1, 1, 1, 1, 1, 1, 1, 1, 1, 1, 1, 1, 1, 1, 1, 1, 1, 1, 1, 1, 1, 1, 1, 1, 1, 1, 1, 1, 1, 1, 1, 1, 1, 1, 1, 1, 1, 1, 1, 1, 1, 1, 1, 1, 1, 1, 1, 1, 1, 1, 1, 1, 1, 1, 1, 1, 1, 1, 1, 1, 1, 1, 1, 1, 1, 1, 1, 1, 1, 1, 1, 1, 1, 1, 1, 1, 1, 1, 1, 1, 1, 1, 1, 1, 1, 1, 1, 1, 1, 1, 1, 1, 1, 1, 1, 1, 1, 1, 1, 1, 1, 1, 1, 1, 1, 1, 1, 1, 1, 1, 1, 1, 1, 1, 1, 1, 1, 1, 1, 1, 1, 1, 1, 1, 1, 1, 1, 1, 1, 1, 1, 1, 1, 1, 1, 1, 1, 1, 1, 1, 1, 1, 1, 1, 1, 1, 1, 1, 1, 1, 1, 1, 1, 1, 1, 1, 1, 1, 1, 1, 1, 1, 1, 1, 1, 1, 1, 1, 1, 1, 1, 1, 1, 1, 1, 1, 1, 1, 1, 1, 1, 1, 1, 1, 1, 1, 1, 1, 1, 1, 1, 1, 1, 1, 1, 1, 1, 1, 1, 1, 1, 1, 1, 1, 1, 1, 1, 1, 1, 1, 1, 1, 1, 1, 1, 1, 1, 1, 1, 1, 1, 1, 1, 1, 1, 1, 1, 1, 1, 1, 1, 1, 1, 1, 1, 1, 1, 1, 1, 1, 1, 1, 1, 1, 1, 1, 1, 1, 1, 1, 1, 1, 1, 1, 1, 1, 1, 1, 1, 1, 1, 1, 1, 1, 1, 1, 1, 1, 1, 1, 1, 1, 1, 1, 1, 1, 1, 1, 1, 1, 1, 1, 1, 1, 1, 1, 1, 1, 1, 1, 1, 1, 1, 1, 1, 1, 1, 1, 1, 1, 1, 1, 1, 1, 1, 1, 1, 1, 1, 1, 1, 1, 1, 1, 1, 1, 1, 1, 1, 1, 1, 1, 1, 1, 1, 1, 1, 1, 1, 1, 1, 1, 1, 1, 1, 1, 1, 1, 1, 1, 1, 1, 1, 1, 1, 1, 1, 1, 1, 1, 1, 1, 1, 1, 1, 1, 1, 1, 1, 1, 1, 1, 1, 1, 1, 1, 1, 1, 1, 1, 1, 1, 1, 1, 1, 1, 1, 1, 1, 1, 1, 1, 1, 1, 1, 1, 1, 1, 1, 1, 1, 1, 1, 1, 1, 1, 1, 1, 1, 1, 1, 1, 1, 1, 1, 1, 1, 1, 1, 1, 1, 1, 1, 1, 1, 1, 1, 1, 1, 1, 1, 1, 1, 1, 1, 1, 1, 1, 1, 1, 1, 1, 1, 1, 1, 1, 1, 1, 1, 1, 1, 1, 1, 1, 1, 1, 1, 1, 1, 1, 1, 1, 1, 1, 1, 1, 1, 1, 1, 1, 1, 1, 1, 1, 1, 1, 1, 1, 1, 1, 1, 1, 1, 1, 1, 1, 1, 1, 1, 1, 1, 1, 1, 1, 1, 1, 1, 1, 1, 1, 1, 1, 1, 1, 1, 1, 1, 1, 1, 1, 1, 1, 1, 1, 1, 1, 1, 1, 1, 1, 1, 1, 1, 1, 1, 1, 1, 1, 1, 1, 1, 1, 1, 1, 1, 1, 1, 1, 1, 1, 1, 1, 1, 1, 1, 1, 1, 1, 1, 1, 1, 1, 1, 1, 1, 1, 1, 1, 1, 1, 1, 1, 1, 1, 1, 1, 1, 1, 1, 1, 1, 1, 1, 1, 1, 1, 1, 1, 1, 1, 1, 1, 1, 1, 1, 1, 1, 1, 1, 1, 1, 1, 1, 1, 1, 1, 1, 1, 1, 1, 1, 1, 1, 1, 1, 1, 1, 1, 1, 1, 1, 1, 1, 1, 1, 1, 1, 1, 1, 1, 1, 1, 1, 1, 1, 1, 1, 1, 1, 1, 1, 1, 1, 1, 1, 1, 1, 1, 1, 1, 1, 1, 1, 1, 1, 1, 1, 1, 1, 1, 1, 1, 1, 1, 1, 1, 1, 1, 1, 1, 1, 1, 1, 1, 1, 1, 1, 1, 1, 1, 1, 1, 1, 1, 1, 1, 1, 1, 1, 1, 1, 1, 1, 1, 1, 1, 1, 1, 1, 1, 1, 1, 1, 1, 1, 1, 1, 1, 1, 1, 1, 1, 1, 1, 1, 1, 1, 1, 1, 1, 1, 1, 1, 1, 1, 1, 1, 1, 1, 1, 1, 1, 1, 1, 1, 1, 1, 1, 1, 1, 1, 1, 1, 1, 1, 1, 1, 1, 1, 1, 1, 1, 1, 1, 1, 1, 1, 1, 1, 1, 1, 1, 1, 1, 1, 1, 1, 1, 1, 1, 1, 1, 1, 1, 1, 1, 1, 1, 1, 1, 1, 1, 1, 1, 1, 1, 1, 1, 1, 1, 1, 1, 1, 1, 1, 1, 1, 1, 1, 1, 1, 1, 1, 1, 1, 1, 1, 1, 1, 1, 1, 1, 1, 1, 1, 1, 1, 1, 1, 1, 1, 1, 1, 1, 1, 1, 1, 1, 1, 1, 1, 1, 1, 1, 1, 1, 1, 1, 1, 1, 1, 1, 1, 1, 1, 1, 1, 1, 1, 1, 1, 1, 1, 1, 1, 1, 1, 1, 1, 1, 1, 1, 1, 1, 1, 1, 1, 1, 1, 1, 1, 1, 1, 1, 1, 1, 1, 1, 1, 1, 1, 1, 1, 1, 1, 1, 1, 1, 1, 1, 1, 1, 1, 1, 1, 1]\n"
     ]
    }
   ],
   "source": [
    "# testing \n",
    "total = 0 \n",
    "for i in range(10000):\n",
    "    total += len(vtx_reco[i])\n",
    "print(total, m)"
   ]
  },
  {
   "cell_type": "markdown",
   "id": "d4d8fcc2-7f14-4c88-98e3-2ac44c921c1e",
   "metadata": {},
   "source": [
    "# Classifying Events\n",
    "#### CLEAN/MATCHED: the event contains a CLEAN reconstructed vertex originating from the true HS interaction, and the HS interaction does not contribute more than 50% of the accumulated track weight to any other vertex. \n",
    "#### LOWPU (low pile-up): the event contains a MERGED vertex with at least 50% of the accumulated track weight coming from the simulated HS interaction.\n",
    "#### HIGHPU (high pile-up): the event contains a MERGED vertex with its main contribution coming from a simulated pile-up interaction, and in which the HS interaction contributes between 1% and 50% of the accumulated track weight. \n",
    "#### PUREPU (pure pile-up): the event does not contain any reconstructed vertex with at least 1% accumulated track weight from the HS interaction."
   ]
  },
  {
   "cell_type": "code",
   "execution_count": 30,
   "id": "607e13aa-4823-445b-aece-fb9127748819",
   "metadata": {},
   "outputs": [
    {
     "data": {
      "image/png": "[encoded data removed]",
      "text/plain": [
       "<Figure size 432x288 with 1 Axes>"
      ]
     },
     "metadata": {
      "needs_background": "light"
     },
     "output_type": "display_data"
    }
   ],
   "source": [
    "\n",
    "data = {'clean': clean/len(event_reco), 'high pu': high_pu/len(event_reco), 'low pu': low_pu/len(event_reco), 'pure pu': pure_pu/len(event_reco)}\n",
    "pu = list(data.keys())\n",
    "fra = list(data.values())\n",
    "plt.bar(pu, fra, fill=False, edgecolor='g', width=0.5)\n",
    "plt.xlabel('Event Type', fontsize=10)\n",
    "plt.ylabel('Fraction of Events', fontsize=10)\n",
    "plt.title(\"Fraction of events in each HS vertex reconstruction category for AMVF\", fontsize=12)\n",
    "plt.show()"
   ]
  },
  {
   "cell_type": "code",
   "execution_count": null,
   "id": "0f780bae-99d2-4001-9b8d-d590c14af072",
   "metadata": {},
   "outputs": [],
   "source": []
  }
 ],
 "metadata": {
  "kernelspec": {
   "display_name": "Python 3 (ipykernel)",
   "language": "python",
   "name": "python3"
  },
  "language_info": {
   "codemirror_mode": {
    "name": "ipython",
    "version": 3
   },
   "file_extension": ".py",
   "mimetype": "text/x-python",
   "name": "python",
   "nbconvert_exporter": "python",
   "pygments_lexer": "ipython3",
   "version": "3.8.10"
  }
 },
 "nbformat": 4,
 "nbformat_minor": 5
}
