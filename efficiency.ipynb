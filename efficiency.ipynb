{
 "cells": [
  {
   "cell_type": "code",
   "execution_count": 218,
   "id": "8d57a3fa-6eb2-4e35-b785-90c58dd95d33",
   "metadata": {},
   "outputs": [],
   "source": [
    "import ROOT\n",
    "import numpy as np\n",
    "import uproot3\n",
    "import matplotlib.pyplot as plt\n",
    "from scipy.stats import norm\n",
    "import scipy\n",
    "import time"
   ]
  },
  {
   "cell_type": "code",
   "execution_count": 219,
   "id": "e1c321cd-eb19-4844-a5bb-94148f2e0540",
   "metadata": {},
   "outputs": [],
   "source": [
    "root_file = \"dav10.root\"\n",
    "file = uproot3.open(root_file)"
   ]
  },
  {
   "cell_type": "code",
   "execution_count": 220,
   "id": "3b68e012-faf7-44dc-8e09-3fa3e111c7af",
   "metadata": {},
   "outputs": [
    {
     "data": {
      "text/plain": [
       "[b'Truth_Vertex_PV_Selected;6',\n",
       " b'Truth_Vertex_PV_Selected;5',\n",
       " b'Reco_Vertex;4',\n",
       " b'Reco_Vertex;3',\n",
       " b'amvf;1']"
      ]
     },
     "execution_count": 220,
     "metadata": {},
     "output_type": "execute_result"
    }
   ],
   "source": [
    "file.keys()"
   ]
  },
  {
   "cell_type": "code",
   "execution_count": 221,
   "id": "194412bb-1512-460e-a000-d3972b7d6d4c",
   "metadata": {},
   "outputs": [
    {
     "name": "stdout",
     "output_type": "stream",
     "text": [
      "diffx                      TStreamerSTL               asjagged(asdtype('>f4'), 10)\n",
      "diffy                      TStreamerSTL               asjagged(asdtype('>f4'), 10)\n",
      "diffz                      TStreamerSTL               asjagged(asdtype('>f4'), 10)\n",
      "nRecoVtx                   (no streamer)              asdtype('>i4')\n",
      "nTrueVtx                   (no streamer)              asdtype('>i4')\n",
      "nVtxDetectorAcceptance     (no streamer)              asdtype('>i4')\n",
      "nVtxReconstructable        (no streamer)              asdtype('>i4')\n",
      "timeMS                     (no streamer)              asdtype('>i4')\n"
     ]
    }
   ],
   "source": [
    "file['amvf;1'].show()"
   ]
  },
  {
   "cell_type": "code",
   "execution_count": 222,
   "id": "ca7f5dbf-d1c9-4901-8b3e-995cfb0945ae",
   "metadata": {},
   "outputs": [
    {
     "name": "stdout",
     "output_type": "stream",
     "text": [
      "event_id                   (no streamer)              asdtype('>i4')\n",
      "truth_vtx_vx               TStreamerSTL               asjagged(asdtype('>f8'), 10)\n",
      "truth_vtx_vy               TStreamerSTL               asjagged(asdtype('>f8'), 10)\n",
      "truth_vtx_vz               TStreamerSTL               asjagged(asdtype('>f8'), 10)\n",
      "truth_particle_Id          TStreamerSTL               asjagged(asdtype('>u8'), 10)\n",
      "truth_particle_Type        TStreamerSTL               asjagged(asdtype('>i4'), 10)\n",
      "truth_particle_process     TStreamerSTL               asjagged(asdtype('>u4'), 10)\n",
      "truth_particle_vx          TStreamerSTL               asjagged(asdtype('>f8'), 10)\n",
      "truth_particle_vy          TStreamerSTL               asjagged(asdtype('>f8'), 10)\n",
      "truth_particle_vz          TStreamerSTL               asjagged(asdtype('>f8'), 10)\n",
      "truth_particle_vt          TStreamerSTL               asjagged(asdtype('>f8'), 10)\n",
      "truth_particle_p           TStreamerSTL               asjagged(asdtype('>f8'), 10)\n",
      "truth_particle_px          TStreamerSTL               asjagged(asdtype('>f8'), 10)\n",
      "truth_particle_py          TStreamerSTL               asjagged(asdtype('>f8'), 10)\n",
      "truth_particle_pz          TStreamerSTL               asjagged(asdtype('>f8'), 10)\n",
      "truth_particle_m           TStreamerSTL               asjagged(asdtype('>f8'), 10)\n",
      "truth_particle_q           TStreamerSTL               asjagged(asdtype('>f8'), 10)\n",
      "truth_particle_eta         TStreamerSTL               asjagged(asdtype('>f8'), 10)\n",
      "truth_particle_phi         TStreamerSTL               asjagged(asdtype('>f8'), 10)\n",
      "truth_particle_pt          TStreamerSTL               asjagged(asdtype('>f8'), 10)\n",
      "truth_particle_vertexPrimary\n",
      "                           TStreamerSTL               asjagged(asdtype('>u4'), 10)\n",
      "truth_particle_vertexSecondary\n",
      "                           TStreamerSTL               asjagged(asdtype('>u4'), 10)\n",
      "truth_particle_particle    TStreamerSTL               asjagged(asdtype('>u4'), 10)\n",
      "truth_particle_generation  TStreamerSTL               asjagged(asdtype('>u4'), 10)\n",
      "truth_particle_subParticle TStreamerSTL               asjagged(asdtype('>u4'), 10)\n",
      "truth_vtx_fitted_trk_d0    TStreamerSTL               asjagged(asdtype('>f8'), 10)\n",
      "truth_vtx_fitted_trk_z0    TStreamerSTL               asjagged(asdtype('>f8'), 10)\n",
      "truth_vtx_fitted_trk_phi   TStreamerSTL               asjagged(asdtype('>f8'), 10)\n",
      "truth_vtx_fitted_trk_theta TStreamerSTL               asjagged(asdtype('>f8'), 10)\n",
      "truth_vtx_fitted_trk_qp    TStreamerSTL               asjagged(asdtype('>f8'), 10)\n",
      "truth_vtx_fitted_trk_time  TStreamerSTL               asjagged(asdtype('>f8'), 10)\n",
      "truth_vtx_fitted_trk_err_d0\n",
      "                           TStreamerSTL               asjagged(asdtype('>f8'), 10)\n",
      "truth_vtx_fitted_trk_err_z0\n",
      "                           TStreamerSTL               asjagged(asdtype('>f8'), 10)\n",
      "truth_vtx_fitted_trk_err_phi\n",
      "                           TStreamerSTL               asjagged(asdtype('>f8'), 10)\n",
      "truth_vtx_fitted_trk_err_theta\n",
      "                           TStreamerSTL               asjagged(asdtype('>f8'), 10)\n",
      "truth_vtx_fitted_trk_err_qp\n",
      "                           TStreamerSTL               asjagged(asdtype('>f8'), 10)\n",
      "truth_vtx_fitted_trk_err_time\n",
      "                           TStreamerSTL               asjagged(asdtype('>f8'), 10)\n",
      "truth_vtx_fitted_trk_vtxID TStreamerSTL               asjagged(asdtype('>i4'), 10)\n"
     ]
    }
   ],
   "source": [
    "file['Truth_Vertex_PV_Selected;6'].show()"
   ]
  },
  {
   "cell_type": "code",
   "execution_count": 223,
   "id": "087eba40-0438-4c9e-bc13-2be15fb2b0ef",
   "metadata": {},
   "outputs": [
    {
     "name": "stdout",
     "output_type": "stream",
     "text": [
      "event_id                   (no streamer)              asdtype('>i4')\n",
      "reco_vtx_vx                TStreamerSTL               asjagged(asdtype('>f8'), 10)\n",
      "reco_vtx_vy                TStreamerSTL               asjagged(asdtype('>f8'), 10)\n",
      "reco_vtx_vz                TStreamerSTL               asjagged(asdtype('>f8'), 10)\n",
      "reco_vtx_fitquality_chiSquared\n",
      "                           TStreamerSTL               asjagged(asdtype('>f8'), 10)\n",
      "reco_vtx_fitquality_nDoF   TStreamerSTL               asjagged(asdtype('>f8'), 10)\n",
      "reco_vtx_err_vx_vx         TStreamerSTL               asjagged(asdtype('>f8'), 10)\n",
      "reco_vtx_err_vx_vy         TStreamerSTL               asjagged(asdtype('>f8'), 10)\n",
      "reco_vtx_err_vx_vz         TStreamerSTL               asjagged(asdtype('>f8'), 10)\n",
      "reco_vtx_err_vy_vy         TStreamerSTL               asjagged(asdtype('>f8'), 10)\n",
      "reco_vtx_err_vy_vz         TStreamerSTL               asjagged(asdtype('>f8'), 10)\n",
      "reco_vtx_err_vz_vz         TStreamerSTL               asjagged(asdtype('>f8'), 10)\n",
      "reco_vtx_fitted_trk_d0     TStreamerSTL               asjagged(asdtype('>f8'), 10)\n",
      "reco_vtx_fitted_trk_z0     TStreamerSTL               asjagged(asdtype('>f8'), 10)\n",
      "reco_vtx_fitted_trk_phi    TStreamerSTL               asjagged(asdtype('>f8'), 10)\n",
      "reco_vtx_fitted_trk_theta  TStreamerSTL               asjagged(asdtype('>f8'), 10)\n",
      "reco_vtx_fitted_trk_qp     TStreamerSTL               asjagged(asdtype('>f8'), 10)\n",
      "reco_vtx_fitted_trk_time   TStreamerSTL               asjagged(asdtype('>f8'), 10)\n",
      "reco_vtx_fitted_trk_err_d0 TStreamerSTL               asjagged(asdtype('>f8'), 10)\n",
      "reco_vtx_fitted_trk_err_z0 TStreamerSTL               asjagged(asdtype('>f8'), 10)\n",
      "reco_vtx_fitted_trk_err_phi\n",
      "                           TStreamerSTL               asjagged(asdtype('>f8'), 10)\n",
      "reco_vtx_fitted_trk_err_theta\n",
      "                           TStreamerSTL               asjagged(asdtype('>f8'), 10)\n",
      "reco_vtx_fitted_trk_err_qp TStreamerSTL               asjagged(asdtype('>f8'), 10)\n",
      "reco_vtx_fitted_trk_err_time\n",
      "                           TStreamerSTL               asjagged(asdtype('>f8'), 10)\n",
      "reco_vtx_fitted_trk_chi2Track\n",
      "                           TStreamerSTL               asjagged(asdtype('>f8'), 10)\n",
      "reco_vtx_fitted_trk_ndf    TStreamerSTL               asjagged(asdtype('>f8'), 10)\n",
      "reco_vtx_fitted_trk_vertexCompatibility\n",
      "                           TStreamerSTL               asjagged(asdtype('>f8'), 10)\n",
      "reco_vtx_fitted_trk_trackWeight\n",
      "                           TStreamerSTL               asjagged(asdtype('>f8'), 10)\n",
      "reco_vtx_fitted_trk_vtxID  TStreamerSTL               asjagged(asdtype('>i4'), 10)\n"
     ]
    }
   ],
   "source": [
    "file['Reco_Vertex;4'].show()"
   ]
  },
  {
   "cell_type": "code",
   "execution_count": 224,
   "id": "f8bfe23e-39c2-48db-ad5d-918e4a1e309f",
   "metadata": {},
   "outputs": [],
   "source": [
    "event_amvf = [file[\"amvf;1\"][\"nRecoVtx\"].array(), \n",
    "              file[\"amvf;1\"][\"nTrueVtx\"].array(),\n",
    "              file[\"amvf;1\"][\"nVtxReconstructable\"].array(),\n",
    "              file[\"amvf;1\"][\"diffx\"].array(),\n",
    "              file[\"amvf;1\"][\"diffy\"].array(),\n",
    "              file[\"amvf;1\"][\"diffz\"].array()]\n",
    "\n",
    "event_truth = [file[\"Truth_Vertex_PV_Selected;6\"][\"event_id\"].array(),\n",
    "               file[\"Truth_Vertex_PV_Selected;6\"][\"truth_vtx_vx\"].array(),\n",
    "               file[\"Truth_Vertex_PV_Selected;6\"][\"truth_vtx_vy\"].array(),\n",
    "               file[\"Truth_Vertex_PV_Selected;6\"][\"truth_vtx_vz\"].array(),\n",
    "               file[\"Truth_Vertex_PV_Selected;6\"][\"truth_vtx_fitted_trk_d0\"].array(),\n",
    "               file[\"Truth_Vertex_PV_Selected;6\"][\"truth_vtx_fitted_trk_z0\"].array(),\n",
    "               file[\"Truth_Vertex_PV_Selected;6\"][\"truth_vtx_fitted_trk_phi\"].array(),\n",
    "               file[\"Truth_Vertex_PV_Selected;6\"][\"truth_vtx_fitted_trk_theta\"].array(),\n",
    "               file[\"Truth_Vertex_PV_Selected;6\"][\"truth_vtx_fitted_trk_qp\"].array(),\n",
    "               file[\"Truth_Vertex_PV_Selected;6\"][\"truth_vtx_fitted_trk_time\"].array(),\n",
    "               file[\"Truth_Vertex_PV_Selected;6\"][\"truth_vtx_fitted_trk_vtxID\"].array(),\n",
    "               file[\"Truth_Vertex_PV_Selected;6\"][\"truth_vtx_fitted_trk_err_z0\"].array()]\n",
    "\n",
    "event_reco = [file[\"Reco_Vertex;4\"][\"event_id\"].array(),\n",
    "              file[\"Reco_Vertex;4\"][\"reco_vtx_vx\"].array(),\n",
    "              file[\"Reco_Vertex;4\"][\"reco_vtx_vy\"].array(),\n",
    "              file[\"Reco_Vertex;4\"][\"reco_vtx_vz\"].array(),\n",
    "              file[\"Reco_Vertex;4\"][\"reco_vtx_fitted_trk_d0\"].array(),\n",
    "              file[\"Reco_Vertex;4\"][\"reco_vtx_fitted_trk_z0\"].array(),\n",
    "              file[\"Reco_Vertex;4\"][\"reco_vtx_fitted_trk_phi\"].array(),\n",
    "              file[\"Reco_Vertex;4\"][\"reco_vtx_fitted_trk_theta\"].array(),\n",
    "              file[\"Reco_Vertex;4\"][\"reco_vtx_fitted_trk_qp\"].array(),\n",
    "              file[\"Reco_Vertex;4\"][\"reco_vtx_fitted_trk_time\"].array(),\n",
    "              file[\"Reco_Vertex;4\"][\"reco_vtx_fitted_trk_vtxID\"].array(), \n",
    "              file[\"Reco_Vertex;4\"][\"reco_vtx_fitquality_chiSquared\"].array(),\n",
    "              file[\"Reco_Vertex;4\"][\"reco_vtx_fitted_trk_trackWeight\"].array(),\n",
    "              file[\"Reco_Vertex;4\"][\"reco_vtx_err_vz_vz\"].array()]\n",
    "\n",
    "event_amvf = np.expand_dims(event_amvf, axis = -1)\n",
    "event_amvf = event_amvf.transpose((1,0,2))\n",
    "event_amvf = np.squeeze(event_amvf, axis= (2,))\n",
    "\n",
    "event_truth = np.expand_dims(event_truth, axis = -1)\n",
    "event_truth = event_truth.transpose((1,0,2))\n",
    "event_truth = np.squeeze(event_truth, axis= (2,))\n",
    "\n",
    "event_reco = np.expand_dims(event_reco, axis = -1)\n",
    "event_reco = event_reco.transpose((1,0,2))\n",
    "event_reco = np.squeeze(event_reco, axis= (2,))"
   ]
  },
  {
   "cell_type": "code",
   "execution_count": 225,
   "id": "ec74e4be-368d-49e2-b048-f07d5504ab7e",
   "metadata": {},
   "outputs": [],
   "source": [
    "_nRecoVtx, _nTrueVtx, _nVtxReconstructible, _diffx, _diffy, _diffz = 0, 1, 2, 3, 4, 5\n",
    "_event_id, _truth_vtx_vx, _truth_vtx_vy, _truth_vtx_vz, _truth_trk_d0, _truth_trk_z0, _truth_trk_phi, _truth_trk_theta, _truth_trk_qp, _truth_trk_time, _truth_trk_vtxid, _truth_ptc_p, _truth_ptc_px, _truth_ptc_py, _truth_ptc_pz, _truth_ptc_pt = 0, 1, 2, 3, 4, 5, 6, 7, 8, 9, 10, 11, 12, 13, 14, 15\n",
    "_event_id, _reco_vtx_vx, _reco_vtx_vy, _reco_vtx_vz, _reco_trk_d0, _reco_trk_z0, _reco_trk_phi, _reco_trk_theta, _reco_trk_qp, _reco_trk_time, _reco_trk_vtxid, _reco_chi2, _reco_trkweight = 0, 1, 2, 3, 4, 5, 6, 7, 8, 9, 10, 11, 12"
   ]
  },
  {
   "cell_type": "code",
   "execution_count": 226,
   "id": "831353c1-1616-4814-85eb-ca598036e8a4",
   "metadata": {},
   "outputs": [
    {
     "name": "stderr",
     "output_type": "stream",
     "text": [
      "/tmp/ipykernel_305/2961141514.py:50: RuntimeWarning: divide by zero encountered in true_divide\n",
      "  pt = 1 / (np.abs(event_truth[i][_truth_trk_qp][trk_count:(trk_count+num_trk[j])])) * np.sin(event_truth[i][_truth_trk_theta][trk_count:(trk_count+num_trk[j])])\n",
      "/tmp/ipykernel_305/2961141514.py:50: RuntimeWarning: invalid value encountered in multiply\n",
      "  pt = 1 / (np.abs(event_truth[i][_truth_trk_qp][trk_count:(trk_count+num_trk[j])])) * np.sin(event_truth[i][_truth_trk_theta][trk_count:(trk_count+num_trk[j])])\n",
      "/tmp/ipykernel_305/2961141514.py:50: RuntimeWarning: overflow encountered in true_divide\n",
      "  pt = 1 / (np.abs(event_truth[i][_truth_trk_qp][trk_count:(trk_count+num_trk[j])])) * np.sin(event_truth[i][_truth_trk_theta][trk_count:(trk_count+num_trk[j])])\n"
     ]
    },
    {
     "name": "stdout",
     "output_type": "stream",
     "text": [
      "time_elapsed: 85.97301030158997 seconds\n"
     ]
    }
   ],
   "source": [
    "# save truth and reco tracks information into [[[[1, 1, 1, 1, 1], [1, 1, 1, 1, 1]]]]\n",
    "time_start = time.time()\n",
    "vtx_reco, trk_reco, trk_weight_reco, trk_weight_sum_reco, hs_trk_reco, hs_vtx_reco = [], [], [], [], [], []\n",
    "\n",
    "for i in range(len(event_reco)):\n",
    "    num_trk = np.bincount(event_reco[i][_reco_trk_vtxid])\n",
    "    vtx_trk_info_tmp, vtx_trk_weight_tmp, trk_weight_sum_tmp, trk_weight_sum_reco_vtx_tmp, vtx_reco_tmp = [], [], [], [], []\n",
    "    trk_count, m0 = 0, 0\n",
    "    for j in range(len(event_reco[i][_reco_vtx_vx])):\n",
    "        trk_info_tmp, trk_weight_tmp = [], []\n",
    "\n",
    "        pt = 1 / (np.abs(event_reco[i][_reco_trk_qp][trk_count:(trk_count+num_trk[j])])) * np.sin(event_reco[i][7][trk_count:(trk_count+num_trk[j])])\n",
    "        mpt = sum([i ** 2 for i in pt])\n",
    "        \n",
    "        trk_weight_sum_reco_vtx_tmp.append(sum(event_reco[i][_reco_trkweight][trk_count:(trk_count + num_trk[j])]))\n",
    "        vtx_reco_tmp.append([event_reco[i][_reco_vtx_vx][j], event_reco[i][_reco_vtx_vy][j], event_reco[i][_reco_vtx_vz][j]])\n",
    "        \n",
    "        for k in range(num_trk[j]):\n",
    "            trk_info_tmp.append([event_reco[i][_reco_trk_d0][trk_count + k], event_reco[i][_reco_trk_z0][trk_count + k], event_reco[i][_reco_trk_phi][trk_count + k], \n",
    "                                 event_reco[i][_reco_trk_theta][trk_count + k], event_reco[i][_reco_trk_qp][trk_count + k]])\n",
    "            trk_weight_tmp.append(event_reco[i][_reco_trkweight][trk_count + k])\n",
    "        \n",
    "        if mpt > m0:\n",
    "            hs_trk_tmp = []\n",
    "            hs_vtx_tmp = [event_reco[i][_reco_vtx_vx][j], event_reco[i][_reco_vtx_vy][j], event_reco[i][_reco_vtx_vz][j]]\n",
    "            for k in range(num_trk[j]):\n",
    "                hs_trk_tmp.append([event_reco[i][_reco_trk_d0][trk_count + k], event_reco[i][_reco_trk_z0][trk_count + k], event_reco[i][_reco_trk_phi][trk_count + k], \n",
    "                                     event_reco[i][_reco_trk_theta][trk_count + k], event_reco[i][_reco_trk_qp][trk_count + k]])\n",
    "            m0 = mpt\n",
    "            \n",
    "        vtx_trk_info_tmp.append(trk_info_tmp)\n",
    "        vtx_trk_weight_tmp.append(trk_weight_tmp)\n",
    "        \n",
    "        trk_count += num_trk[j]\n",
    "        \n",
    "    vtx_reco.append(vtx_reco_tmp)\n",
    "    trk_reco.append(vtx_trk_info_tmp)\n",
    "    trk_weight_reco.append(vtx_trk_weight_tmp)\n",
    "    trk_weight_sum_reco.append(trk_weight_sum_reco_vtx_tmp)\n",
    "    hs_trk_reco.append(hs_trk_tmp)\n",
    "    hs_vtx_reco.append(hs_vtx_tmp)\n",
    "    \n",
    "vtx_truth_vz, trk_truth, hs_trk_truth, pt_truth, hs_vtx_truth = [], [], [], [], []\n",
    "for i in range(len(event_truth)):\n",
    "    num_trk = np.bincount(event_truth[i][_truth_trk_vtxid])\n",
    "    vtx_trk_info_tmp, momentum, vtx_truth_vz_tmp = [], [], []\n",
    "    trk_count, m0 = 0, 0\n",
    "    for j in range(len(event_truth[i][_truth_vtx_vx])):\n",
    "        trk_info_tmp = []\n",
    "        pt = 1 / (np.abs(event_truth[i][_truth_trk_qp][trk_count:(trk_count+num_trk[j])])) * np.sin(event_truth[i][_truth_trk_theta][trk_count:(trk_count+num_trk[j])])\n",
    "        momentum.append(pt)\n",
    "        mpt = sum([i ** 2 for i in pt])\n",
    "        \n",
    "        vtx_truth_vz_tmp.append(event_truth[i][_truth_vtx_vz][j])\n",
    "        \n",
    "        for k in range(num_trk[j]):\n",
    "            trk_info_tmp.append([event_truth[i][_truth_trk_d0][trk_count + k], event_truth[i][_truth_trk_z0][trk_count + k], event_truth[i][_truth_trk_phi][trk_count + k], \n",
    "                                 event_truth[i][_truth_trk_theta][trk_count + k], event_truth[i][_truth_trk_qp][trk_count + k]])\n",
    "        \n",
    "        if mpt > m0:\n",
    "            hs_trk_tmp = []\n",
    "            hs_vtx_tmp = [event_truth[i][_truth_vtx_vx][j], event_truth[i][_truth_vtx_vy][j], event_truth[i][_truth_vtx_vz][j]]\n",
    "            for k in range(num_trk[j]):\n",
    "                hs_trk_tmp.append([event_truth[i][_truth_trk_d0][trk_count + k], event_truth[i][_truth_trk_z0][trk_count + k], event_truth[i][_truth_trk_phi][trk_count + k], \n",
    "                                 event_truth[i][_truth_trk_theta][trk_count + k], event_truth[i][_truth_trk_qp][trk_count + k]])\n",
    "            m0 = mpt\n",
    "        \n",
    "        vtx_trk_info_tmp.append(trk_info_tmp)\n",
    "        trk_count += num_trk[j]\n",
    "    vtx_truth_vz.append(vtx_truth_vz_tmp)\n",
    "    pt_truth.append(momentum)\n",
    "    trk_truth.append(vtx_trk_info_tmp)\n",
    "    hs_trk_truth.append(hs_trk_tmp)\n",
    "    hs_vtx_truth.append(hs_vtx_tmp)\n",
    "\n",
    "time_elapsed = (time.time() - time_start)\n",
    "print(\"time_elapsed:\", time_elapsed, 'seconds')"
   ]
  },
  {
   "cell_type": "code",
   "execution_count": 227,
   "id": "3ac63131-b72b-4602-b1cb-8ac5a19a2626",
   "metadata": {},
   "outputs": [
    {
     "name": "stdout",
     "output_type": "stream",
     "text": [
      "[[0.9885664098120416, 0.9878101609646782, 0.9474706303390734, 0.9695250715105278, 0.978670706972723, 0.8606916746699247, 0.17412657296559014, 0.9587933262655028, 0.9849073086387828, 0.9790341580260621, 0.986050666466238, 0.9859762383302492, 0.9866560221712994, 0.9445986030974703, 0.9862673734369589, 0.9505593473205826, 0.9472860846579229, 0.9824121118333596, 0.18108640649516208, 8.540284816245447e-05, 0.15333706367332398, 0.004596113692653412, 0.9621863991536393, 0.9799158408638645, 0.9855302509556911, 0.6431460175998499, 0.9814995389226223, 0.9816214943211176, 0.9745857375074614, 4.245493291460981e-05, 0.6288645816385228, 0.9886737614042114, 0.9886503925080855, 0.8832411593066902, 0.9744517496942676, 0.9112152749128283, 0.9725769960257852, 0.9170604478438835, 0.959265494081878, 0.9673656769265799, 0.9886710311745147, 0.3522089209806404, 0.9813880397263116, 0.9870798462292574, 0.9877202720572067, 0.9745078717774697, 0.7754266406325099, 0.9653360495657346, 0.9675806731213115, 0.8715039980197081], [1.278461299504709e-07, 0.0003153750408893421, 0.9749367148499439, 0.9405645365156021, 0.02763752161095474, 0.9689713182528762, 0.7211363701212329, 0.9775575507298802, 0.9528698931204244, 0.1354862256784044, 0.9316080089426004, 0.9818558308176246, 2.752036976132203e-06, 9.968823236863551e-06, 0.9803956962597351, 0.0006657968749713501, 0.9682168662830768, 0.24901076670143069, 6.337967974440278e-05, 0.5638849269305889, 0.9680163006987869, 0.07662479669213099, 0.005494130850776304, 0.5897324891941672, 0.0012423855909969616, 0.00035297024723974086, 0.11680058189796914], [0.4174580740079057, 0.9807019104419405, 0.9858625493016548, 0.9712077472532104]]\n"
     ]
    }
   ],
   "source": [
    "# testing\n",
    "print(trk_weight_reco[0])"
   ]
  },
  {
   "cell_type": "code",
   "execution_count": 228,
   "id": "67dcc07d-a295-457c-9fa2-88dab6983399",
   "metadata": {},
   "outputs": [
    {
     "name": "stdout",
     "output_type": "stream",
     "text": [
      "mean= 0.9934409229049306\n",
      "standard deviation= 0.027140979659441435\n"
     ]
    },
    {
     "data": {
      "image/png": "[encoded data removed]",
      "text/plain": [
       "<Figure size 432x288 with 1 Axes>"
      ]
     },
     "metadata": {
      "needs_background": "light"
     },
     "output_type": "display_data"
    },
    {
     "name": "stdout",
     "output_type": "stream",
     "text": [
      "time_elapsed 8.935644388198853 seconds\n"
     ]
    }
   ],
   "source": [
    "time_start = time.time()\n",
    "m = []\n",
    "for l in range(len(trk_truth)):\n",
    "    fraction = []\n",
    "    for j in range(len(trk_truth[l])):\n",
    "        num_trk_associated = []\n",
    "        for k in range(len(trk_reco[l])):\n",
    "            num_trk_associated.append(len([i for i, val in enumerate(trk_reco[l][k]) if val in trk_truth[l][j]]))\n",
    "        fraction.append(max(num_trk_associated)/len(trk_truth[l][j])) # change to vertex\n",
    "    m.append(max(fraction))\n",
    "        \n",
    "(mean, stadev) = norm.fit(m)\n",
    "print('mean=', mean)\n",
    "print('standard deviation=', stadev)\n",
    "bin = np.linspace(0, 1, 101)\n",
    "plt.hist(m, bins=bin, color='green', histtype='step', label='number of vertex')\n",
    "plt.title('Truth Matching Fraction (maximum in one event)')\n",
    "plt.xlabel('Truth Matching Fraction per Vertex')\n",
    "plt.ylabel('frequence')\n",
    "plt.xticks(fontsize=10)\n",
    "plt.yticks(fontsize=10)\n",
    "plt.show()\n",
    "time_elapsed = (time.time() - time_start)\n",
    "print('time_elapsed', time_elapsed, 'seconds')"
   ]
  },
  {
   "cell_type": "code",
   "execution_count": 229,
   "id": "4f71071b-d1c6-4aac-a448-d45e8e21c226",
   "metadata": {},
   "outputs": [
    {
     "name": "stdout",
     "output_type": "stream",
     "text": [
      "number of data inputs 10000\n"
     ]
    }
   ],
   "source": [
    "print('number of data inputs', len(m))"
   ]
  },
  {
   "cell_type": "code",
   "execution_count": 230,
   "id": "4b603917-ceb0-48b6-88cd-ca4f44355522",
   "metadata": {},
   "outputs": [
    {
     "name": "stdout",
     "output_type": "stream",
     "text": [
      "mean= 0.8459593639190216\n",
      "standard deviation= 0.255557954067621\n"
     ]
    },
    {
     "data": {
      "image/png": "[encoded data removed]",
      "text/plain": [
       "<Figure size 432x288 with 1 Axes>"
      ]
     },
     "metadata": {
      "needs_background": "light"
     },
     "output_type": "display_data"
    },
    {
     "name": "stdout",
     "output_type": "stream",
     "text": [
      "time_elapsed 8.777175664901733 seconds\n"
     ]
    }
   ],
   "source": [
    "time_start = time.time()\n",
    "m, vtx0 = [], []\n",
    "for l in range(len(trk_truth)):\n",
    "    for j in range(len(trk_truth[l])):\n",
    "        num_trk_associated = []\n",
    "        for k in range(len(trk_reco[l])):\n",
    "            # trk_common = [a for a in trk_reco[i][j] if a in trk_truth[i][j]]\n",
    "            num_trk_associated.append(len([i for i, val in enumerate(trk_reco[l][k]) if val in trk_truth[l][j]]))\n",
    "        m.append(max(num_trk_associated)/len(trk_truth[l][j])) # change to vertex\n",
    "        \n",
    "(mean, stadev) = norm.fit(m)\n",
    "print('mean=', mean)\n",
    "print('standard deviation=', stadev)\n",
    "bin = np.linspace(0, 1, 101)\n",
    "plt.hist(m, bins=bin, color='green', histtype='step', label='number of vertex')\n",
    "plt.title('Truth Matching Fraction (all vertex fractions)')\n",
    "plt.xlabel('Truth Matching Fraction per Vertex')\n",
    "plt.ylabel('frequence')\n",
    "plt.xticks(fontsize=10)\n",
    "plt.yticks(fontsize=10)\n",
    "plt.show()\n",
    "time_elapsed = (time.time() - time_start)\n",
    "print('time_elapsed', time_elapsed, 'seconds')"
   ]
  },
  {
   "cell_type": "code",
   "execution_count": 231,
   "id": "e016db0f-4175-4e56-9c55-211e4ad038a4",
   "metadata": {},
   "outputs": [
    {
     "name": "stdout",
     "output_type": "stream",
     "text": [
      "number of input data: 68777\n"
     ]
    }
   ],
   "source": [
    "print('number of input data:', len(m))"
   ]
  },
  {
   "cell_type": "code",
   "execution_count": 232,
   "id": "11a73eb6-e017-4968-a7d5-a04afdb6aae2",
   "metadata": {},
   "outputs": [
    {
     "name": "stdout",
     "output_type": "stream",
     "text": [
      "[0.00881008617579937, 0.01478538941591978, 46.51725387573242]\n",
      "4\n"
     ]
    }
   ],
   "source": [
    "print(hs_vtx_truth[0])\n",
    "print(len(trk_truth[0][1]))"
   ]
  },
  {
   "cell_type": "code",
   "execution_count": 233,
   "id": "3ca262bf-e8c7-43f0-953b-b7bf5284f368",
   "metadata": {},
   "outputs": [
    {
     "name": "stdout",
     "output_type": "stream",
     "text": [
      "mean= 0.8363714272929988\n",
      "standard deviation= 0.08778067984522908\n"
     ]
    },
    {
     "data": {
      "image/png": "[encoded data removed]",
      "text/plain": [
       "<Figure size 432x288 with 1 Axes>"
      ]
     },
     "metadata": {
      "needs_background": "light"
     },
     "output_type": "display_data"
    },
    {
     "name": "stdout",
     "output_type": "stream",
     "text": [
      "time_elapsed: 2.7138671875 seconds\n",
      "10000\n"
     ]
    }
   ],
   "source": [
    "# Reco_HS_Efficiency = Number of Reconstructable truth HS vertex which is associated to Reconstructed Vertex / Number of Reconstructable truth HS vertex\n",
    "time_start = time.time()\n",
    "m, hs_vtx_truth_associated_event_num = [], []\n",
    "for l in range(len(hs_trk_truth)):\n",
    "    num_trk_associated = []\n",
    "    \n",
    "    for k in range(len(trk_reco[l])):\n",
    "        # trk_common = [a for a in trk_reco[i][j] if a in trk_truth[i][j]]\n",
    "        num_trk_associated.append(len([i for i, val in enumerate(trk_reco[l][k]) if val in hs_trk_truth[l]]))\n",
    "        \n",
    "    max_hs_fraction = max(num_trk_associated)/len(hs_trk_truth[l])\n",
    "    m.append(max_hs_fraction)\n",
    "    if max_hs_fraction > 0.7:\n",
    "        hs_vtx_truth_associated_event_num.append(l)\n",
    "    \n",
    "(mean, stadev) = norm.fit(m)\n",
    "print('mean=', mean)\n",
    "print('standard deviation=', stadev)\n",
    "bin = np.linspace(0, 1, 101)\n",
    "plt.hist(m, bins=bin, color='green', histtype='step', label='number of vertex')\n",
    "plt.title('Reconstruction HS Efficiency')\n",
    "plt.xlabel('Truth Matching Fraction per Vertex')\n",
    "plt.ylabel('frequency')\n",
    "plt.xticks(fontsize=10)\n",
    "plt.yticks(fontsize=10)\n",
    "plt.show()\n",
    "time_elapsed = (time.time() - time_start)\n",
    "print('time_elapsed:',time_elapsed, 'seconds')\n",
    "print(len(m))"
   ]
  },
  {
   "cell_type": "code",
   "execution_count": 234,
   "id": "224ab3d9-0807-4ed8-95a3-fd0ce2473b7f",
   "metadata": {},
   "outputs": [
    {
     "name": "stdout",
     "output_type": "stream",
     "text": [
      "hs_fraction > 0.7 out of 10,000: 9383\n"
     ]
    }
   ],
   "source": [
    "print('hs_fraction > 0.7 out of 10,000:', len(hs_vtx_truth_associated_event_num))"
   ]
  },
  {
   "cell_type": "code",
   "execution_count": 235,
   "id": "789c7a35-83ff-4c6a-9ea7-fa76381d36a1",
   "metadata": {},
   "outputs": [],
   "source": [
    "def dist_cal(list1, list2):\n",
    "    dist = np.sqrt((list1[0]-list2[0])**2 + (list1[1]-list2[1])**2 + (list1[2]-list2[2])**2)\n",
    "    return dist\n",
    "\n",
    "def print_out(list1, list2):\n",
    "    print(\"diff_x:\", list1[0]-list2[0], \"diff_y\", list1[1]-list2[1], \"diff_z\", list1[2]-list2[2])"
   ]
  },
  {
   "cell_type": "code",
   "execution_count": 236,
   "id": "0365a25d-93f7-46e9-af2e-75620b1ffcd8",
   "metadata": {},
   "outputs": [
    {
     "name": "stdout",
     "output_type": "stream",
     "text": [
      "9522\n"
     ]
    }
   ],
   "source": [
    "# testing\n",
    "m = []\n",
    "for i in range(10000):\n",
    "    hs_dist = dist_cal(hs_vtx_truth[i], hs_vtx_reco[i])\n",
    "    pu_dist = []\n",
    "    for j in range(len(vtx_reco[i])):\n",
    "        pu_dist.append(dist_cal(hs_vtx_truth[i], vtx_reco[i][j]))\n",
    "    \n",
    "    if hs_dist <= 0.1 and min(pu_dist) == hs_dist:\n",
    "        m.append(1)\n",
    "print(len(m))"
   ]
  },
  {
   "cell_type": "code",
   "execution_count": 237,
   "id": "36acd85b-e3e1-4a94-9570-86abaffea628",
   "metadata": {},
   "outputs": [
    {
     "name": "stdout",
     "output_type": "stream",
     "text": [
      "9047\n"
     ]
    }
   ],
   "source": [
    "# testing\n",
    "m = []\n",
    "for i in hs_vtx_truth_associated_event_num:\n",
    "    hs_dist = dist_cal(hs_vtx_truth[i], hs_vtx_reco[i])\n",
    "    pu_dist = []\n",
    "    for j in range(len(vtx_reco[i])):\n",
    "        pu_dist.append(dist_cal(hs_vtx_truth[i], vtx_reco[i][j]))\n",
    "    \n",
    "    if hs_dist <= 0.1:\n",
    "        m.append(1)\n",
    "print(len(m))"
   ]
  },
  {
   "cell_type": "code",
   "execution_count": 238,
   "id": "c1a83ca9-8ed9-42d1-a08c-cd997fc861ef",
   "metadata": {},
   "outputs": [
    {
     "name": "stderr",
     "output_type": "stream",
     "text": [
      "/tmp/ipykernel_305/2979097591.py:39: DeprecationWarning: In future, it will be an error for 'np.bool_' scalars to be interpreted as an index\n",
      "  TEff1.Fill(Reco, localPUDensity);\n",
      "/tmp/ipykernel_305/2979097591.py:40: DeprecationWarning: In future, it will be an error for 'np.bool_' scalars to be interpreted as an index\n",
      "  TEff2.Fill(Reco, localPUDensity);\n",
      "/tmp/ipykernel_305/2979097591.py:41: DeprecationWarning: In future, it will be an error for 'np.bool_' scalars to be interpreted as an index\n",
      "  TEff3.Fill(Reco, localPUDensity);\n"
     ]
    },
    {
     "name": "stdout",
     "output_type": "stream",
     "text": [
      "time_elapsed: 3.951261520385742 seconds\n"
     ]
    },
    {
     "name": "stderr",
     "output_type": "stream",
     "text": [
      "Warning in <TCanvas::Constructor>: Deleting canvas with same name: fillhist\n"
     ]
    },
    {
     "data": {
      "image/png": "[encoded data removed]",
      "text/plain": [
       "<IPython.core.display.Image object>"
      ]
     },
     "metadata": {},
     "output_type": "display_data"
    }
   ],
   "source": [
    "#To successfully reconstruct a HS, 3 tests are done: \n",
    "# 1. |reco_HS - truth_HS| < 0.1 mm\n",
    "# 2. Reconstructable truth HS vertex which is associated to Reconstructed Vertex (TruthMatch fraction for HS vertex > 0.7)\n",
    "\n",
    "# local pile-up density near a vertex, defined as the number of generated vertices per unit length within a symmetrical ±2 mm longitudinal window\n",
    "time_start = time.time()\n",
    "c = ROOT.TCanvas(\"fillhist\", \"title1\", 1200, 800)\n",
    "#c.SetFillStyle(1001)\n",
    "TEff1 = ROOT.TEfficiency(\"eff\", \"HS vertex reconstuction efficiency (ATLAS 4 steps);Local PU density;HS vertex reconstruction efficiency\", 4, 0, 2)\n",
    "TEff2 = ROOT.TEfficiency(\"eff\", \"HS vertex reconstuction efficiency (Athena 7 steps);Local PU density;HS vertex reconstruction efficiency\", 7, 0, 3.5)\n",
    "TEff3 = ROOT.TEfficiency(\"eff\", \"HS vertex reconstuction efficiency (Comparsion 10 steps);Local PU density;HS vertex reconstruction efficiency\", 10, 0, 3.5)\n",
    "\n",
    "long_window = 2\n",
    "for l in range(len(vtx_truth)):\n",
    "    #localPUDensity\n",
    "    nTracksInWindow = 0\n",
    "    \n",
    "    long_dist = vtx_truth_vz[l]\n",
    "    long_dist = [np.abs(long_dist[i]-j) for i in range(len(long_dist)) for j in long_dist[i+1:]]\n",
    "    nTracksInWindow = len([i for i in long_dist if i < long_window])\n",
    "    \n",
    "    localPUDensity = nTracksInWindow/long_window\n",
    "    \n",
    "    \n",
    "    #Reco Test\n",
    "    hs_dist = dist_cal(hs_vtx_truth[l], hs_vtx_reco[l])\n",
    "    \n",
    "    pu_dist = []\n",
    "    for j in range(len(vtx_reco[l])):\n",
    "        pu_dist.append(dist_cal(hs_vtx_truth[l], vtx_reco[l][j]))\n",
    "    \n",
    "    num_trk_associated = []\n",
    "    for k in range(len(trk_reco[l])):\n",
    "        # trk_common = [a for a in trk_reco[i][j] if a in trk_truth[i][j]]\n",
    "        num_trk_associated.append(len([i for i, val in enumerate(trk_reco[l][k]) if val in hs_trk_truth[l]]))\n",
    "\n",
    "    Reco = hs_dist <= 0.1 and max(num_trk_associated)/len(hs_trk_truth[l]) >= 0.7 \n",
    "    # hs_dist <= 0.1 and min(pu_dist) == hs_dist\n",
    "    TEff1.Fill(Reco, localPUDensity);\n",
    "    TEff2.Fill(Reco, localPUDensity);\n",
    "    TEff3.Fill(Reco, localPUDensity);\n",
    "\n",
    "c.Divide(2, 2)\n",
    "c.cd(1); TEff1.Draw()\n",
    "c.cd(2); TEff2.Draw()\n",
    "c.cd(3); TEff3.Draw()\n",
    "c.Draw()\n",
    "\n",
    "time_elapsed = (time.time() - time_start)\n",
    "print('time_elapsed:',time_elapsed, 'seconds')"
   ]
  },
  {
   "cell_type": "code",
   "execution_count": 239,
   "id": "a0e666ad-f5f2-4be6-acc1-3af468e97a11",
   "metadata": {},
   "outputs": [
    {
     "name": "stdout",
     "output_type": "stream",
     "text": [
      "[1, 3, 7, 15, 31, 63, 127, 255, 2, 6, 14, 30, 62, 126, 254, 4, 12, 28, 60, 124, 252, 8, 24, 56, 120, 248, 16, 48, 112, 240, 32, 96, 224, 64, 192, 128]\n",
      "[1, 3, 7, 15, 31, 63, 127, 255, 2, 6, 14, 30, 62, 126, 254, 4, 12, 28, 60, 124, 252, 8, 24, 56, 120, 248, 16, 48, 112, 240, 32, 96, 224, 64, 192, 128]\n"
     ]
    }
   ],
   "source": [
    "# testing\n",
    "t1 = [1, 2, 4, 8, 16, 32, 64, 128, 256]\n",
    "result = [np.abs(t1[i]-j) for i in range(len(t1)) for j in t1[i+1:]]\n",
    "print(result)\n",
    "dist = []\n",
    "for j in range(len(t1)-1):\n",
    "    for k in range(j+1, len(t1)):\n",
    "        dist.append(np.abs(t1[j]-t1[k]))\n",
    "print(dist)"
   ]
  },
  {
   "cell_type": "code",
   "execution_count": 241,
   "id": "b7cbd4f5-997b-412d-ad4c-fc5e5df874a3",
   "metadata": {},
   "outputs": [
    {
     "name": "stderr",
     "output_type": "stream",
     "text": [
      "/tmp/ipykernel_305/3056873814.py:35: DeprecationWarning: In future, it will be an error for 'np.bool_' scalars to be interpreted as an index\n",
      "  TEff1.Fill(Sel, localPUDensity);\n",
      "/tmp/ipykernel_305/3056873814.py:36: DeprecationWarning: In future, it will be an error for 'np.bool_' scalars to be interpreted as an index\n",
      "  TEff2.Fill(Sel, localPUDensity);\n",
      "/tmp/ipykernel_305/3056873814.py:37: DeprecationWarning: In future, it will be an error for 'np.bool_' scalars to be interpreted as an index\n",
      "  TEff3.Fill(Sel, localPUDensity);\n",
      "Warning in <TCanvas::Constructor>: Deleting canvas with same name: fillhist\n"
     ]
    },
    {
     "data": {
      "image/png": "[encoded data removed]",
      "text/plain": [
       "<IPython.core.display.Image object>"
      ]
     },
     "metadata": {},
     "output_type": "display_data"
    }
   ],
   "source": [
    "# Selection Efficiency\n",
    "# loop around all Reconstructable truth HS vertex which is associated to Reconstructed Vertex (all vertex > 0.7)\n",
    "# test 1(ATLAS): the reconstructed vertex with highest pT2 is the one containing the largest total weight from true HS tracks. \n",
    "# problem(ATLAS): don't have truth track weight \n",
    "# test 1(Athena): HS reconstructed vertices == |reco - truth_HS| < 0.1 mm\n",
    "# or reco_HS is the closest vertex to the truth_HS among all the vertices reconstructed in that event\n",
    "\n",
    "\n",
    "c = ROOT.TCanvas(\"fillhist\", \"title\", 1200, 800)\n",
    "#c.SetFillStyle(1001)\n",
    "TEff1 = ROOT.TEfficiency(\"eff\", \"HS vertex selection efficiency (ATLAS 4 steps);Local PU density;HS vertex reconstruction efficiency\", 4, 0, 2)\n",
    "TEff2 = ROOT.TEfficiency(\"eff\", \"HS vertex selection efficiency (Athena 7 steps);Local PU density;HS vertex reconstruction efficiency\", 7, 0, 3.5)\n",
    "TEff3 = ROOT.TEfficiency(\"eff\", \"HS vertex selection efficiency (Comparsion 10 steps);Local PU density;HS vertex reconstruction efficiency\", 10, 0, 3.5)\n",
    "\n",
    "long_window = 2\n",
    "for l in hs_vtx_truth_associated_event_num:\n",
    "    #localPUDensity\n",
    "    nTracksInWindow = 0\n",
    "    \n",
    "    long_dist = vtx_truth_vz[l]\n",
    "    long_dist = [np.abs(long_dist[i]-j) for i in range(len(long_dist)) for j in long_dist[i+1:]]\n",
    "    nTracksInWindow = len([i for i in long_dist if i < long_window])\n",
    "    \n",
    "    localPUDensity = nTracksInWindow/long_window\n",
    "    \n",
    "    #Sel Test\n",
    "    hs_dist = dist_cal(hs_vtx_truth[l], hs_vtx_reco[l])\n",
    "    \n",
    "    pu_dist = []\n",
    "    for j in range(len(vtx_reco[l])):\n",
    "        pu_dist.append(dist_cal(hs_vtx_truth[l], vtx_reco[l][j]))\n",
    "    \n",
    "\n",
    "    Sel = min(pu_dist) == hs_dist\n",
    "    TEff1.Fill(Sel, localPUDensity);\n",
    "    TEff2.Fill(Sel, localPUDensity);\n",
    "    TEff3.Fill(Sel, localPUDensity);\n",
    "\n",
    "c.Divide(2, 2)\n",
    "c.cd(1); TEff1.Draw()\n",
    "c.cd(2); TEff2.Draw()\n",
    "c.cd(3); TEff3.Draw()\n",
    "c.Draw()"
   ]
  },
  {
   "cell_type": "code",
   "execution_count": null,
   "id": "c23605e3-3bd5-4dd6-9514-67a2fb8aee05",
   "metadata": {},
   "outputs": [],
   "source": []
  }
 ],
 "metadata": {
  "kernelspec": {
   "display_name": "Python 3 (ipykernel)",
   "language": "python",
   "name": "python3"
  },
  "language_info": {
   "codemirror_mode": {
    "name": "ipython",
    "version": 3
   },
   "file_extension": ".py",
   "mimetype": "text/x-python",
   "name": "python",
   "nbconvert_exporter": "python",
   "pygments_lexer": "ipython3",
   "version": "3.8.10"
  }
 },
 "nbformat": 4,
 "nbformat_minor": 5
}
