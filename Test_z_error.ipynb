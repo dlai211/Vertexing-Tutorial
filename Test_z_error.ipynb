{
 "cells": [
  {
   "cell_type": "code",
   "execution_count": 2,
   "id": "8609fb17",
   "metadata": {},
   "outputs": [],
   "source": [
    "TFile *f = new TFile(\"data/vertexing/ttbar_mu10/vertexperformance_AMVF.root\");\n",
    "TTree *t1 = (TTree*)f->Get(\"Reco_Vertex\");"
   ]
  },
  {
   "cell_type": "code",
   "execution_count": 3,
   "id": "ccd25038",
   "metadata": {},
   "outputs": [
    {
     "name": "stdout",
     "output_type": "stream",
     "text": [
      "TFile**\t\tdata/vertexing/ttbar_mu10/vertexperformance_AMVF.root\t\n",
      " TFile*\t\tdata/vertexing/ttbar_mu10/vertexperformance_AMVF.root\t\n",
      "  OBJ: TTree\tReco_Vertex\tReco_Vertex : 0 at: 0x7fc139dd9b50\n",
      "  KEY: TTree\tTruth_Vertex_PV_Selected;6\tTruth_Vertex_PV_Selected\n",
      "  KEY: TTree\tTruth_Vertex_PV_Selected;5\tTruth_Vertex_PV_Selected\n",
      "  KEY: TTree\tReco_Vertex;4\tReco_Vertex\n",
      "  KEY: TTree\tReco_Vertex;3\tReco_Vertex\n",
      "  KEY: TTree\tamvf;1\tamvf\n"
     ]
    }
   ],
   "source": [
    "f->ls();"
   ]
  },
  {
   "cell_type": "code",
   "execution_count": 4,
   "id": "ff130cb9",
   "metadata": {},
   "outputs": [
    {
     "name": "stdout",
     "output_type": "stream",
     "text": [
      "======> EVENT:0\n",
      " event_id        = 0\n",
      " reco_vtx_vx     = (vector<double>*)0x7fc13acd90e0\n",
      " reco_vtx_vy     = (vector<double>*)0x7fc13acdd310\n",
      " reco_vtx_vz     = (vector<double>*)0x7fc13acdfd50\n",
      " reco_vtx_fitquality_chiSquared = (vector<double>*)0x7fc13ace01e0\n",
      " reco_vtx_fitquality_nDoF = (vector<double>*)0x7fc13ace06b0\n",
      " reco_vtx_err_vx_vx = (vector<double>*)0x7fc13ace0b80\n",
      " reco_vtx_err_vx_vy = (vector<double>*)0x7fc13ace1050\n",
      " reco_vtx_err_vx_vz = (vector<double>*)0x7fc13ace1520\n",
      " reco_vtx_err_vy_vy = (vector<double>*)0x7fc13ace19f0\n",
      " reco_vtx_err_vy_vz = (vector<double>*)0x7fc13ace1ec0\n",
      " reco_vtx_err_vz_vz = (vector<double>*)0x7fc13ace2440\n",
      " reco_vtx_fitted_trk_d0 = (vector<double>*)0x7fc13ace2910\n",
      " reco_vtx_fitted_trk_z0 = (vector<double>*)0x7fc13ace3010\n",
      " reco_vtx_fitted_trk_phi = (vector<double>*)0x7fc13ace3710\n",
      " reco_vtx_fitted_trk_theta = (vector<double>*)0x7fc13ace3e10\n",
      " reco_vtx_fitted_trk_qp = (vector<double>*)0x7fc13ace4510\n",
      " reco_vtx_fitted_trk_time = (vector<double>*)0x7fc13ace4c10\n",
      " reco_vtx_fitted_trk_err_d0 = (vector<double>*)0x7fc13ace5310\n",
      " reco_vtx_fitted_trk_err_z0 = (vector<double>*)0x7fc13ace5a10\n",
      " reco_vtx_fitted_trk_err_phi = (vector<double>*)0x7fc13ace6110\n",
      " reco_vtx_fitted_trk_err_theta = (vector<double>*)0x7fc13ace6810\n",
      " reco_vtx_fitted_trk_err_qp = (vector<double>*)0x7fc13ace6f10\n",
      " reco_vtx_fitted_trk_err_time = (vector<double>*)0x7fc13ace7610\n",
      " reco_vtx_fitted_trk_chi2Track = (vector<double>*)0x7fc13ace7d10\n",
      " reco_vtx_fitted_trk_ndf = (vector<double>*)0x7fc13ace8410\n",
      " reco_vtx_fitted_trk_vertexCompatibility = (vector<double>*)0x7fc13ace8b10\n",
      " reco_vtx_fitted_trk_trackWeight = (vector<double>*)0x7fc13ace9230\n",
      " reco_vtx_fitted_trk_vtxID = (vector<int>*)0x7fc13af93920\n"
     ]
    }
   ],
   "source": [
    "t1->Show(0);"
   ]
  },
  {
   "cell_type": "code",
   "execution_count": 5,
   "id": "86ac32c3",
   "metadata": {},
   "outputs": [],
   "source": [
    "\n",
    "std::vector<double>* m_ptr_reco_vtx_vx = new std::vector<double>;\n",
    "t1->SetBranchAddress(\"reco_vtx_vx\",&m_ptr_reco_vtx_vx);\n",
    "\n",
    "std::vector<double>* m_ptr_reco_vtx_err_vz_vz = new std::vector<double>;\n",
    "t1->SetBranchAddress(\"reco_vtx_err_vz_vz\",&m_ptr_reco_vtx_err_vz_vz);\n",
    "\n"
   ]
  },
  {
   "cell_type": "code",
   "execution_count": 6,
   "id": "81cf011a",
   "metadata": {},
   "outputs": [],
   "source": [
    "TH1F *h_reco_vtx_err_vz_vz  = new TH1F(\"h_reco_vtx_err_vz_vz\", \"err_vz_vz\", 100, 0, 1);"
   ]
  },
  {
   "cell_type": "code",
   "execution_count": 7,
   "id": "04bfe3bc",
   "metadata": {},
   "outputs": [
    {
     "name": "stdout",
     "output_type": "stream",
     "text": [
      "0.0130192\n",
      "0.0254098\n",
      "0.0550863\n"
     ]
    }
   ],
   "source": [
    "//read all entries and fill the histograms\n",
    "Long64_t nentries = t1->GetEntries();\n",
    "\n",
    "for (Long64_t i=0;i<1;i++) {\n",
    "    t1->GetEntry(i);\n",
    "    for (size_t idx = 0; idx < m_ptr_reco_vtx_vx->size(); ++idx) {\n",
    "        h_reco_vtx_err_vz_vz->Fill((*m_ptr_reco_vtx_err_vz_vz)[idx]);\n",
    "        std::cout<< (*m_ptr_reco_vtx_err_vz_vz)[idx] << std::endl;\n",
    "    }\n",
    "}"
   ]
  },
  {
   "cell_type": "code",
   "execution_count": 8,
   "id": "2eff9ed7",
   "metadata": {},
   "outputs": [
    {
     "name": "stdout",
     "output_type": "stream",
     "text": [
      "(unsigned long) 3\n"
     ]
    }
   ],
   "source": [
    "m_ptr_reco_vtx_vx->size()"
   ]
  },
  {
   "cell_type": "code",
   "execution_count": 12,
   "id": "ac7a55f8",
   "metadata": {},
   "outputs": [
    {
     "name": "stdout",
     "output_type": "stream",
     "text": [
      "vtx 0 vx : 0.000242438\n",
      "vtx 0 z_error: 0.0130192\n",
      "vtx 1 vx : 0.0749836\n",
      "vtx 1 z_error: 0.0254098\n",
      "vtx 2 vx : 0.0592641\n",
      "vtx 2 z_error: 0.0550863\n"
     ]
    }
   ],
   "source": [
    "    t1->GetEntry(0);\n",
    "    for (size_t idx = 0; idx < m_ptr_reco_vtx_vx->size(); ++idx) {\n",
    "        h_reco_vtx_err_vz_vz->Fill((*m_ptr_reco_vtx_err_vz_vz)[idx]);\n",
    "        std::cout<<\"vtx \" << idx <<\" vx : \"<< (*m_ptr_reco_vtx_vx)[idx] << std::endl;\n",
    "        std::cout<<\"vtx \" << idx <<\" z_error: \"<< (*m_ptr_reco_vtx_err_vz_vz)[idx] << std::endl;\n",
    "    }"
   ]
  },
  {
   "cell_type": "code",
   "execution_count": 13,
   "id": "2cdad812",
   "metadata": {},
   "outputs": [
    {
     "name": "stdout",
     "output_type": "stream",
     "text": [
      "vtx 0 vx : 0.0109765\n",
      "vtx 0 z_error: 0.00947567\n",
      "vtx 1 vx : 0.0150405\n",
      "vtx 1 z_error: 0.0110535\n",
      "vtx 2 vx : -0.0130638\n",
      "vtx 2 z_error: 0.0145525\n",
      "vtx 3 vx : -0.00381872\n",
      "vtx 3 z_error: 0.0161636\n",
      "vtx 4 vx : -0.0426539\n",
      "vtx 4 z_error: 0.0169186\n",
      "vtx 5 vx : 0.0210694\n",
      "vtx 5 z_error: 0.0247663\n",
      "vtx 6 vx : -0.0266047\n",
      "vtx 6 z_error: 0.0172921\n",
      "vtx 7 vx : 0.0634714\n",
      "vtx 7 z_error: 1.92072\n"
     ]
    }
   ],
   "source": [
    "    t1->GetEntry(1);\n",
    "    for (size_t idx = 0; idx < m_ptr_reco_vtx_vx->size(); ++idx) {\n",
    "        h_reco_vtx_err_vz_vz->Fill((*m_ptr_reco_vtx_err_vz_vz)[idx]);\n",
    "        std::cout<<\"vtx \" << idx <<\" vx : \"<< (*m_ptr_reco_vtx_vx)[idx] << std::endl;\n",
    "        std::cout<<\"vtx \" << idx <<\" z_error: \"<< (*m_ptr_reco_vtx_err_vz_vz)[idx] << std::endl;\n",
    "    }"
   ]
  },
  {
   "cell_type": "code",
   "execution_count": 21,
   "id": "de34caa6",
   "metadata": {},
   "outputs": [],
   "source": [
    "h_reco_vtx_err_vz_vz->Draw();"
   ]
  },
  {
   "cell_type": "code",
   "execution_count": 22,
   "id": "ddd638c8",
   "metadata": {},
   "outputs": [
    {
     "data": {
      "image/png": "[encoded data removed]",
      "text/plain": [
       "<IPython.core.display.Image object>"
      ]
     },
     "metadata": {},
     "output_type": "display_data"
    }
   ],
   "source": [
    "c1->SetLogy();\n",
    "c1->Draw();"
   ]
  },
  {
   "cell_type": "code",
   "execution_count": 16,
   "id": "6abac444",
   "metadata": {},
   "outputs": [
    {
     "name": "stdout",
     "output_type": "stream",
     "text": [
      "(long long) 10000\n"
     ]
    }
   ],
   "source": [
    "nentries"
   ]
  },
  {
   "cell_type": "code",
   "execution_count": null,
   "id": "f3833ed7",
   "metadata": {},
   "outputs": [],
   "source": []
  }
 ],
 "metadata": {
  "kernelspec": {
   "display_name": "ROOT C++",
   "language": "c++",
   "name": "root"
  },
  "language_info": {
   "codemirror_mode": "text/x-c++src",
   "file_extension": ".C",
   "mimetype": " text/x-c++src",
   "name": "c++"
  }
 },
 "nbformat": 4,
 "nbformat_minor": 5
}
