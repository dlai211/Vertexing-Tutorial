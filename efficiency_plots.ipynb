{
 "cells": [
  {
   "cell_type": "code",
   "execution_count": 1,
   "metadata": {},
   "outputs": [
    {
     "name": "stdout",
     "output_type": "stream",
     "text": [
      "Welcome to JupyROOT 6.24/02\n"
     ]
    }
   ],
   "source": [
    "import ROOT\n",
    "import numpy as np\n",
    "import uproot3\n",
    "import time\n",
    "import matplotlib.pyplot as plt\n",
    "import scipy\n",
    "from scipy.stats import norm\n",
    "from tqdm import tqdm\n",
    "import pandas as pd"
   ]
  },
  {
   "cell_type": "code",
   "execution_count": 2,
   "metadata": {},
   "outputs": [
    {
     "data": {
      "text/plain": [
       "[b'Truth_Vertex_PV_Selected;6',\n",
       " b'Truth_Vertex_PV_Selected;5',\n",
       " b'Reco_Vertex;4',\n",
       " b'Reco_Vertex;3',\n",
       " b'amvf;1']"
      ]
     },
     "execution_count": 2,
     "metadata": {},
     "output_type": "execute_result"
    }
   ],
   "source": [
    "root_file = \"dav10.root\"\n",
    "file = uproot3.open(root_file)\n",
    "file.keys()"
   ]
  },
  {
   "cell_type": "code",
   "execution_count": 3,
   "metadata": {},
   "outputs": [
    {
     "data": {
      "text/plain": [
       "(dict_keys(['event_id', 'truth_vtx_vx', 'truth_vtx_vy', 'truth_vtx_vz', 'truth_particle_Id', 'truth_particle_Type', 'truth_particle_process', 'truth_particle_vx', 'truth_particle_vy', 'truth_particle_vz', 'truth_particle_vt', 'truth_particle_p', 'truth_particle_px', 'truth_particle_py', 'truth_particle_pz', 'truth_particle_m', 'truth_particle_q', 'truth_particle_eta', 'truth_particle_phi', 'truth_particle_pt', 'truth_particle_vertexPrimary', 'truth_particle_vertexSecondary', 'truth_particle_particle', 'truth_particle_generation', 'truth_particle_subParticle', 'truth_vtx_fitted_trk_d0', 'truth_vtx_fitted_trk_z0', 'truth_vtx_fitted_trk_phi', 'truth_vtx_fitted_trk_theta', 'truth_vtx_fitted_trk_qp', 'truth_vtx_fitted_trk_time', 'truth_vtx_fitted_trk_err_d0', 'truth_vtx_fitted_trk_err_z0', 'truth_vtx_fitted_trk_err_phi', 'truth_vtx_fitted_trk_err_theta', 'truth_vtx_fitted_trk_err_qp', 'truth_vtx_fitted_trk_err_time', 'truth_vtx_fitted_trk_vtxID']),\n",
       " dict_keys(['event_id', 'reco_vtx_vx', 'reco_vtx_vy', 'reco_vtx_vz', 'reco_vtx_fitquality_chiSquared', 'reco_vtx_fitquality_nDoF', 'reco_vtx_err_vx_vx', 'reco_vtx_err_vx_vy', 'reco_vtx_err_vx_vz', 'reco_vtx_err_vy_vy', 'reco_vtx_err_vy_vz', 'reco_vtx_err_vz_vz', 'reco_vtx_fitted_trk_d0', 'reco_vtx_fitted_trk_z0', 'reco_vtx_fitted_trk_phi', 'reco_vtx_fitted_trk_theta', 'reco_vtx_fitted_trk_qp', 'reco_vtx_fitted_trk_time', 'reco_vtx_fitted_trk_err_d0', 'reco_vtx_fitted_trk_err_z0', 'reco_vtx_fitted_trk_err_phi', 'reco_vtx_fitted_trk_err_theta', 'reco_vtx_fitted_trk_err_qp', 'reco_vtx_fitted_trk_err_time', 'reco_vtx_fitted_trk_chi2Track', 'reco_vtx_fitted_trk_ndf', 'reco_vtx_fitted_trk_vertexCompatibility', 'reco_vtx_fitted_trk_trackWeight', 'reco_vtx_fitted_trk_vtxID']))"
      ]
     },
     "execution_count": 3,
     "metadata": {},
     "output_type": "execute_result"
    }
   ],
   "source": [
    "tree_truth = file['Truth_Vertex_PV_Selected;6']\n",
    "tree_reco = file['Reco_Vertex;4']\n",
    "branches_truth = tree_truth.arrays(namedecode='utf-8')\n",
    "branches_reco = tree_reco.arrays(namedecode='utf-8')\n",
    "branches_truth.keys(), branches_reco.keys()"
   ]
  },
  {
   "cell_type": "code",
   "execution_count": 4,
   "metadata": {},
   "outputs": [],
   "source": [
    "# define variables\n",
    "event_size = 10000\n",
    "truth_vx, truth_vy, truth_vz = branches_truth['truth_vtx_vx'], branches_truth['truth_vtx_vy'], branches_truth['truth_vtx_vz']\n",
    "reco_vx, reco_vy, reco_vz = branches_reco['reco_vtx_vx'], branches_reco['reco_vtx_vy'], branches_reco['reco_vtx_vz']\n",
    "truth_d0, truth_z0, truth_phi, truth_theta, truth_qp, truth_trk_vtxid = branches_truth['truth_vtx_fitted_trk_d0'], branches_truth['truth_vtx_fitted_trk_z0'], branches_truth['truth_vtx_fitted_trk_phi'], branches_truth['truth_vtx_fitted_trk_theta'], branches_truth['truth_vtx_fitted_trk_qp'], branches_truth['truth_vtx_fitted_trk_vtxID']\n",
    "reco_d0, reco_z0, reco_phi, reco_theta, reco_qp, reco_trk_trackweight, reco_trk_vtxid  = branches_reco['reco_vtx_fitted_trk_d0'], branches_reco['reco_vtx_fitted_trk_z0'], branches_reco['reco_vtx_fitted_trk_phi'], branches_reco['reco_vtx_fitted_trk_theta'], branches_reco['reco_vtx_fitted_trk_qp'], branches_reco['reco_vtx_fitted_trk_trackWeight'], branches_reco['reco_vtx_fitted_trk_vtxID']"
   ]
  },
  {
   "cell_type": "code",
   "execution_count": 5,
   "metadata": {},
   "outputs": [
    {
     "name": "stderr",
     "output_type": "stream",
     "text": [
      "100%|███████████████████████████████████████████████████████████████████████████| 10000/10000 [00:07<00:00, 1372.96it/s]\n"
     ]
    }
   ],
   "source": [
    "# prepare data\n",
    "truth_trk_info, reco_trk_info, truth_vtx_info, reco_vtx_info, truth_HSvtx, reco_HSvtx, truth_HStrk, reco_HStrk, reco_trkweight, reco_HStrkweight = [], [], [], [], [], [], [], [], [], []\n",
    "num_vtx_reco, num_vtx_truth, num_trk_reco, num_trk_truth = [], [], [], []\n",
    "\n",
    "for i in tqdm(range(event_size)):\n",
    "    num_trk_truth_i = np.bincount(truth_trk_vtxid[i])\n",
    "    truth_trk_info_tmp = np.vstack([truth_d0[i], truth_z0[i], truth_phi[i], truth_theta[i], truth_qp[i]]).transpose()\n",
    "    truth_trk_info_tmp = np.split(truth_trk_info_tmp, np.cumsum(num_trk_truth_i))\n",
    "    truth_trk_info_tmp = truth_trk_info_tmp[:-1]\n",
    "    truth_trk_info.append(truth_trk_info_tmp)\n",
    "    num_trk_truth.append(num_trk_truth_i)\n",
    "    \n",
    "    num_trk_reco_i = np.bincount(reco_trk_vtxid[i])\n",
    "    reco_trk_info_tmp = np.vstack([reco_d0[i], reco_z0[i], reco_phi[i], reco_theta[i], reco_qp[i]]).transpose()\n",
    "    reco_trk_info_tmp, reco_trkweight_tmp = np.split(reco_trk_info_tmp, np.cumsum(num_trk_reco_i)), np.split(reco_trk_trackweight[i], np.cumsum(num_trk_reco_i))\n",
    "    reco_trk_info_tmp, reco_trkweight_tmp = reco_trk_info_tmp[:-1], reco_trkweight_tmp[:-1]\n",
    "    reco_trk_info.append(reco_trk_info_tmp)\n",
    "    num_trk_reco.append(num_trk_reco_i)\n",
    "    reco_trkweight.append(reco_trkweight_tmp)\n",
    "    \n",
    "    truth_vtx_i = np.vstack([truth_vx[i], truth_vy[i], truth_vz[i]]).transpose().tolist()\n",
    "    truth_HSvtx.append(truth_vtx_i[0])\n",
    "    truth_HStrk.append(truth_trk_info_tmp[0])\n",
    "    truth_vtx_info.append(truth_vtx_i)\n",
    "    num_vtx_truth.append(len(truth_vtx_i))\n",
    "    \n",
    "    reco_vtx_i = np.vstack([reco_vx[i], reco_vy[i], reco_vz[i]]).transpose().tolist()\n",
    "    reco_pt = np.split((1/(np.abs(reco_qp[i])) * np.sin(reco_theta[i])) ** 2, np.cumsum(num_trk_reco_i))\n",
    "    reco_pt = [sum(i) for i in reco_pt[:-1]]\n",
    "    reco_HSvtx.append(reco_vtx_i[reco_pt.index(max(reco_pt))])\n",
    "    reco_HStrk.append(reco_trk_info_tmp[reco_pt.index(max(reco_pt))])\n",
    "    reco_HStrkweight.append(reco_trkweight_tmp[reco_pt.index(max(reco_pt))])\n",
    "    reco_vtx_info.append(reco_vtx_i)\n",
    "    num_vtx_reco.append(len(reco_vtx_i))"
   ]
  },
  {
   "cell_type": "code",
   "execution_count": 120,
   "metadata": {},
   "outputs": [
    {
     "data": {
      "text/plain": [
       "[array([9.88566410e-01, 9.87810161e-01, 9.47470630e-01, 9.69525072e-01,\n",
       "        9.78670707e-01, 8.60691675e-01, 1.74126573e-01, 9.58793326e-01,\n",
       "        9.84907309e-01, 9.79034158e-01, 9.86050666e-01, 9.85976238e-01,\n",
       "        9.86656022e-01, 9.44598603e-01, 9.86267373e-01, 9.50559347e-01,\n",
       "        9.47286085e-01, 9.82412112e-01, 1.81086406e-01, 8.54028482e-05,\n",
       "        1.53337064e-01, 4.59611369e-03, 9.62186399e-01, 9.79915841e-01,\n",
       "        9.85530251e-01, 6.43146018e-01, 9.81499539e-01, 9.81621494e-01,\n",
       "        9.74585738e-01, 4.24549329e-05, 6.28864582e-01, 9.88673761e-01,\n",
       "        9.88650393e-01, 8.83241159e-01, 9.74451750e-01, 9.11215275e-01,\n",
       "        9.72576996e-01, 9.17060448e-01, 9.59265494e-01, 9.67365677e-01,\n",
       "        9.88671031e-01, 3.52208921e-01, 9.81388040e-01, 9.87079846e-01,\n",
       "        9.87720272e-01, 9.74507872e-01, 7.75426641e-01, 9.65336050e-01,\n",
       "        9.67580673e-01, 8.71503998e-01]),\n",
       " array([1.27846130e-07, 3.15375041e-04, 9.74936715e-01, 9.40564537e-01,\n",
       "        2.76375216e-02, 9.68971318e-01, 7.21136370e-01, 9.77557551e-01,\n",
       "        9.52869893e-01, 1.35486226e-01, 9.31608009e-01, 9.81855831e-01,\n",
       "        2.75203698e-06, 9.96882324e-06, 9.80395696e-01, 6.65796875e-04,\n",
       "        9.68216866e-01, 2.49010767e-01, 6.33796797e-05, 5.63884927e-01,\n",
       "        9.68016301e-01, 7.66247967e-02, 5.49413085e-03, 5.89732489e-01,\n",
       "        1.24238559e-03, 3.52970247e-04, 1.16800582e-01]),\n",
       " array([0.41745807, 0.98070191, 0.98586255, 0.97120775])]"
      ]
     },
     "execution_count": 120,
     "metadata": {},
     "output_type": "execute_result"
    }
   ],
   "source": [
    "# testing\n",
    "reco_trkweight[0]"
   ]
  },
  {
   "cell_type": "code",
   "execution_count": 99,
   "metadata": {},
   "outputs": [
    {
     "data": {
      "text/plain": [
       "3"
      ]
     },
     "execution_count": 99,
     "metadata": {},
     "output_type": "execute_result"
    }
   ],
   "source": [
    "num_vtx_reco[0]"
   ]
  },
  {
   "cell_type": "markdown",
   "metadata": {},
   "source": [
    "## Plotting x-position, y-position, z-position, number of vertex, number of track"
   ]
  },
  {
   "cell_type": "code",
   "execution_count": 7,
   "metadata": {},
   "outputs": [
    {
     "data": {
      "image/png": "[encoded data removed]",
      "text/plain": [
       "<Figure size 432x288 with 1 Axes>"
      ]
     },
     "metadata": {
      "needs_background": "light"
     },
     "output_type": "display_data"
    },
    {
     "data": {
      "image/png": "[encoded data removed]",
      "text/plain": [
       "<Figure size 432x288 with 1 Axes>"
      ]
     },
     "metadata": {
      "needs_background": "light"
     },
     "output_type": "display_data"
    },
    {
     "data": {
      "image/png": "[encoded data removed]",
      "text/plain": [
       "<Figure size 432x288 with 1 Axes>"
      ]
     },
     "metadata": {
      "needs_background": "light"
     },
     "output_type": "display_data"
    },
    {
     "data": {
      "image/png": "[encoded data removed]",
      "text/plain": [
       "<Figure size 432x288 with 1 Axes>"
      ]
     },
     "metadata": {
      "needs_background": "light"
     },
     "output_type": "display_data"
    },
    {
     "data": {
      "image/png": "[encoded data removed]",
      "text/plain": [
       "<Figure size 432x288 with 1 Axes>"
      ]
     },
     "metadata": {
      "needs_background": "light"
     },
     "output_type": "display_data"
    }
   ],
   "source": [
    "def gauss(x, H, A, x0, sigma):\n",
    "    return H + A * np.exp(-(x - x0) ** 2 / (2 * sigma ** 2))\n",
    "\n",
    "def gauss_fit(x, y):\n",
    "    mean = sum(x * y) / sum(y)\n",
    "    sigma = np.sqrt(sum(y * (x - mean) ** 2) / sum(y))\n",
    "    popt, pcov = scipy.optimize.curve_fit(gauss, x, y, p0=[min(y), max(y), mean, sigma])\n",
    "    return popt\n",
    "        \n",
    "# define the plots\n",
    "fig_vx, ax_vx = plt.subplots()\n",
    "fig_vy, ax_vy = plt.subplots()\n",
    "fig_vz, ax_vz = plt.subplots()\n",
    "fig_vtx, ax_vtx = plt.subplots()\n",
    "fig_trk, ax_trk = plt.subplots()\n",
    "                    \n",
    "# vx\n",
    "ax_vx.hist([truth_vx.flatten(), reco_vx.flatten()], bins=50,\n",
    "           range=(-0.25, 0.25), label=['truth number of vertex', 'reco number of vertex'])\n",
    "\n",
    "# vx fitted function\n",
    "xdata = np.linspace(-0.24, 0.24, 50)\n",
    "counts, bins = np.histogram(truth_vx.flatten(), bins=50, range=(-0.25, 0.25))\n",
    "H, A, x0, sigma = gauss_fit(xdata, counts)\n",
    "ax_vx.plot(xdata, counts, color='blue', linewidth=1, \n",
    "           label='Truth Fitted Function with' + f'$(\\\\mu \\\\approx {round(x0, 5)}, \\\\sigma \\\\approx {round(np.abs(sigma), 5)})$')\n",
    "\n",
    "counts, bins = np.histogram(reco_vx.flatten(), bins=50, range=(-0.25, 0.25))\n",
    "H, A, x0, sigma = gauss_fit(xdata, counts)\n",
    "ax_vx.plot(xdata, counts, color='orange', linewidth=1,\n",
    "           label='Reco Fitted Function with' + f'$(\\\\mu \\\\approx {round(x0, 5)}, \\\\sigma \\\\approx {round(np.abs(sigma), 5)})$')\n",
    "\n",
    "# vy\n",
    "ax_vy.hist([truth_vy.flatten(), reco_vy.flatten()], bins=50, \n",
    "           range=(-0.25, 0.25), label=['truth number of vertex', 'reco number of vertex'])\n",
    "\n",
    "# vy fitted function\n",
    "xdata = np.linspace(-0.24, 0.24, 50)\n",
    "counts, bins = np.histogram(truth_vy.flatten(), bins=50, range=(-0.25, 0.25))\n",
    "H, A, x0, sigma = gauss_fit(xdata, counts)\n",
    "ax_vy.plot(xdata, counts, color='blue', linewidth=1, \n",
    "           label='Truth Fitted Function with' + f'$(\\\\mu \\\\approx {round(x0, 5)}, \\\\sigma \\\\approx {round(np.abs(sigma), 5)})$')\n",
    "\n",
    "counts, bins = np.histogram(reco_vy.flatten(), bins=50, range=(-0.25, 0.25))\n",
    "H, A, x0, sigma = gauss_fit(xdata, counts)\n",
    "ax_vy.plot(xdata, counts, color='orange', linewidth=1,\n",
    "           label='Reco Fitted Function with' + f'$(\\\\mu \\\\approx {round(x0, 5)}, \\\\sigma \\\\approx {round(np.abs(sigma), 5)})$')\n",
    "\n",
    "# vz\n",
    "ax_vz.hist([truth_vz.flatten(), reco_vz.flatten()], bins=50,\n",
    "           range=(-200, 200), label=['truth number of vertex', 'reco number of vertex'])\n",
    "\n",
    "# vz fitted function\n",
    "xdata = np.linspace(-199, 199, 50)\n",
    "counts, bins = np.histogram(truth_vz.flatten(), bins=50, range=(-200, 200))\n",
    "H, A, x0, sigma = gauss_fit(xdata, counts)\n",
    "ax_vz.plot(xdata, counts, color='blue', linewidth=1, \n",
    "           label='Truth Fitted Function with' + f'$(\\\\mu \\\\approx {round(x0, 5)}, \\\\sigma \\\\approx {round(np.abs(sigma), 5)})$')\n",
    "\n",
    "counts, bins = np.histogram(reco_vz.flatten(), bins=50, range=(-200, 200))\n",
    "H, A, x0, sigma = gauss_fit(xdata, counts)\n",
    "ax_vz.plot(xdata, counts, color='orange', linewidth=1,\n",
    "           label='Reco Fitted Function with' + f'$(\\\\mu \\\\approx {round(x0, 5)}, \\\\sigma \\\\approx {round(np.abs(sigma), 5)})$')\n",
    "\n",
    "# num of vtx\n",
    "mu_truth, sigma_truth = scipy.stats.norm.fit(num_vtx_truth)\n",
    "mu_reco, sigma_reco = scipy.stats.norm.fit(num_vtx_reco)\n",
    "ax_vtx.hist([num_vtx_truth, num_vtx_reco], bins=20, range=(0, 20), \n",
    "            label=['truth number of vertex' + f'$(\\\\mu \\\\approx {round(mu_truth, 5)}, \\\\sigma \\\\approx {round(np.abs(sigma_truth), 5)})$', \n",
    "                   'reco number of vertex' + f'$(\\\\mu \\\\approx {round(mu_reco, 5)}, \\\\sigma \\\\approx {round(np.abs(sigma_reco), 5)})$'])\n",
    "\n",
    "# num of trk\n",
    "ax_trk.hist([list(np.concatenate(num_trk_truth).flat), list(np.concatenate(num_trk_reco).flat)], bins=150,\n",
    "            range=(0, 150), label=['truth number of track', 'reco number of track'])\n",
    "ax_trk.set_yscale('log')\n",
    "\n",
    "\n",
    "ax_vx.set_title('All Vertex - x-positions', fontsize=13)\n",
    "ax_vy.set_title('All Vertex - y-positions', fontsize=13)\n",
    "ax_vz.set_title('All Vertex - z-positions', fontsize=13)\n",
    "ax_vtx.set_title('All Vertex - Number of Vertex', fontsize=13)\n",
    "ax_trk.set_title('All Vertex - Number of Track', fontsize = 13)\n",
    "\n",
    "ax_vx.set_xlabel('vx')\n",
    "ax_vy.set_xlabel('vy')\n",
    "ax_vz.set_xlabel('vz')\n",
    "ax_vtx.set_xlabel('vertex')\n",
    "ax_trk.set_xlabel('track')\n",
    "\n",
    "ax_vx.set_ylabel('Entries')\n",
    "ax_vy.set_ylabel('Entries')\n",
    "ax_vz.set_ylabel('Entries')\n",
    "ax_vtx.set_ylabel('Entries')\n",
    "ax_trk.set_ylabel('Entries')\n",
    "\n",
    "ax_vx.legend(fontsize=10, loc=\"upper right\")\n",
    "ax_vy.legend(fontsize=10, loc=\"upper right\")\n",
    "ax_vz.legend(fontsize=10, loc=\"upper right\")\n",
    "ax_vtx.legend(fontsize=10, loc=\"upper right\")\n",
    "ax_trk.legend(fontsize=10, loc=\"upper right\")\n",
    "\n",
    "plt.xticks(fontsize=10)\n",
    "plt.yticks(fontsize=10)\n",
    "#plt.text(0.25, 23000, 'mean= %.8f'%mean, fontsize=10)\n",
    "#plt.text(0.25, 21000, 'standard deviation= %.4f'%stadev, fontsize=10)\n",
    "plt.show()"
   ]
  },
  {
   "cell_type": "markdown",
   "metadata": {},
   "source": [
    "## D0-Z0 Plot"
   ]
  },
  {
   "cell_type": "code",
   "execution_count": 12,
   "metadata": {},
   "outputs": [
    {
     "data": {
      "image/png": "[encoded data removed]",
      "text/plain": [
       "<Figure size 432x288 with 1 Axes>"
      ]
     },
     "metadata": {
      "needs_background": "light"
     },
     "output_type": "display_data"
    },
    {
     "data": {
      "image/png": "[encoded data removed]",
      "text/plain": [
       "<Figure size 432x288 with 1 Axes>"
      ]
     },
     "metadata": {
      "needs_background": "light"
     },
     "output_type": "display_data"
    },
    {
     "data": {
      "image/png": "[encoded data removed]",
      "text/plain": [
       "<Figure size 432x288 with 1 Axes>"
      ]
     },
     "metadata": {
      "needs_background": "light"
     },
     "output_type": "display_data"
    },
    {
     "data": {
      "image/png": "[encoded data removed]",
      "text/plain": [
       "<Figure size 432x288 with 1 Axes>"
      ]
     },
     "metadata": {
      "needs_background": "light"
     },
     "output_type": "display_data"
    },
    {
     "data": {
      "image/png": "[encoded data removed]",
      "text/plain": [
       "<Figure size 432x288 with 1 Axes>"
      ]
     },
     "metadata": {
      "needs_background": "light"
     },
     "output_type": "display_data"
    }
   ],
   "source": [
    "import matplotlib.pyplot as plt\n",
    "from random import randint\n",
    "import numpy as np\n",
    "import matplotlib.cm as cm\n",
    "\n",
    "#Let's generate some random X, Y data X = [ [frst group],[second group] ...]\n",
    "def d0_z0(num_vtx):\n",
    "    for i in range(event_size):\n",
    "        if len(truth_vx[i]) == num_vtx:\n",
    "            num_trk_truth_i = np.bincount(truth_trk_vtxid[i])\n",
    "            truth_z0_i = np.split(truth_z0[i], np.cumsum(num_trk_truth_i))\n",
    "            truth_z0_i = truth_z0_i[:-1]\n",
    "\n",
    "            truth_d0_i = np.split(truth_d0[i], np.cumsum(num_trk_truth_i))\n",
    "            truth_d0_i = truth_d0_i[:-1]\n",
    "            break\n",
    "    X = truth_z0_i\n",
    "    Y = truth_d0_i\n",
    "    labels = range(1,len(X)+1)\n",
    "    colors = cm.rainbow(np.linspace(0, 1, len(X)))\n",
    "    fig = plt.figure()\n",
    "    ax = fig.add_subplot(111)\n",
    "    for x,y,c,lab in zip(X,Y,colors,labels):\n",
    "            ax.scatter(x,y,color=c,label=lab, marker='.')\n",
    "\n",
    "    colormap = plt.cm.gist_ncar\n",
    "    colorst = [colormap(i) for i in np.linspace(0, 0.9,len(ax.collections))]       \n",
    "    for t,j1 in enumerate(ax.collections):\n",
    "        j1.set_color(colorst[t])\n",
    "    ax.set_title('D0-Z0 Plot with' + '\\t' + f'${num_vtx}$ vertices' , fontsize = 15)\n",
    "\n",
    "    ax_vx.set_xlabel('z0')\n",
    "    ax_vx.set_ylabel('d0')\n",
    "    ax.legend(fontsize='small', loc='upper right')\n",
    "    plt.show()\n",
    "    \n",
    "d0_z0(6)\n",
    "d0_z0(8)\n",
    "d0_z0(12)\n",
    "d0_z0(14)\n",
    "d0_z0(16)"
   ]
  },
  {
   "cell_type": "markdown",
   "metadata": {},
   "source": [
    "## Truth Match Fraction"
   ]
  },
  {
   "cell_type": "code",
   "execution_count": 6,
   "metadata": {},
   "outputs": [
    {
     "name": "stderr",
     "output_type": "stream",
     "text": [
      "100%|█████████████████████████████████████████████████████████████████████████████████████████████████████████████████| 10000/10000 [00:04<00:00, 2272.17it/s]\n"
     ]
    }
   ],
   "source": [
    "# only compare z0 instead of all five track parameters to save computing time.\n",
    "truth_trk_z0, reco_trk_z0 = [], []\n",
    "\n",
    "for i in tqdm(range(event_size)):\n",
    "    num_trk_truth_i = np.bincount(truth_trk_vtxid[i])\n",
    "    truth_z0_i = np.split(truth_z0[i], np.cumsum(num_trk_truth_i))\n",
    "    truth_z0_i = truth_z0_i[:-1]\n",
    "    truth_trk_z0.append(truth_z0_i)\n",
    "    \n",
    "    num_trk_reco_i = np.bincount(reco_trk_vtxid[i])\n",
    "    reco_z0_i = np.split(reco_z0[i], np.cumsum(num_trk_reco_i))\n",
    "    reco_z0_i = reco_z0_i[:-1]\n",
    "    reco_trk_z0.append(reco_z0_i)"
   ]
  },
  {
   "cell_type": "markdown",
   "metadata": {
    "tags": []
   },
   "source": [
    "### Arrange Reco track parameter"
   ]
  },
  {
   "cell_type": "code",
   "execution_count": 7,
   "metadata": {},
   "outputs": [
    {
     "data": {
      "text/html": [
       "<div>\n",
       "<style scoped>\n",
       "    .dataframe tbody tr th:only-of-type {\n",
       "        vertical-align: middle;\n",
       "    }\n",
       "\n",
       "    .dataframe tbody tr th {\n",
       "        vertical-align: top;\n",
       "    }\n",
       "\n",
       "    .dataframe thead th {\n",
       "        text-align: right;\n",
       "    }\n",
       "</style>\n",
       "<table border=\"1\" class=\"dataframe\">\n",
       "  <thead>\n",
       "    <tr style=\"text-align: right;\">\n",
       "      <th></th>\n",
       "      <th>truth d0</th>\n",
       "      <th>truth z0</th>\n",
       "      <th>truth phi</th>\n",
       "      <th>truth theta</th>\n",
       "      <th>truth qp</th>\n",
       "      <th>truth vtxid</th>\n",
       "    </tr>\n",
       "  </thead>\n",
       "  <tbody>\n",
       "    <tr>\n",
       "      <th>0</th>\n",
       "      <td>-0.038274</td>\n",
       "      <td>-22.535131</td>\n",
       "      <td>2.583022</td>\n",
       "      <td>0.915395</td>\n",
       "      <td>-0.616165</td>\n",
       "      <td>0.0</td>\n",
       "    </tr>\n",
       "    <tr>\n",
       "      <th>1</th>\n",
       "      <td>0.009521</td>\n",
       "      <td>-22.696026</td>\n",
       "      <td>-0.258679</td>\n",
       "      <td>0.458266</td>\n",
       "      <td>0.444157</td>\n",
       "      <td>0.0</td>\n",
       "    </tr>\n",
       "    <tr>\n",
       "      <th>2</th>\n",
       "      <td>-0.088092</td>\n",
       "      <td>-22.692131</td>\n",
       "      <td>0.050467</td>\n",
       "      <td>0.326066</td>\n",
       "      <td>0.314584</td>\n",
       "      <td>0.0</td>\n",
       "    </tr>\n",
       "    <tr>\n",
       "      <th>3</th>\n",
       "      <td>-0.030128</td>\n",
       "      <td>-22.519411</td>\n",
       "      <td>1.993542</td>\n",
       "      <td>0.835452</td>\n",
       "      <td>-1.433590</td>\n",
       "      <td>0.0</td>\n",
       "    </tr>\n",
       "    <tr>\n",
       "      <th>4</th>\n",
       "      <td>-0.001914</td>\n",
       "      <td>-22.541300</td>\n",
       "      <td>0.288972</td>\n",
       "      <td>0.916353</td>\n",
       "      <td>-0.274592</td>\n",
       "      <td>0.0</td>\n",
       "    </tr>\n",
       "    <tr>\n",
       "      <th>...</th>\n",
       "      <td>...</td>\n",
       "      <td>...</td>\n",
       "      <td>...</td>\n",
       "      <td>...</td>\n",
       "      <td>...</td>\n",
       "      <td>...</td>\n",
       "    </tr>\n",
       "    <tr>\n",
       "      <th>85</th>\n",
       "      <td>-0.046163</td>\n",
       "      <td>72.341583</td>\n",
       "      <td>0.096143</td>\n",
       "      <td>2.455612</td>\n",
       "      <td>-1.257196</td>\n",
       "      <td>5.0</td>\n",
       "    </tr>\n",
       "    <tr>\n",
       "      <th>86</th>\n",
       "      <td>-0.036685</td>\n",
       "      <td>72.360649</td>\n",
       "      <td>-0.132347</td>\n",
       "      <td>1.584137</td>\n",
       "      <td>1.660338</td>\n",
       "      <td>5.0</td>\n",
       "    </tr>\n",
       "    <tr>\n",
       "      <th>87</th>\n",
       "      <td>-0.004564</td>\n",
       "      <td>71.659828</td>\n",
       "      <td>1.609938</td>\n",
       "      <td>0.503760</td>\n",
       "      <td>0.441634</td>\n",
       "      <td>5.0</td>\n",
       "    </tr>\n",
       "    <tr>\n",
       "      <th>88</th>\n",
       "      <td>3.060091</td>\n",
       "      <td>106.717613</td>\n",
       "      <td>2.895893</td>\n",
       "      <td>1.282347</td>\n",
       "      <td>1.478191</td>\n",
       "      <td>5.0</td>\n",
       "    </tr>\n",
       "    <tr>\n",
       "      <th>89</th>\n",
       "      <td>0.286553</td>\n",
       "      <td>73.502548</td>\n",
       "      <td>-3.138449</td>\n",
       "      <td>1.523407</td>\n",
       "      <td>-1.499150</td>\n",
       "      <td>5.0</td>\n",
       "    </tr>\n",
       "  </tbody>\n",
       "</table>\n",
       "<p>90 rows × 6 columns</p>\n",
       "</div>"
      ],
      "text/plain": [
       "    truth d0    truth z0  truth phi  truth theta  truth qp  truth vtxid\n",
       "0  -0.038274  -22.535131   2.583022     0.915395 -0.616165          0.0\n",
       "1   0.009521  -22.696026  -0.258679     0.458266  0.444157          0.0\n",
       "2  -0.088092  -22.692131   0.050467     0.326066  0.314584          0.0\n",
       "3  -0.030128  -22.519411   1.993542     0.835452 -1.433590          0.0\n",
       "4  -0.001914  -22.541300   0.288972     0.916353 -0.274592          0.0\n",
       "..       ...         ...        ...          ...       ...          ...\n",
       "85 -0.046163   72.341583   0.096143     2.455612 -1.257196          5.0\n",
       "86 -0.036685   72.360649  -0.132347     1.584137  1.660338          5.0\n",
       "87 -0.004564   71.659828   1.609938     0.503760  0.441634          5.0\n",
       "88  3.060091  106.717613   2.895893     1.282347  1.478191          5.0\n",
       "89  0.286553   73.502548  -3.138449     1.523407 -1.499150          5.0\n",
       "\n",
       "[90 rows x 6 columns]"
      ]
     },
     "execution_count": 7,
     "metadata": {},
     "output_type": "execute_result"
    }
   ],
   "source": [
    "i = 3\n",
    "truth_trk_info_tmp = np.vstack([truth_d0[i], truth_z0[i], truth_phi[i], truth_theta[i], truth_qp[i], truth_trk_vtxid[i]]).transpose()\n",
    "pd.DataFrame(truth_trk_info_tmp, columns=['truth d0', 'truth z0', 'truth phi', 'truth theta', 'truth qp', 'truth vtxid'])"
   ]
  },
  {
   "cell_type": "code",
   "execution_count": 8,
   "metadata": {},
   "outputs": [
    {
     "data": {
      "text/html": [
       "<div>\n",
       "<style scoped>\n",
       "    .dataframe tbody tr th:only-of-type {\n",
       "        vertical-align: middle;\n",
       "    }\n",
       "\n",
       "    .dataframe tbody tr th {\n",
       "        vertical-align: top;\n",
       "    }\n",
       "\n",
       "    .dataframe thead th {\n",
       "        text-align: right;\n",
       "    }\n",
       "</style>\n",
       "<table border=\"1\" class=\"dataframe\">\n",
       "  <thead>\n",
       "    <tr style=\"text-align: right;\">\n",
       "      <th></th>\n",
       "      <th>reco d0</th>\n",
       "      <th>reco z0</th>\n",
       "      <th>reco phi</th>\n",
       "      <th>reco theta</th>\n",
       "      <th>reco qp</th>\n",
       "      <th>reco vtxid</th>\n",
       "    </tr>\n",
       "  </thead>\n",
       "  <tbody>\n",
       "    <tr>\n",
       "      <th>0</th>\n",
       "      <td>-0.038274</td>\n",
       "      <td>-22.535131</td>\n",
       "      <td>2.583022</td>\n",
       "      <td>0.915395</td>\n",
       "      <td>-0.616165</td>\n",
       "      <td>0.0</td>\n",
       "    </tr>\n",
       "    <tr>\n",
       "      <th>1</th>\n",
       "      <td>0.009521</td>\n",
       "      <td>-22.696026</td>\n",
       "      <td>-0.258679</td>\n",
       "      <td>0.458266</td>\n",
       "      <td>0.444157</td>\n",
       "      <td>0.0</td>\n",
       "    </tr>\n",
       "    <tr>\n",
       "      <th>2</th>\n",
       "      <td>-0.088092</td>\n",
       "      <td>-22.692131</td>\n",
       "      <td>0.050467</td>\n",
       "      <td>0.326066</td>\n",
       "      <td>0.314584</td>\n",
       "      <td>0.0</td>\n",
       "    </tr>\n",
       "    <tr>\n",
       "      <th>3</th>\n",
       "      <td>-0.030128</td>\n",
       "      <td>-22.519411</td>\n",
       "      <td>1.993542</td>\n",
       "      <td>0.835452</td>\n",
       "      <td>-1.433590</td>\n",
       "      <td>0.0</td>\n",
       "    </tr>\n",
       "    <tr>\n",
       "      <th>4</th>\n",
       "      <td>-0.001914</td>\n",
       "      <td>-22.541300</td>\n",
       "      <td>0.288972</td>\n",
       "      <td>0.916353</td>\n",
       "      <td>-0.274592</td>\n",
       "      <td>0.0</td>\n",
       "    </tr>\n",
       "    <tr>\n",
       "      <th>...</th>\n",
       "      <td>...</td>\n",
       "      <td>...</td>\n",
       "      <td>...</td>\n",
       "      <td>...</td>\n",
       "      <td>...</td>\n",
       "      <td>...</td>\n",
       "    </tr>\n",
       "    <tr>\n",
       "      <th>67</th>\n",
       "      <td>0.005083</td>\n",
       "      <td>3.834244</td>\n",
       "      <td>-2.363231</td>\n",
       "      <td>0.801376</td>\n",
       "      <td>-0.976419</td>\n",
       "      <td>2.0</td>\n",
       "    </tr>\n",
       "    <tr>\n",
       "      <th>68</th>\n",
       "      <td>0.016408</td>\n",
       "      <td>59.312527</td>\n",
       "      <td>1.685628</td>\n",
       "      <td>2.439966</td>\n",
       "      <td>-0.836265</td>\n",
       "      <td>3.0</td>\n",
       "    </tr>\n",
       "    <tr>\n",
       "      <th>69</th>\n",
       "      <td>-0.074785</td>\n",
       "      <td>59.254513</td>\n",
       "      <td>1.079694</td>\n",
       "      <td>1.381377</td>\n",
       "      <td>-1.826155</td>\n",
       "      <td>3.0</td>\n",
       "    </tr>\n",
       "    <tr>\n",
       "      <th>70</th>\n",
       "      <td>-0.046163</td>\n",
       "      <td>72.341583</td>\n",
       "      <td>0.096143</td>\n",
       "      <td>2.455612</td>\n",
       "      <td>-1.257196</td>\n",
       "      <td>4.0</td>\n",
       "    </tr>\n",
       "    <tr>\n",
       "      <th>71</th>\n",
       "      <td>-0.036685</td>\n",
       "      <td>72.360649</td>\n",
       "      <td>-0.132347</td>\n",
       "      <td>1.584137</td>\n",
       "      <td>1.660338</td>\n",
       "      <td>4.0</td>\n",
       "    </tr>\n",
       "  </tbody>\n",
       "</table>\n",
       "<p>72 rows × 6 columns</p>\n",
       "</div>"
      ],
      "text/plain": [
       "     reco d0    reco z0  reco phi  reco theta   reco qp  reco vtxid\n",
       "0  -0.038274 -22.535131  2.583022    0.915395 -0.616165         0.0\n",
       "1   0.009521 -22.696026 -0.258679    0.458266  0.444157         0.0\n",
       "2  -0.088092 -22.692131  0.050467    0.326066  0.314584         0.0\n",
       "3  -0.030128 -22.519411  1.993542    0.835452 -1.433590         0.0\n",
       "4  -0.001914 -22.541300  0.288972    0.916353 -0.274592         0.0\n",
       "..       ...        ...       ...         ...       ...         ...\n",
       "67  0.005083   3.834244 -2.363231    0.801376 -0.976419         2.0\n",
       "68  0.016408  59.312527  1.685628    2.439966 -0.836265         3.0\n",
       "69 -0.074785  59.254513  1.079694    1.381377 -1.826155         3.0\n",
       "70 -0.046163  72.341583  0.096143    2.455612 -1.257196         4.0\n",
       "71 -0.036685  72.360649 -0.132347    1.584137  1.660338         4.0\n",
       "\n",
       "[72 rows x 6 columns]"
      ]
     },
     "execution_count": 8,
     "metadata": {},
     "output_type": "execute_result"
    }
   ],
   "source": [
    "i = 3\n",
    "reco_trk_info_tmp = np.vstack([reco_d0[i], reco_z0[i], reco_phi[i], reco_theta[i], reco_qp[i], reco_trk_vtxid[i]]).transpose()\n",
    "pd.DataFrame(reco_trk_info_tmp, columns=['reco d0', 'reco z0', 'reco phi', 'reco theta', 'reco qp', 'reco vtxid'])"
   ]
  },
  {
   "cell_type": "code",
   "execution_count": 9,
   "metadata": {},
   "outputs": [
    {
     "ename": "IndexError",
     "evalue": "index 74 is out of bounds for axis 0 with size 72",
     "output_type": "error",
     "traceback": [
      "\u001b[0;31m---------------------------------------------------------------------------\u001b[0m",
      "\u001b[0;31mIndexError\u001b[0m                                Traceback (most recent call last)",
      "\u001b[0;32m/tmp/ipykernel_41/2788732878.py\u001b[0m in \u001b[0;36m<module>\u001b[0;34m\u001b[0m\n\u001b[0;32m----> 1\u001b[0;31m \u001b[0mreco_new\u001b[0m \u001b[0;34m=\u001b[0m \u001b[0;34m[\u001b[0m\u001b[0mreco_trk_info_tmp\u001b[0m\u001b[0;34m[\u001b[0m\u001b[0ma\u001b[0m\u001b[0;34m]\u001b[0m \u001b[0;32mfor\u001b[0m \u001b[0ma\u001b[0m\u001b[0;34m,\u001b[0m \u001b[0mval\u001b[0m \u001b[0;32min\u001b[0m \u001b[0menumerate\u001b[0m\u001b[0;34m(\u001b[0m\u001b[0mtruth_z0\u001b[0m\u001b[0;34m[\u001b[0m\u001b[0mi\u001b[0m\u001b[0;34m]\u001b[0m\u001b[0;34m)\u001b[0m \u001b[0;32mif\u001b[0m \u001b[0mval\u001b[0m \u001b[0;32min\u001b[0m \u001b[0mreco_z0\u001b[0m\u001b[0;34m[\u001b[0m\u001b[0mi\u001b[0m\u001b[0;34m]\u001b[0m\u001b[0;34m]\u001b[0m\u001b[0;34m\u001b[0m\u001b[0;34m\u001b[0m\u001b[0m\n\u001b[0m\u001b[1;32m      2\u001b[0m \u001b[0mpd\u001b[0m\u001b[0;34m.\u001b[0m\u001b[0mDataFrame\u001b[0m\u001b[0;34m(\u001b[0m\u001b[0mreco_new\u001b[0m\u001b[0;34m,\u001b[0m \u001b[0mcolumns\u001b[0m\u001b[0;34m=\u001b[0m\u001b[0;34m[\u001b[0m\u001b[0;34m'reco d0'\u001b[0m\u001b[0;34m,\u001b[0m \u001b[0;34m'reco z0'\u001b[0m\u001b[0;34m,\u001b[0m \u001b[0;34m'reco phi'\u001b[0m\u001b[0;34m,\u001b[0m \u001b[0;34m'reco theta'\u001b[0m\u001b[0;34m,\u001b[0m \u001b[0;34m'reco qp'\u001b[0m\u001b[0;34m,\u001b[0m \u001b[0;34m'reco vtxid'\u001b[0m\u001b[0;34m]\u001b[0m\u001b[0;34m)\u001b[0m\u001b[0;34m\u001b[0m\u001b[0;34m\u001b[0m\u001b[0m\n",
      "\u001b[0;32m/tmp/ipykernel_41/2788732878.py\u001b[0m in \u001b[0;36m<listcomp>\u001b[0;34m(.0)\u001b[0m\n\u001b[0;32m----> 1\u001b[0;31m \u001b[0mreco_new\u001b[0m \u001b[0;34m=\u001b[0m \u001b[0;34m[\u001b[0m\u001b[0mreco_trk_info_tmp\u001b[0m\u001b[0;34m[\u001b[0m\u001b[0ma\u001b[0m\u001b[0;34m]\u001b[0m \u001b[0;32mfor\u001b[0m \u001b[0ma\u001b[0m\u001b[0;34m,\u001b[0m \u001b[0mval\u001b[0m \u001b[0;32min\u001b[0m \u001b[0menumerate\u001b[0m\u001b[0;34m(\u001b[0m\u001b[0mtruth_z0\u001b[0m\u001b[0;34m[\u001b[0m\u001b[0mi\u001b[0m\u001b[0;34m]\u001b[0m\u001b[0;34m)\u001b[0m \u001b[0;32mif\u001b[0m \u001b[0mval\u001b[0m \u001b[0;32min\u001b[0m \u001b[0mreco_z0\u001b[0m\u001b[0;34m[\u001b[0m\u001b[0mi\u001b[0m\u001b[0;34m]\u001b[0m\u001b[0;34m]\u001b[0m\u001b[0;34m\u001b[0m\u001b[0;34m\u001b[0m\u001b[0m\n\u001b[0m\u001b[1;32m      2\u001b[0m \u001b[0mpd\u001b[0m\u001b[0;34m.\u001b[0m\u001b[0mDataFrame\u001b[0m\u001b[0;34m(\u001b[0m\u001b[0mreco_new\u001b[0m\u001b[0;34m,\u001b[0m \u001b[0mcolumns\u001b[0m\u001b[0;34m=\u001b[0m\u001b[0;34m[\u001b[0m\u001b[0;34m'reco d0'\u001b[0m\u001b[0;34m,\u001b[0m \u001b[0;34m'reco z0'\u001b[0m\u001b[0;34m,\u001b[0m \u001b[0;34m'reco phi'\u001b[0m\u001b[0;34m,\u001b[0m \u001b[0;34m'reco theta'\u001b[0m\u001b[0;34m,\u001b[0m \u001b[0;34m'reco qp'\u001b[0m\u001b[0;34m,\u001b[0m \u001b[0;34m'reco vtxid'\u001b[0m\u001b[0;34m]\u001b[0m\u001b[0;34m)\u001b[0m\u001b[0;34m\u001b[0m\u001b[0;34m\u001b[0m\u001b[0m\n",
      "\u001b[0;31mIndexError\u001b[0m: index 74 is out of bounds for axis 0 with size 72"
     ]
    }
   ],
   "source": [
    "reco_new = [reco_trk_info_tmp[a] for a, val in enumerate(truth_z0[i]) if val in reco_z0[i]]\n",
    "pd.DataFrame(reco_new, columns=['reco d0', 'reco z0', 'reco phi', 'reco theta', 'reco qp', 'reco vtxid'])"
   ]
  },
  {
   "cell_type": "code",
   "execution_count": null,
   "metadata": {},
   "outputs": [],
   "source": []
  },
  {
   "cell_type": "markdown",
   "metadata": {},
   "source": [
    "### Testing if reconstructed tracks from AMVF are assigned to multiple vertices."
   ]
  },
  {
   "cell_type": "code",
   "execution_count": 10,
   "metadata": {},
   "outputs": [
    {
     "name": "stderr",
     "output_type": "stream",
     "text": [
      "  0%|                                                                                                                               | 0/10000 [00:00<?, ?it/s]"
     ]
    },
    {
     "name": "stdout",
     "output_type": "stream",
     "text": [
      "In event 0: reco_trk_z0 : [46.52651215 46.46850204 46.58597946 46.48980713 46.52893829 46.50936508\n",
      " 46.61397552 46.53812027 46.57664871 46.46896744 46.48858261 46.50208282\n",
      " 46.52526855 46.55373383 46.49526215 46.58197784 46.47634506 46.53853226\n",
      " 46.18807602 46.0799408  46.22522354 45.80142212 46.45804977 46.55991364\n",
      " 46.43391037 46.29047775 46.48677444 46.39379501 46.54808426 45.51962662\n",
      " 46.20796967 46.54545212 46.51046371 46.37291336 46.47352219 46.41308594\n",
      " 46.37277603 46.49201584 46.48981094 46.54244614 46.49445724 46.14766693\n",
      " 46.43787384 46.53528976 46.5318222  46.48994446 46.29901886 46.60843277\n",
      " 46.84693527 46.52627182 46.46850204 46.48858261 45.95167542 45.92295456\n",
      " 46.18807602 46.0799408  45.81942368 45.82003403 45.65630341 46.22522354\n",
      " 45.71411514 45.80142212 46.43391037 46.29047775 45.66014481 46.39379501\n",
      " 45.51962662 46.20796967 46.54545212 45.85746002 45.87925339 46.41308594\n",
      " 46.37277603 46.14766693 46.43787384 46.84693527 46.52627182 90.91513824\n",
      " 91.76917267 91.69986725 91.46136475]\n",
      "repeated: [46.468502044677734, 46.488582611083984, 46.18807601928711, 46.07994079589844, 46.225223541259766, 45.801422119140625, 46.43391036987305, 46.29047775268555, 46.393795013427734, 45.51962661743164, 46.207969665527344, 46.54545211791992, 46.4130859375, 46.37277603149414, 46.147666931152344, 46.43787384033203, 46.8469352722168, 46.52627182006836]\n"
     ]
    },
    {
     "name": "stderr",
     "output_type": "stream",
     "text": [
      "\n"
     ]
    }
   ],
   "source": [
    "repeat = []\n",
    "for i in tqdm(range(event_size)):\n",
    "    TF = len(reco_z0[i]) != len(set(reco_z0[i]))\n",
    "    if TF == True:\n",
    "        repeat.append(i)\n",
    "        a = reco_z0[i]\n",
    "        print(f'In event {i}: reco_trk_z0 : {reco_z0[i]}')\n",
    "        print('repeated:', [x for n, x in enumerate(a) if x in a[:n]])\n",
    "        break\n",
    "#print(f'Number of events that has repeating track parameter: {len(repeat)}')"
   ]
  },
  {
   "cell_type": "code",
   "execution_count": 11,
   "metadata": {},
   "outputs": [
    {
     "name": "stderr",
     "output_type": "stream",
     "text": [
      "  4%|█████                                                                                                               | 437/10000 [00:03<01:31, 104.24it/s]"
     ]
    },
    {
     "name": "stdout",
     "output_type": "stream",
     "text": [
      "In Event 417 in Vertex 6 weird reco track weight: [0. 0. 0.]\n",
      "In Event 417 in Vertex 6 weird reco track weight: [0. 0. 0.]\n",
      "In Event 417 in Vertex 6 weird reco track weight: [0. 0. 0.]\n",
      "In Event 417 in Vertex 6 weird reco track weight: [0. 0. 0.]\n",
      "In Event 417 in Vertex 6 weird reco track weight: [0. 0. 0.]\n",
      "In Event 417 in Vertex 6 weird reco track weight: [0. 0. 0.]\n",
      "In Event 417 in Vertex 6 weird reco track weight: [0. 0. 0.]\n",
      "In Event 417 in Vertex 6 weird reco track weight: [0. 0. 0.]\n"
     ]
    },
    {
     "name": "stderr",
     "output_type": "stream",
     "text": [
      " 15%|████████████████▊                                                                                                  | 1466/10000 [00:12<01:18, 109.30it/s]"
     ]
    },
    {
     "name": "stdout",
     "output_type": "stream",
     "text": [
      "In Event 1447 in Vertex 7 weird reco track weight: [0. 0. 0.]\n",
      "In Event 1447 in Vertex 7 weird reco track weight: [0. 0. 0.]\n",
      "In Event 1447 in Vertex 7 weird reco track weight: [0. 0. 0.]\n",
      "In Event 1447 in Vertex 7 weird reco track weight: [0. 0. 0.]\n",
      "In Event 1447 in Vertex 7 weird reco track weight: [0. 0. 0.]\n",
      "In Event 1447 in Vertex 7 weird reco track weight: [0. 0. 0.]\n",
      "In Event 1447 in Vertex 7 weird reco track weight: [0. 0. 0.]\n",
      "In Event 1447 in Vertex 7 weird reco track weight: [0. 0. 0.]\n"
     ]
    },
    {
     "name": "stderr",
     "output_type": "stream",
     "text": [
      " 22%|████████████████████████▊                                                                                          | 2161/10000 [00:19<01:16, 102.19it/s]"
     ]
    },
    {
     "name": "stdout",
     "output_type": "stream",
     "text": [
      "In Event 2148 in Vertex 7 weird reco track weight: [0. 0. 0.]\n",
      "In Event 2148 in Vertex 7 weird reco track weight: [0. 0. 0.]\n",
      "In Event 2148 in Vertex 7 weird reco track weight: [0. 0. 0.]\n",
      "In Event 2148 in Vertex 7 weird reco track weight: [0. 0. 0.]\n",
      "In Event 2148 in Vertex 7 weird reco track weight: [0. 0. 0.]\n",
      "In Event 2148 in Vertex 7 weird reco track weight: [0. 0. 0.]\n",
      "In Event 2148 in Vertex 7 weird reco track weight: [0. 0. 0.]\n",
      "In Event 2148 in Vertex 7 weird reco track weight: [0. 0. 0.]\n",
      "In Event 2148 in Vertex 7 weird reco track weight: [0. 0. 0.]\n"
     ]
    },
    {
     "name": "stderr",
     "output_type": "stream",
     "text": [
      " 34%|███████████████████████████████████████▍                                                                            | 3397/10000 [00:30<01:11, 92.69it/s]"
     ]
    },
    {
     "name": "stdout",
     "output_type": "stream",
     "text": [
      "In Event 3369 in Vertex 6 weird reco track weight: [0. 0. 0. 0.]\n",
      "In Event 3369 in Vertex 6 weird reco track weight: [0. 0. 0. 0.]\n",
      "In Event 3369 in Vertex 6 weird reco track weight: [0. 0. 0. 0.]\n",
      "In Event 3369 in Vertex 6 weird reco track weight: [0. 0. 0. 0.]\n",
      "In Event 3369 in Vertex 6 weird reco track weight: [0. 0. 0. 0.]\n",
      "In Event 3369 in Vertex 6 weird reco track weight: [0. 0. 0. 0.]\n",
      "In Event 3369 in Vertex 6 weird reco track weight: [0. 0. 0. 0.]\n"
     ]
    },
    {
     "name": "stderr",
     "output_type": "stream",
     "text": [
      " 58%|███████████████████████████████████████████████████████████████████▊                                                | 5845/10000 [00:51<00:44, 93.81it/s]"
     ]
    },
    {
     "name": "stdout",
     "output_type": "stream",
     "text": [
      "In Event 5817 in Vertex 1 weird reco track weight: [0. 0. 0. 0. 0. 0. 0. 0. 0. 0. 0. 0. 0. 0. 0. 0. 0. 0. 0. 0. 0. 0. 0. 0.\n",
      " 0.]\n",
      "In Event 5817 in Vertex 1 weird reco track weight: [0. 0. 0. 0. 0. 0. 0. 0. 0. 0. 0. 0. 0. 0. 0. 0. 0. 0. 0. 0. 0. 0. 0. 0.\n",
      " 0.]\n",
      "In Event 5817 in Vertex 1 weird reco track weight: [0. 0. 0. 0. 0. 0. 0. 0. 0. 0. 0. 0. 0. 0. 0. 0. 0. 0. 0. 0. 0. 0. 0. 0.\n",
      " 0.]\n",
      "In Event 5817 in Vertex 1 weird reco track weight: [0. 0. 0. 0. 0. 0. 0. 0. 0. 0. 0. 0. 0. 0. 0. 0. 0. 0. 0. 0. 0. 0. 0. 0.\n",
      " 0.]\n",
      "In Event 5817 in Vertex 1 weird reco track weight: [0. 0. 0. 0. 0. 0. 0. 0. 0. 0. 0. 0. 0. 0. 0. 0. 0. 0. 0. 0. 0. 0. 0. 0.\n",
      " 0.]\n",
      "In Event 5817 in Vertex 1 weird reco track weight: [0. 0. 0. 0. 0. 0. 0. 0. 0. 0. 0. 0. 0. 0. 0. 0. 0. 0. 0. 0. 0. 0. 0. 0.\n",
      " 0.]\n",
      "In Event 5817 in Vertex 1 weird reco track weight: [0. 0. 0. 0. 0. 0. 0. 0. 0. 0. 0. 0. 0. 0. 0. 0. 0. 0. 0. 0. 0. 0. 0. 0.\n",
      " 0.]\n",
      "In Event 5817 in Vertex 1 weird reco track weight: [0. 0. 0. 0. 0. 0. 0. 0. 0. 0. 0. 0. 0. 0. 0. 0. 0. 0. 0. 0. 0. 0. 0. 0.\n",
      " 0.]\n",
      "In Event 5817 in Vertex 1 weird reco track weight: [0. 0. 0. 0. 0. 0. 0. 0. 0. 0. 0. 0. 0. 0. 0. 0. 0. 0. 0. 0. 0. 0. 0. 0.\n",
      " 0.]\n",
      "In Event 5817 in Vertex 1 weird reco track weight: [0. 0. 0. 0. 0. 0. 0. 0. 0. 0. 0. 0. 0. 0. 0. 0. 0. 0. 0. 0. 0. 0. 0. 0.\n",
      " 0.]\n"
     ]
    },
    {
     "name": "stderr",
     "output_type": "stream",
     "text": [
      " 60%|████████████████████████████████████████████████████████████████████▊                                              | 5984/10000 [00:52<00:34, 116.74it/s]"
     ]
    },
    {
     "name": "stdout",
     "output_type": "stream",
     "text": [
      "In Event 5949 in Vertex 3 weird reco track weight: [0. 0. 0. 0. 0. 0. 0. 0. 0. 0. 0. 0. 0. 0. 0. 0.]\n",
      "In Event 5949 in Vertex 3 weird reco track weight: [0. 0. 0. 0. 0. 0. 0. 0. 0. 0. 0. 0. 0. 0. 0. 0.]\n",
      "In Event 5949 in Vertex 3 weird reco track weight: [0. 0. 0. 0. 0. 0. 0. 0. 0. 0. 0. 0. 0. 0. 0. 0.]\n",
      "In Event 5949 in Vertex 3 weird reco track weight: [0. 0. 0. 0. 0. 0. 0. 0. 0. 0. 0. 0. 0. 0. 0. 0.]\n",
      "In Event 5949 in Vertex 3 weird reco track weight: [0. 0. 0. 0. 0. 0. 0. 0. 0. 0. 0. 0. 0. 0. 0. 0.]\n",
      "In Event 5949 in Vertex 3 weird reco track weight: [0. 0. 0. 0. 0. 0. 0. 0. 0. 0. 0. 0. 0. 0. 0. 0.]\n",
      "In Event 5949 in Vertex 3 weird reco track weight: [0. 0. 0. 0. 0. 0. 0. 0. 0. 0. 0. 0. 0. 0. 0. 0.]\n"
     ]
    },
    {
     "name": "stderr",
     "output_type": "stream",
     "text": [
      " 70%|████████████████████████████████████████████████████████████████████████████████▍                                  | 6990/10000 [01:02<00:27, 109.41it/s]"
     ]
    },
    {
     "name": "stdout",
     "output_type": "stream",
     "text": [
      "In Event 6977 in Vertex 6 weird reco track weight: [0. 0. 0.]\n",
      "In Event 6977 in Vertex 6 weird reco track weight: [0. 0. 0.]\n",
      "In Event 6977 in Vertex 6 weird reco track weight: [0. 0. 0.]\n",
      "In Event 6977 in Vertex 6 weird reco track weight: [0. 0. 0.]\n",
      "In Event 6977 in Vertex 6 weird reco track weight: [0. 0. 0.]\n",
      "In Event 6977 in Vertex 6 weird reco track weight: [0. 0. 0.]\n",
      "In Event 6977 in Vertex 6 weird reco track weight: [0. 0. 0.]\n"
     ]
    },
    {
     "name": "stderr",
     "output_type": "stream",
     "text": [
      " 97%|███████████████████████████████████████████████████████████████████████████████████████████████████████████████    | 9656/10000 [01:27<00:02, 122.77it/s]"
     ]
    },
    {
     "name": "stdout",
     "output_type": "stream",
     "text": [
      "In Event 9629 in Vertex 5 weird reco track weight: [0. 0. 0. 0. 0.]\n",
      "In Event 9629 in Vertex 5 weird reco track weight: [0. 0. 0. 0. 0.]\n",
      "In Event 9629 in Vertex 5 weird reco track weight: [0. 0. 0. 0. 0.]\n",
      "In Event 9629 in Vertex 5 weird reco track weight: [0. 0. 0. 0. 0.]\n",
      "In Event 9629 in Vertex 5 weird reco track weight: [0. 0. 0. 0. 0.]\n",
      "In Event 9629 in Vertex 5 weird reco track weight: [0. 0. 0. 0. 0.]\n"
     ]
    },
    {
     "name": "stderr",
     "output_type": "stream",
     "text": [
      "100%|██████████████████████████████████████████████████████████████████████████████████████████████████████████████████| 10000/10000 [01:30<00:00, 110.28it/s]\n"
     ]
    }
   ],
   "source": [
    "# define variables\n",
    "import warnings\n",
    "warnings.filterwarnings('error')\n",
    "truth_match_matrix = []\n",
    "\n",
    "for i in tqdm(range(event_size)):\n",
    "    reco_z0_i, truth_z0_i, reco_trkweight_i = reco_trk_z0[i], truth_trk_z0[i], reco_trkweight[i]\n",
    "    match_matrix = np.zeros((len(reco_z0_i), len(truth_z0_i)))\n",
    "    for j in range(len(reco_z0_i)):\n",
    "        for k in range(len(truth_z0_i)):\n",
    "            try:\n",
    "                match_matrix[j, k] = np.sum([reco_trkweight_i[j][a] for a, val in enumerate(reco_z0_i[j]) if val in truth_z0_i[k]]) / np.sum([reco_trkweight_i[j]])                                                                                                                     \n",
    "            except Warning:\n",
    "                print(f'In Event {i} in Vertex {j} weird reco track weight: {reco_trkweight_i[j]}')\n",
    "                pass\n",
    "    truth_match_matrix.append(match_matrix)\n",
    "    "
   ]
  },
  {
   "cell_type": "code",
   "execution_count": 12,
   "metadata": {},
   "outputs": [
    {
     "name": "stdout",
     "output_type": "stream",
     "text": [
      "mean_event= 0.9999994054025306\n",
      "standard deviation_event= 5.934602163756372e-05\n"
     ]
    },
    {
     "data": {
      "image/png": "[encoded data removed]",
      "text/plain": [
       "<Figure size 432x288 with 1 Axes>"
      ]
     },
     "metadata": {
      "needs_background": "light"
     },
     "output_type": "display_data"
    },
    {
     "data": {
      "image/png": "[encoded data removed]",
      "text/plain": [
       "<Figure size 432x288 with 1 Axes>"
      ]
     },
     "metadata": {
      "needs_background": "light"
     },
     "output_type": "display_data"
    }
   ],
   "source": [
    "# plotting \n",
    "fig_vtx, ax_vtx = plt.subplots()\n",
    "fig_event, ax_event = plt.subplots()\n",
    "\n",
    "m_event, m_vtx = [], []\n",
    "for i in range(len(truth_match_matrix)):\n",
    "    m_event.append(np.amax(truth_match_matrix[i]))\n",
    "    for j in range(len(truth_match_matrix[i])):\n",
    "        m_vtx.append(max(truth_match_matrix[i][j]))\n",
    "        \n",
    "(mean, stadev) = norm.fit(m_event)\n",
    "print('mean_event=', mean)\n",
    "print('standard deviation_event=', stadev)\n",
    "bin = np.linspace(0, 1, 101)\n",
    "ax_event.hist(m_event, bins=bin, color='green', histtype='step', label='number of vertex')\n",
    "ax_vtx.hist(m_vtx, bins=bin, color='green', histtype='step')\n",
    "\n",
    "ax_event.set_title('Truth Matching Fraction (maximum in one event)')\n",
    "ax_vtx.set_title('Truth Matching Fraction (all vertex fractions)')\n",
    "\n",
    "ax_event.set_xlabel(\"Truth Matching Fraction per Vertex\")\n",
    "ax_event.set_ylabel(\"entries\")\n",
    "\n",
    "ax_vtx.set_xlabel(\"Truth Matching Fraction per Vertex\")\n",
    "ax_vtx.set_ylabel(\"entries\")\n",
    "\n",
    "plt.show()\n"
   ]
  },
  {
   "cell_type": "code",
   "execution_count": null,
   "metadata": {},
   "outputs": [],
   "source": []
  },
  {
   "cell_type": "markdown",
   "metadata": {},
   "source": [
    "## Vertex Classification\n",
    " - CLEAN: At least 70% of the total track weight in the reconstructed vertex originates from a single simulated pp interaction.\n",
    " - MERGED: Less than 70% of the total track weight in the reconstructed vertex originates from any single simulated pp interaction. Hence, two or more simulated interactions contribute significantly to the accumulated track weight.\n",
    " - SPLIT: A single simulated pp interaction contributes the largest track weight to two or more reconstructed vertices. The reconstructed vertex with the largest track pt^2 is classed as either CLEAN or MERGED, whilst the other(s) are labelled SPLIT.\n",
    " - FAKE: Fake tracks contribute more weight to the reconstructed vertex than any simulated pp interaction. \n",
    "\n",
    "## Event Classification\n",
    " - CLEAN/MATCHED: the event contains a CLEAN reconstructed vertex originating from the true HS interaction, and the HS interaction does not contribute more than 50% of the accumulated track weight to any other vertex. \n",
    " - LOWPU (low pile-up): the event contains a MERGED vertex with at least 50% of the accumulated track weight coming from the simulated HS interaction.\n",
    " - HIGHPU (high pile-up): the event contains a MERGED vertex with its main contribution coming from a simulated pile-up interaction, and in which the HS interaction contributes between 1% and 50% of the accumulated track weight. \n",
    " - PUREPU (pure pile-up): the event does not contain any reconstructed vertex with at least 1% accumulated track weight from the HS interaction."
   ]
  },
  {
   "cell_type": "code",
   "execution_count": 16,
   "metadata": {},
   "outputs": [
    {
     "ename": "SyntaxError",
     "evalue": "invalid syntax (959274756.py, line 13)",
     "output_type": "error",
     "traceback": [
      "\u001b[0;36m  File \u001b[0;32m\"/tmp/ipykernel_43/959274756.py\"\u001b[0;36m, line \u001b[0;32m13\u001b[0m\n\u001b[0;31m    elif TruthMatchFraction_vtx < 0.7 and\u001b[0m\n\u001b[0m                                          ^\u001b[0m\n\u001b[0;31mSyntaxError\u001b[0m\u001b[0;31m:\u001b[0m invalid syntax\n"
     ]
    }
   ],
   "source": [
    "m = []\n",
    "clean, merged, split, fake = 0, 0, 0, 0\n",
    "matched, high_pu, low_pu, pure_pu = 0, 0, 0, 0\n",
    "fake = 0 # tested in below cells\n",
    "reco_num_vtx_total = np.sum(num_vtx_reco)\n",
    "for i in range(1):\n",
    "    for j in range(len(truth_match_matrix[i])):\n",
    "        TruthMatchFraction_vtx = max(truth_match_matrix[i][j])\n",
    "        if TruthMatchFraction_vtx >= 0.7:\n",
    "            clean += 1\n",
    "            if np.sum(reco_HStrkweight[i]) / np.sum(reco_trk_trkweight[i]) <= 0.5:\n",
    "                matched += 1\n",
    "        elif TruthMatchFraction_vtx < 0.7 and \n",
    "            merged += 1\n",
    "            if np.sum(reco_HStrkweight[i]) / np.sum(reco_trk_trkweight[i]) > 0.5:\n",
    "                high_pu += 1\n",
    "            elif 0.01 < np.sum(reco_HStrkweight[i]) / np.sum(reco_trk_trkweight[i]) <= 0.5:\n",
    "                low_pu += 1\n",
    "        elif TruthMatchFraction_vtx < 0.7 and \n",
    "            split += 1\n",
    "        if trk_weight_sum_reco[l][vtx_id_reco[l]]/sum(trk_weight_sum_reco[l]) < 0.01:\n",
    "            pure_pu += 1\n",
    "        clean += len([i for i in fraction if i >= 0.7])\n",
    "        split += len([i for i in fraction if i < 0.7])\n",
    "\n",
    "        \n",
    "print('clean:', clean)\n",
    "print('merged:', merged)\n",
    "print('split:', split)\n",
    "print('checking total input of reconstructed vertices:', num_vtx_input_check)\n",
    "\n",
    "data = {'clean': clean/reco_num_vtx_total, 'merged': merged/reco_num_vtx_total, 'split': split/reco_num_vtx_total, 'fake': fake/reco_num_vtx_total}\n",
    "pu = list(data.keys())\n",
    "fra = list(data.values())\n",
    "plt.bar(pu, fra, fill=False, edgecolor='g', width=0.5)\n",
    "plt.xlabel('Event Type', fontsize=10)\n",
    "plt.ylabel('Fraction of Vertices', fontsize=10)\n",
    "plt.title(\"Fraction of Vertices in each vertex reconstruction category for AMVF\", fontsize=12)\n",
    "plt.show()"
   ]
  },
  {
   "cell_type": "markdown",
   "metadata": {
    "tags": []
   },
   "source": [
    "## Reconstruction & Selection Efficiency\n",
    "#### To successfully reconstruct a HS, 1 test is done:  `|reco(max(associated number of tracks)) - truth_HS| < 0.1 mm`\n",
    " \n",
    "#### To successfully selection, 1 test is done: `Reconstructed Vertex with max(PT^2) = [max(associated number of tracks) - HS <= 0.1]`\n",
    " \n",
    "#### Local pile-up density: `local pile-up density near a vertex, defined as the number of generated vertices per unit length within a symmetrical ±2 mm longitudinal window`"
   ]
  },
  {
   "cell_type": "code",
   "execution_count": 17,
   "metadata": {},
   "outputs": [],
   "source": [
    "def dist_cal(list1, list2):\n",
    "    dist = np.sqrt((list1[0]-list2[0])**2 + (list1[1]-list2[1])**2 + (list1[2]-list2[2])**2)\n",
    "    return dist\n",
    "    \n",
    "def array_row_intersection(a,b):\n",
    "    tmp=np.prod(np.swapaxes(a[:,:,None],1,2)==b,axis=2)\n",
    "    return a[np.sum(np.cumsum(tmp,axis=0)*tmp==1,axis=1).astype(bool)]"
   ]
  },
  {
   "cell_type": "code",
   "execution_count": 19,
   "metadata": {},
   "outputs": [
    {
     "name": "stdout",
     "output_type": "stream",
     "text": [
      "True 0.0\n"
     ]
    },
    {
     "ename": "ValueError",
     "evalue": "void TEfficiency::Fill(bool bPassed, double x, double y = 0, double z = 0) =>\n    ValueError: could not convert argument 1 (boolean value should be bool, or integer 1 or 0)",
     "output_type": "error",
     "traceback": [
      "\u001b[0;31m---------------------------------------------------------------------------\u001b[0m",
      "\u001b[0;31mValueError\u001b[0m                                Traceback (most recent call last)",
      "\u001b[0;32m/tmp/ipykernel_43/201715627.py\u001b[0m in \u001b[0;36m<module>\u001b[0;34m\u001b[0m\n\u001b[1;32m     35\u001b[0m     \u001b[0mprint\u001b[0m\u001b[0;34m(\u001b[0m\u001b[0mReco\u001b[0m\u001b[0;34m,\u001b[0m \u001b[0mlocalPUDensity_i\u001b[0m\u001b[0;34m)\u001b[0m\u001b[0;34m\u001b[0m\u001b[0;34m\u001b[0m\u001b[0m\n\u001b[1;32m     36\u001b[0m     \u001b[0mSel\u001b[0m \u001b[0;34m=\u001b[0m \u001b[0mbestRecoHSvtx_truth\u001b[0m \u001b[0;34m==\u001b[0m \u001b[0mreco_HSvtx_i\u001b[0m\u001b[0;34m\u001b[0m\u001b[0;34m\u001b[0m\u001b[0m\n\u001b[0;32m---> 37\u001b[0;31m     \u001b[0mTEff_Reco\u001b[0m\u001b[0;34m.\u001b[0m\u001b[0mFill\u001b[0m\u001b[0;34m(\u001b[0m\u001b[0mReco\u001b[0m\u001b[0;34m,\u001b[0m \u001b[0mlocalPUDensity_i\u001b[0m\u001b[0;34m)\u001b[0m\u001b[0;34m\u001b[0m\u001b[0;34m\u001b[0m\u001b[0m\n\u001b[0m\u001b[1;32m     38\u001b[0m     \u001b[0mTEff_Sel\u001b[0m\u001b[0;34m.\u001b[0m\u001b[0mFill\u001b[0m\u001b[0;34m(\u001b[0m\u001b[0mReco\u001b[0m \u001b[0;32mand\u001b[0m \u001b[0mSel\u001b[0m\u001b[0;34m,\u001b[0m \u001b[0mlocalPUDensity_i\u001b[0m\u001b[0;34m)\u001b[0m\u001b[0;34m\u001b[0m\u001b[0;34m\u001b[0m\u001b[0m\n\u001b[1;32m     39\u001b[0m \u001b[0;34m\u001b[0m\u001b[0m\n",
      "\u001b[0;31mValueError\u001b[0m: void TEfficiency::Fill(bool bPassed, double x, double y = 0, double z = 0) =>\n    ValueError: could not convert argument 1 (boolean value should be bool, or integer 1 or 0)"
     ]
    },
    {
     "name": "stderr",
     "output_type": "stream",
     "text": [
      "Warning in <TCanvas::Constructor>: Deleting canvas with same name: fillhist\n"
     ]
    }
   ],
   "source": [
    "time_start = time.time()\n",
    "c = ROOT.TCanvas(\"fillhist\", \"title1\", 2400, 2400)\n",
    "TEff_Reco = ROOT.TEfficiency(\"eff\", \"HS vertex reconstuction efficiency;Local PU density;HS vertex reconstruction efficiency\", 4, 0, 1)\n",
    "TEff_Sel = ROOT.TEfficiency(\"eff\", \"HS vertex selection efficiency;Local PU density;HS vertex reconstruction efficiency\", 4, 0, 1)\n",
    "Long_Reso = ROOT.TEfficiency(\"reso\", \"HS longitudinal resolution; Local PU density; longitudinal resolution [mm]\", 4, 0, 1)\n",
    "Tran_Reso = ROOT.TEfficiency(\"reso\", \"HS transverse resolution; Local PU density; transverse resolution [mm]\", 4, 0, 1)\n",
    "\n",
    "long_window = 2\n",
    "for i in range(event_size):\n",
    "    \n",
    "    # Prepare the data\n",
    "    truth_vtx_i, truth_HSvtx_i, truth_HStrk_i = truth_vtx_info[i], truth_HSvtx[i], truth_HStrk[i]\n",
    "    reco_vtx_i, reco_trk_i, reco_HSvtx_i = reco_vtx_info[i], reco_trk_info[i], reco_HSvtx[i]\n",
    "    \n",
    "    # localPUDensity\n",
    "    long_dist = truth_vz[i]\n",
    "    long_dist = [np.abs(a-long_dist[0]) for a in long_dist[1:]] \n",
    "    nVtxInWindow = len([a for a in long_dist if a < long_window]) \n",
    "        \n",
    "    localPUDensity_i = nVtxInWindow/(long_window * 2)\n",
    "    \n",
    "    #Reco Test\n",
    "    num_trk_associated = []\n",
    "\n",
    "    for k in range(len(reco_trk_i)):\n",
    "        # trk_common = [a for a in trk_reco[i][j] if a in trk_truth[i][j]]\n",
    "        num_trk_associated.append(len(array_row_intersection(truth_HStrk_i, reco_trk_i[k])))\n",
    "        \n",
    "    num_trk_associated, reco_vtx_i = zip(*sorted(zip(num_trk_associated, reco_vtx_i), reverse=True))\n",
    "    bestRecoHSvtx_truth = reco_vtx_i[0]\n",
    "    \n",
    "    hs_dist = dist_cal(truth_HSvtx_i, bestRecoHSvtx_truth)\n",
    "\n",
    "    Reco = hs_dist <= 0.1 \n",
    "    Sel = bestRecoHSvtx_truth == reco_HSvtx_i\n",
    "    TEff_Reco.Fill(Reco, localPUDensity_i)\n",
    "    TEff_Sel.Fill(Reco and Sel, localPUDensity_i)\n",
    "    \n",
    "    LongDist = truth_HSvtx_i[2] - reco_HSvtx_i[2]\n",
    "    TranDist = np.sqrt( (truth_HSvtx_i[0] - reco_HSvtx_i[0]) ** 2 + (truth_HSvtx_i[1] - reco_HSvtx_i[1]) ** 2 )\n",
    "    \n",
    "    Long_Reso.Fill(LongDist, localPUDensity_i)\n",
    "    Tran_Reso.Fill(TranDist, localPUDensity_i)\n",
    "c.Divide(2, 2)\n",
    "c.cd(1); TEff_Reco.Draw()\n",
    "c.cd(2); TEff_Sel.Draw()\n",
    "c.cd(3); Long_Reso.Draw()\n",
    "c.cd(4); Tran_Reso.Draw()\n",
    "c.Draw()\n",
    "\n",
    "time_elapsed = (time.time() - time_start)\n",
    "print('time_elapsed:',time_elapsed, 'seconds')"
   ]
  },
  {
   "cell_type": "code",
   "execution_count": null,
   "metadata": {},
   "outputs": [],
   "source": []
  }
 ],
 "metadata": {
  "kernelspec": {
   "display_name": "Python 3 (ipykernel)",
   "language": "python",
   "name": "python3"
  },
  "language_info": {
   "codemirror_mode": {
    "name": "ipython",
    "version": 3
   },
   "file_extension": ".py",
   "mimetype": "text/x-python",
   "name": "python",
   "nbconvert_exporter": "python",
   "pygments_lexer": "ipython3",
   "version": "3.8.10"
  }
 },
 "nbformat": 4,
 "nbformat_minor": 4
}
